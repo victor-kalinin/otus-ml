{
 "cells": [
  {
   "cell_type": "markdown",
   "metadata": {},
   "source": [
    "# ДЗ #4. Feature engineering & advanced preprocessing <a id=\"0\"></a>\n",
    "\n",
    "### Использованный датасет: https://archive.ics.uci.edu/ml/datasets/IDA2016Challenge"
   ]
  },
  {
   "cell_type": "markdown",
   "metadata": {},
   "source": [
    "* [Загрузка и подготовка данных](#1)\n",
    "* [Базовые статистики датасета](#2)\n",
    "* [Процедуры для тестирования качества модели](#3)\n",
    "* [Route #1](#4)\n",
    "    * Baseline \n",
    "    * Определим и удалим сильноскоррелированные признаки\n",
    "    * Определим и устраним дисбаланс классов целевой переменной\n",
    "    * Применим log(x+1) к данным\n",
    "    * Вывод\n",
    "* [Route #2](#5)\n",
    "    * Baseline \n",
    "    * Определим и удалим сильноскоррелированные признаки\n",
    "    * Определим и устраним дисбаланс классов целевой переменной\n",
    "    * Определим 10 популярных features и сократим модель\n",
    "    * Применим log(x+1) к данным\n",
    "    * Вывод\n",
    "* [Итоговое заключение](#6)"
   ]
  },
  {
   "cell_type": "code",
   "execution_count": 1,
   "metadata": {},
   "outputs": [],
   "source": [
    "# Импорт основных библиотек\n",
    "import os\n",
    "import warnings\n",
    "\n",
    "import pandas as pd\n",
    "import numpy as np\n",
    "import matplotlib.pyplot as plt\n",
    "import seaborn as sns\n",
    "\n",
    "%matplotlib inline\n",
    "warnings.filterwarnings(\"ignore\")\n",
    "np.random.seed(42)"
   ]
  },
  {
   "cell_type": "markdown",
   "metadata": {},
   "source": [
    "<a id=\"1\"></a>\n",
    "## Загрузка и подготовка данных [(Наверх)](#0) "
   ]
  },
  {
   "cell_type": "markdown",
   "metadata": {},
   "source": [
    "### Заметим, что: \n",
    "* все данные упакованы в архив\n",
    "* архив состоит из двух датасетов (train, test)\n",
    "* перед данным содержится copyright, занимающий 20 строк\n",
    "* Значения NaN представлены как 'na'"
   ]
  },
  {
   "cell_type": "code",
   "execution_count": 2,
   "metadata": {},
   "outputs": [],
   "source": [
    "# Напишем процедуру для получения архива и его распаковки\n",
    "def get_and_unzip(file_url, output_dir=''):\n",
    "    ''' Получает zip-архив с данными, распаковывает и возвращает имена файлов\n",
    "\n",
    "        Arguments:\n",
    "            file_url   {str}  - web-адрес архива\n",
    "            output_dir {str}  - имя каталога для распаковки файлов (если не задано, \n",
    "                                то распаковка в текущий)\n",
    "\n",
    "        Returns:\n",
    "            Возвращает list() с именами файлов с сортировкой по убыванию размера\n",
    "\n",
    "    '''\n",
    "    from zipfile import ZipFile\n",
    "    import requests\n",
    "    \n",
    "    output_list = []\n",
    "    \n",
    "    if output_dir:\n",
    "        if not os.path.exists(output_dir) and not os.path.isfile(output_dir):\n",
    "            os.mkdir(output_dir)\n",
    "        \n",
    "    req = requests.get(file_url, stream=True)\n",
    "    z_temp = os.path.join(output_dir, '_zipfile.zip')\n",
    "\n",
    "    with open(z_temp,'wb') as f:\n",
    "        for chunk in req.iter_content(chunk_size=1024):\n",
    "            if chunk:\n",
    "                f.write(chunk)\n",
    "                \n",
    "    zf = ZipFile(z_temp)\n",
    "    zf_list = list(filter(lambda x: not x.is_dir(), zf.infolist()))\n",
    "    zf_list.sort(key=lambda x: x.file_size, reverse=True)\n",
    "    \n",
    "    for f_ in zf_list:\n",
    "        zf.extract(f_, path=output_dir)\n",
    "        output_list.append(f_.filename)\n",
    "    \n",
    "    zf.close()\n",
    "    os.remove(z_temp)\n",
    "    \n",
    "    return output_list"
   ]
  },
  {
   "cell_type": "code",
   "execution_count": 3,
   "metadata": {},
   "outputs": [],
   "source": [
    "url = 'https://archive.ics.uci.edu/ml/machine-learning-databases/00414/to_uci.zip'\n",
    "filename = './data/scania.csv'\n",
    "tempdir = 'temp'\n",
    "\n",
    "if not os.path.exists(filename):\n",
    "    # Скачаем и распакуем архив, получим список файлов\n",
    "    sets_list = get_and_unzip(url, tempdir)\n",
    "    \n",
    "    # Загрузим датасеты с учетом представленного значения NaN и удалим copyright\n",
    "    set1 = pd.read_csv(os.path.join(tempdir, sets_list[0]), skiprows=20, na_values='na')\n",
    "    set2 = pd.read_csv(os.path.join(tempdir, sets_list[1]), skiprows=20, na_values='na')\n",
    "    \n",
    "    # Объединим датасеты (train, test) в один\n",
    "    scania_df = pd.concat([set1, set2], sort=False)\n",
    "    scania_df.to_csv(filename, index=False)\n",
    "\n",
    "else:\n",
    "    scania_df = pd.read_csv(filename)"
   ]
  },
  {
   "cell_type": "code",
   "execution_count": 4,
   "metadata": {},
   "outputs": [
    {
     "data": {
      "text/html": [
       "<div>\n",
       "<style scoped>\n",
       "    .dataframe tbody tr th:only-of-type {\n",
       "        vertical-align: middle;\n",
       "    }\n",
       "\n",
       "    .dataframe tbody tr th {\n",
       "        vertical-align: top;\n",
       "    }\n",
       "\n",
       "    .dataframe thead th {\n",
       "        text-align: right;\n",
       "    }\n",
       "</style>\n",
       "<table border=\"1\" class=\"dataframe\">\n",
       "  <thead>\n",
       "    <tr style=\"text-align: right;\">\n",
       "      <th></th>\n",
       "      <th>class</th>\n",
       "      <th>aa_000</th>\n",
       "      <th>ab_000</th>\n",
       "      <th>ac_000</th>\n",
       "      <th>ad_000</th>\n",
       "      <th>ae_000</th>\n",
       "      <th>af_000</th>\n",
       "      <th>ag_000</th>\n",
       "      <th>ag_001</th>\n",
       "      <th>ag_002</th>\n",
       "      <th>...</th>\n",
       "      <th>ee_002</th>\n",
       "      <th>ee_003</th>\n",
       "      <th>ee_004</th>\n",
       "      <th>ee_005</th>\n",
       "      <th>ee_006</th>\n",
       "      <th>ee_007</th>\n",
       "      <th>ee_008</th>\n",
       "      <th>ee_009</th>\n",
       "      <th>ef_000</th>\n",
       "      <th>eg_000</th>\n",
       "    </tr>\n",
       "  </thead>\n",
       "  <tbody>\n",
       "    <tr>\n",
       "      <th>0</th>\n",
       "      <td>neg</td>\n",
       "      <td>76698</td>\n",
       "      <td>NaN</td>\n",
       "      <td>2.130706e+09</td>\n",
       "      <td>280.0</td>\n",
       "      <td>0.0</td>\n",
       "      <td>0.0</td>\n",
       "      <td>0.0</td>\n",
       "      <td>0.0</td>\n",
       "      <td>0.0</td>\n",
       "      <td>...</td>\n",
       "      <td>1240520.0</td>\n",
       "      <td>493384.0</td>\n",
       "      <td>721044.0</td>\n",
       "      <td>469792.0</td>\n",
       "      <td>339156.0</td>\n",
       "      <td>157956.0</td>\n",
       "      <td>73224.0</td>\n",
       "      <td>0.0</td>\n",
       "      <td>0.0</td>\n",
       "      <td>0.0</td>\n",
       "    </tr>\n",
       "    <tr>\n",
       "      <th>1</th>\n",
       "      <td>neg</td>\n",
       "      <td>33058</td>\n",
       "      <td>NaN</td>\n",
       "      <td>0.000000e+00</td>\n",
       "      <td>NaN</td>\n",
       "      <td>0.0</td>\n",
       "      <td>0.0</td>\n",
       "      <td>0.0</td>\n",
       "      <td>0.0</td>\n",
       "      <td>0.0</td>\n",
       "      <td>...</td>\n",
       "      <td>421400.0</td>\n",
       "      <td>178064.0</td>\n",
       "      <td>293306.0</td>\n",
       "      <td>245416.0</td>\n",
       "      <td>133654.0</td>\n",
       "      <td>81140.0</td>\n",
       "      <td>97576.0</td>\n",
       "      <td>1500.0</td>\n",
       "      <td>0.0</td>\n",
       "      <td>0.0</td>\n",
       "    </tr>\n",
       "    <tr>\n",
       "      <th>2</th>\n",
       "      <td>neg</td>\n",
       "      <td>41040</td>\n",
       "      <td>NaN</td>\n",
       "      <td>2.280000e+02</td>\n",
       "      <td>100.0</td>\n",
       "      <td>0.0</td>\n",
       "      <td>0.0</td>\n",
       "      <td>0.0</td>\n",
       "      <td>0.0</td>\n",
       "      <td>0.0</td>\n",
       "      <td>...</td>\n",
       "      <td>277378.0</td>\n",
       "      <td>159812.0</td>\n",
       "      <td>423992.0</td>\n",
       "      <td>409564.0</td>\n",
       "      <td>320746.0</td>\n",
       "      <td>158022.0</td>\n",
       "      <td>95128.0</td>\n",
       "      <td>514.0</td>\n",
       "      <td>0.0</td>\n",
       "      <td>0.0</td>\n",
       "    </tr>\n",
       "    <tr>\n",
       "      <th>3</th>\n",
       "      <td>neg</td>\n",
       "      <td>12</td>\n",
       "      <td>0.0</td>\n",
       "      <td>7.000000e+01</td>\n",
       "      <td>66.0</td>\n",
       "      <td>0.0</td>\n",
       "      <td>10.0</td>\n",
       "      <td>0.0</td>\n",
       "      <td>0.0</td>\n",
       "      <td>0.0</td>\n",
       "      <td>...</td>\n",
       "      <td>240.0</td>\n",
       "      <td>46.0</td>\n",
       "      <td>58.0</td>\n",
       "      <td>44.0</td>\n",
       "      <td>10.0</td>\n",
       "      <td>0.0</td>\n",
       "      <td>0.0</td>\n",
       "      <td>0.0</td>\n",
       "      <td>4.0</td>\n",
       "      <td>32.0</td>\n",
       "    </tr>\n",
       "    <tr>\n",
       "      <th>4</th>\n",
       "      <td>neg</td>\n",
       "      <td>60874</td>\n",
       "      <td>NaN</td>\n",
       "      <td>1.368000e+03</td>\n",
       "      <td>458.0</td>\n",
       "      <td>0.0</td>\n",
       "      <td>0.0</td>\n",
       "      <td>0.0</td>\n",
       "      <td>0.0</td>\n",
       "      <td>0.0</td>\n",
       "      <td>...</td>\n",
       "      <td>622012.0</td>\n",
       "      <td>229790.0</td>\n",
       "      <td>405298.0</td>\n",
       "      <td>347188.0</td>\n",
       "      <td>286954.0</td>\n",
       "      <td>311560.0</td>\n",
       "      <td>433954.0</td>\n",
       "      <td>1218.0</td>\n",
       "      <td>0.0</td>\n",
       "      <td>0.0</td>\n",
       "    </tr>\n",
       "    <tr>\n",
       "      <th>...</th>\n",
       "      <td>...</td>\n",
       "      <td>...</td>\n",
       "      <td>...</td>\n",
       "      <td>...</td>\n",
       "      <td>...</td>\n",
       "      <td>...</td>\n",
       "      <td>...</td>\n",
       "      <td>...</td>\n",
       "      <td>...</td>\n",
       "      <td>...</td>\n",
       "      <td>...</td>\n",
       "      <td>...</td>\n",
       "      <td>...</td>\n",
       "      <td>...</td>\n",
       "      <td>...</td>\n",
       "      <td>...</td>\n",
       "      <td>...</td>\n",
       "      <td>...</td>\n",
       "      <td>...</td>\n",
       "      <td>...</td>\n",
       "      <td>...</td>\n",
       "    </tr>\n",
       "    <tr>\n",
       "      <th>75995</th>\n",
       "      <td>neg</td>\n",
       "      <td>81852</td>\n",
       "      <td>NaN</td>\n",
       "      <td>2.130706e+09</td>\n",
       "      <td>892.0</td>\n",
       "      <td>0.0</td>\n",
       "      <td>0.0</td>\n",
       "      <td>0.0</td>\n",
       "      <td>0.0</td>\n",
       "      <td>0.0</td>\n",
       "      <td>...</td>\n",
       "      <td>632658.0</td>\n",
       "      <td>273242.0</td>\n",
       "      <td>510354.0</td>\n",
       "      <td>373918.0</td>\n",
       "      <td>349840.0</td>\n",
       "      <td>317840.0</td>\n",
       "      <td>960024.0</td>\n",
       "      <td>25566.0</td>\n",
       "      <td>0.0</td>\n",
       "      <td>0.0</td>\n",
       "    </tr>\n",
       "    <tr>\n",
       "      <th>75996</th>\n",
       "      <td>neg</td>\n",
       "      <td>18</td>\n",
       "      <td>0.0</td>\n",
       "      <td>5.200000e+01</td>\n",
       "      <td>46.0</td>\n",
       "      <td>8.0</td>\n",
       "      <td>26.0</td>\n",
       "      <td>0.0</td>\n",
       "      <td>0.0</td>\n",
       "      <td>0.0</td>\n",
       "      <td>...</td>\n",
       "      <td>266.0</td>\n",
       "      <td>44.0</td>\n",
       "      <td>46.0</td>\n",
       "      <td>14.0</td>\n",
       "      <td>2.0</td>\n",
       "      <td>0.0</td>\n",
       "      <td>0.0</td>\n",
       "      <td>0.0</td>\n",
       "      <td>0.0</td>\n",
       "      <td>0.0</td>\n",
       "    </tr>\n",
       "    <tr>\n",
       "      <th>75997</th>\n",
       "      <td>neg</td>\n",
       "      <td>79636</td>\n",
       "      <td>NaN</td>\n",
       "      <td>1.670000e+03</td>\n",
       "      <td>1518.0</td>\n",
       "      <td>0.0</td>\n",
       "      <td>0.0</td>\n",
       "      <td>0.0</td>\n",
       "      <td>0.0</td>\n",
       "      <td>0.0</td>\n",
       "      <td>...</td>\n",
       "      <td>806832.0</td>\n",
       "      <td>449962.0</td>\n",
       "      <td>778826.0</td>\n",
       "      <td>581558.0</td>\n",
       "      <td>375498.0</td>\n",
       "      <td>222866.0</td>\n",
       "      <td>358934.0</td>\n",
       "      <td>19548.0</td>\n",
       "      <td>0.0</td>\n",
       "      <td>0.0</td>\n",
       "    </tr>\n",
       "    <tr>\n",
       "      <th>75998</th>\n",
       "      <td>neg</td>\n",
       "      <td>110</td>\n",
       "      <td>NaN</td>\n",
       "      <td>3.600000e+01</td>\n",
       "      <td>32.0</td>\n",
       "      <td>0.0</td>\n",
       "      <td>0.0</td>\n",
       "      <td>0.0</td>\n",
       "      <td>0.0</td>\n",
       "      <td>0.0</td>\n",
       "      <td>...</td>\n",
       "      <td>588.0</td>\n",
       "      <td>210.0</td>\n",
       "      <td>180.0</td>\n",
       "      <td>544.0</td>\n",
       "      <td>1004.0</td>\n",
       "      <td>1338.0</td>\n",
       "      <td>74.0</td>\n",
       "      <td>0.0</td>\n",
       "      <td>0.0</td>\n",
       "      <td>0.0</td>\n",
       "    </tr>\n",
       "    <tr>\n",
       "      <th>75999</th>\n",
       "      <td>neg</td>\n",
       "      <td>8</td>\n",
       "      <td>0.0</td>\n",
       "      <td>6.000000e+00</td>\n",
       "      <td>4.0</td>\n",
       "      <td>2.0</td>\n",
       "      <td>2.0</td>\n",
       "      <td>0.0</td>\n",
       "      <td>0.0</td>\n",
       "      <td>0.0</td>\n",
       "      <td>...</td>\n",
       "      <td>46.0</td>\n",
       "      <td>10.0</td>\n",
       "      <td>48.0</td>\n",
       "      <td>14.0</td>\n",
       "      <td>42.0</td>\n",
       "      <td>46.0</td>\n",
       "      <td>0.0</td>\n",
       "      <td>0.0</td>\n",
       "      <td>0.0</td>\n",
       "      <td>0.0</td>\n",
       "    </tr>\n",
       "  </tbody>\n",
       "</table>\n",
       "<p>76000 rows × 171 columns</p>\n",
       "</div>"
      ],
      "text/plain": [
       "      class  aa_000  ab_000        ac_000  ad_000  ae_000  af_000  ag_000  \\\n",
       "0       neg   76698     NaN  2.130706e+09   280.0     0.0     0.0     0.0   \n",
       "1       neg   33058     NaN  0.000000e+00     NaN     0.0     0.0     0.0   \n",
       "2       neg   41040     NaN  2.280000e+02   100.0     0.0     0.0     0.0   \n",
       "3       neg      12     0.0  7.000000e+01    66.0     0.0    10.0     0.0   \n",
       "4       neg   60874     NaN  1.368000e+03   458.0     0.0     0.0     0.0   \n",
       "...     ...     ...     ...           ...     ...     ...     ...     ...   \n",
       "75995   neg   81852     NaN  2.130706e+09   892.0     0.0     0.0     0.0   \n",
       "75996   neg      18     0.0  5.200000e+01    46.0     8.0    26.0     0.0   \n",
       "75997   neg   79636     NaN  1.670000e+03  1518.0     0.0     0.0     0.0   \n",
       "75998   neg     110     NaN  3.600000e+01    32.0     0.0     0.0     0.0   \n",
       "75999   neg       8     0.0  6.000000e+00     4.0     2.0     2.0     0.0   \n",
       "\n",
       "       ag_001  ag_002  ...     ee_002    ee_003    ee_004    ee_005    ee_006  \\\n",
       "0         0.0     0.0  ...  1240520.0  493384.0  721044.0  469792.0  339156.0   \n",
       "1         0.0     0.0  ...   421400.0  178064.0  293306.0  245416.0  133654.0   \n",
       "2         0.0     0.0  ...   277378.0  159812.0  423992.0  409564.0  320746.0   \n",
       "3         0.0     0.0  ...      240.0      46.0      58.0      44.0      10.0   \n",
       "4         0.0     0.0  ...   622012.0  229790.0  405298.0  347188.0  286954.0   \n",
       "...       ...     ...  ...        ...       ...       ...       ...       ...   \n",
       "75995     0.0     0.0  ...   632658.0  273242.0  510354.0  373918.0  349840.0   \n",
       "75996     0.0     0.0  ...      266.0      44.0      46.0      14.0       2.0   \n",
       "75997     0.0     0.0  ...   806832.0  449962.0  778826.0  581558.0  375498.0   \n",
       "75998     0.0     0.0  ...      588.0     210.0     180.0     544.0    1004.0   \n",
       "75999     0.0     0.0  ...       46.0      10.0      48.0      14.0      42.0   \n",
       "\n",
       "         ee_007    ee_008   ee_009  ef_000  eg_000  \n",
       "0      157956.0   73224.0      0.0     0.0     0.0  \n",
       "1       81140.0   97576.0   1500.0     0.0     0.0  \n",
       "2      158022.0   95128.0    514.0     0.0     0.0  \n",
       "3           0.0       0.0      0.0     4.0    32.0  \n",
       "4      311560.0  433954.0   1218.0     0.0     0.0  \n",
       "...         ...       ...      ...     ...     ...  \n",
       "75995  317840.0  960024.0  25566.0     0.0     0.0  \n",
       "75996       0.0       0.0      0.0     0.0     0.0  \n",
       "75997  222866.0  358934.0  19548.0     0.0     0.0  \n",
       "75998    1338.0      74.0      0.0     0.0     0.0  \n",
       "75999      46.0       0.0      0.0     0.0     0.0  \n",
       "\n",
       "[76000 rows x 171 columns]"
      ]
     },
     "execution_count": 4,
     "metadata": {},
     "output_type": "execute_result"
    }
   ],
   "source": [
    "# Проверим корректно ли загружен CSV\n",
    "scania_df"
   ]
  },
  {
   "cell_type": "markdown",
   "metadata": {},
   "source": [
    "<a id=\"2\"></a>\n",
    "## Базовые статистики датасета [(Наверх)](#0) "
   ]
  },
  {
   "cell_type": "code",
   "execution_count": 5,
   "metadata": {},
   "outputs": [
    {
     "data": {
      "text/plain": [
       "(76000, 171)"
      ]
     },
     "execution_count": 5,
     "metadata": {},
     "output_type": "execute_result"
    }
   ],
   "source": [
    "# Узнаем размер датасета\n",
    "scania_df.shape"
   ]
  },
  {
   "cell_type": "code",
   "execution_count": 6,
   "metadata": {},
   "outputs": [
    {
     "name": "stdout",
     "output_type": "stream",
     "text": [
      "<class 'pandas.core.frame.DataFrame'>\n",
      "RangeIndex: 76000 entries, 0 to 75999\n",
      "Columns: 171 entries, class to eg_000\n",
      "dtypes: float64(169), int64(1), object(1)\n",
      "memory usage: 99.2+ MB\n"
     ]
    }
   ],
   "source": [
    "# Узнаем свойства датасета\n",
    "scania_df.info()"
   ]
  },
  {
   "cell_type": "code",
   "execution_count": 7,
   "metadata": {},
   "outputs": [
    {
     "data": {
      "text/plain": [
       "0"
      ]
     },
     "execution_count": 7,
     "metadata": {},
     "output_type": "execute_result"
    }
   ],
   "source": [
    "# Проверим на дубликаты и удалим если есть\n",
    "scania_df.drop_duplicates(inplace=True)\n",
    "scania_df.duplicated().sum()"
   ]
  },
  {
   "cell_type": "code",
   "execution_count": 8,
   "metadata": {},
   "outputs": [
    {
     "data": {
      "text/plain": [
       "class         0\n",
       "aa_000        0\n",
       "ab_000    58692\n",
       "ac_000     4261\n",
       "ad_000    18842\n",
       "          ...  \n",
       "ee_007      863\n",
       "ee_008      863\n",
       "ee_009      863\n",
       "ef_000     3486\n",
       "eg_000     3485\n",
       "Length: 171, dtype: int64"
      ]
     },
     "execution_count": 8,
     "metadata": {},
     "output_type": "execute_result"
    }
   ],
   "source": [
    "# Проверим на наличие пустых данных\n",
    "scania_df.isnull().sum()"
   ]
  },
  {
   "cell_type": "code",
   "execution_count": 9,
   "metadata": {},
   "outputs": [
    {
     "data": {
      "text/html": [
       "<div>\n",
       "<style scoped>\n",
       "    .dataframe tbody tr th:only-of-type {\n",
       "        vertical-align: middle;\n",
       "    }\n",
       "\n",
       "    .dataframe tbody tr th {\n",
       "        vertical-align: top;\n",
       "    }\n",
       "\n",
       "    .dataframe thead th {\n",
       "        text-align: right;\n",
       "    }\n",
       "</style>\n",
       "<table border=\"1\" class=\"dataframe\">\n",
       "  <thead>\n",
       "    <tr style=\"text-align: right;\">\n",
       "      <th></th>\n",
       "      <th>aa_000</th>\n",
       "      <th>ab_000</th>\n",
       "      <th>ac_000</th>\n",
       "      <th>ad_000</th>\n",
       "      <th>ae_000</th>\n",
       "      <th>af_000</th>\n",
       "      <th>ag_000</th>\n",
       "      <th>ag_001</th>\n",
       "      <th>ag_002</th>\n",
       "      <th>ag_003</th>\n",
       "      <th>...</th>\n",
       "      <th>ee_002</th>\n",
       "      <th>ee_003</th>\n",
       "      <th>ee_004</th>\n",
       "      <th>ee_005</th>\n",
       "      <th>ee_006</th>\n",
       "      <th>ee_007</th>\n",
       "      <th>ee_008</th>\n",
       "      <th>ee_009</th>\n",
       "      <th>ef_000</th>\n",
       "      <th>eg_000</th>\n",
       "    </tr>\n",
       "  </thead>\n",
       "  <tbody>\n",
       "    <tr>\n",
       "      <th>count</th>\n",
       "      <td>7.600000e+04</td>\n",
       "      <td>17308.000000</td>\n",
       "      <td>7.173900e+04</td>\n",
       "      <td>5.715800e+04</td>\n",
       "      <td>72810.000000</td>\n",
       "      <td>72810.000000</td>\n",
       "      <td>7.514000e+04</td>\n",
       "      <td>7.514000e+04</td>\n",
       "      <td>7.514000e+04</td>\n",
       "      <td>7.514000e+04</td>\n",
       "      <td>...</td>\n",
       "      <td>7.513700e+04</td>\n",
       "      <td>7.513700e+04</td>\n",
       "      <td>7.513700e+04</td>\n",
       "      <td>7.513700e+04</td>\n",
       "      <td>7.513700e+04</td>\n",
       "      <td>7.513700e+04</td>\n",
       "      <td>7.513700e+04</td>\n",
       "      <td>7.513700e+04</td>\n",
       "      <td>72514.000000</td>\n",
       "      <td>72515.000000</td>\n",
       "    </tr>\n",
       "    <tr>\n",
       "      <th>mean</th>\n",
       "      <td>6.115976e+04</td>\n",
       "      <td>0.725560</td>\n",
       "      <td>3.564398e+08</td>\n",
       "      <td>1.506300e+05</td>\n",
       "      <td>6.736959</td>\n",
       "      <td>10.836314</td>\n",
       "      <td>2.004306e+02</td>\n",
       "      <td>1.204761e+03</td>\n",
       "      <td>9.697328e+03</td>\n",
       "      <td>9.364902e+04</td>\n",
       "      <td>...</td>\n",
       "      <td>4.495763e+05</td>\n",
       "      <td>2.132460e+05</td>\n",
       "      <td>4.506478e+05</td>\n",
       "      <td>4.006204e+05</td>\n",
       "      <td>3.378689e+05</td>\n",
       "      <td>3.475611e+05</td>\n",
       "      <td>1.398968e+05</td>\n",
       "      <td>8.424984e+03</td>\n",
       "      <td>0.085197</td>\n",
       "      <td>0.219044</td>\n",
       "    </tr>\n",
       "    <tr>\n",
       "      <th>std</th>\n",
       "      <td>2.647366e+05</td>\n",
       "      <td>3.311913</td>\n",
       "      <td>7.952530e+08</td>\n",
       "      <td>3.590593e+07</td>\n",
       "      <td>153.446469</td>\n",
       "      <td>201.594853</td>\n",
       "      <td>1.843612e+04</td>\n",
       "      <td>5.099091e+04</td>\n",
       "      <td>1.718996e+05</td>\n",
       "      <td>8.244157e+05</td>\n",
       "      <td>...</td>\n",
       "      <td>1.177226e+06</td>\n",
       "      <td>5.518865e+05</td>\n",
       "      <td>1.189909e+06</td>\n",
       "      <td>1.151635e+06</td>\n",
       "      <td>1.097909e+06</td>\n",
       "      <td>1.707593e+06</td>\n",
       "      <td>4.692327e+05</td>\n",
       "      <td>4.875440e+04</td>\n",
       "      <td>4.179600</td>\n",
       "      <td>10.237051</td>\n",
       "    </tr>\n",
       "    <tr>\n",
       "      <th>min</th>\n",
       "      <td>0.000000e+00</td>\n",
       "      <td>0.000000</td>\n",
       "      <td>0.000000e+00</td>\n",
       "      <td>0.000000e+00</td>\n",
       "      <td>0.000000</td>\n",
       "      <td>0.000000</td>\n",
       "      <td>0.000000e+00</td>\n",
       "      <td>0.000000e+00</td>\n",
       "      <td>0.000000e+00</td>\n",
       "      <td>0.000000e+00</td>\n",
       "      <td>...</td>\n",
       "      <td>0.000000e+00</td>\n",
       "      <td>0.000000e+00</td>\n",
       "      <td>0.000000e+00</td>\n",
       "      <td>0.000000e+00</td>\n",
       "      <td>0.000000e+00</td>\n",
       "      <td>0.000000e+00</td>\n",
       "      <td>0.000000e+00</td>\n",
       "      <td>0.000000e+00</td>\n",
       "      <td>0.000000</td>\n",
       "      <td>0.000000</td>\n",
       "    </tr>\n",
       "    <tr>\n",
       "      <th>25%</th>\n",
       "      <td>8.600000e+02</td>\n",
       "      <td>0.000000</td>\n",
       "      <td>1.600000e+01</td>\n",
       "      <td>2.400000e+01</td>\n",
       "      <td>0.000000</td>\n",
       "      <td>0.000000</td>\n",
       "      <td>0.000000e+00</td>\n",
       "      <td>0.000000e+00</td>\n",
       "      <td>0.000000e+00</td>\n",
       "      <td>0.000000e+00</td>\n",
       "      <td>...</td>\n",
       "      <td>2.986000e+03</td>\n",
       "      <td>1.184000e+03</td>\n",
       "      <td>2.730000e+03</td>\n",
       "      <td>3.646000e+03</td>\n",
       "      <td>5.300000e+02</td>\n",
       "      <td>1.120000e+02</td>\n",
       "      <td>0.000000e+00</td>\n",
       "      <td>0.000000e+00</td>\n",
       "      <td>0.000000</td>\n",
       "      <td>0.000000</td>\n",
       "    </tr>\n",
       "    <tr>\n",
       "      <th>50%</th>\n",
       "      <td>3.081300e+04</td>\n",
       "      <td>0.000000</td>\n",
       "      <td>1.540000e+02</td>\n",
       "      <td>1.280000e+02</td>\n",
       "      <td>0.000000</td>\n",
       "      <td>0.000000</td>\n",
       "      <td>0.000000e+00</td>\n",
       "      <td>0.000000e+00</td>\n",
       "      <td>0.000000e+00</td>\n",
       "      <td>0.000000e+00</td>\n",
       "      <td>...</td>\n",
       "      <td>2.354480e+05</td>\n",
       "      <td>1.126720e+05</td>\n",
       "      <td>2.230020e+05</td>\n",
       "      <td>1.909860e+05</td>\n",
       "      <td>9.353600e+04</td>\n",
       "      <td>4.126000e+04</td>\n",
       "      <td>3.862000e+03</td>\n",
       "      <td>0.000000e+00</td>\n",
       "      <td>0.000000</td>\n",
       "      <td>0.000000</td>\n",
       "    </tr>\n",
       "    <tr>\n",
       "      <th>75%</th>\n",
       "      <td>4.884000e+04</td>\n",
       "      <td>0.000000</td>\n",
       "      <td>9.700000e+02</td>\n",
       "      <td>4.300000e+02</td>\n",
       "      <td>0.000000</td>\n",
       "      <td>0.000000</td>\n",
       "      <td>0.000000e+00</td>\n",
       "      <td>0.000000e+00</td>\n",
       "      <td>0.000000e+00</td>\n",
       "      <td>0.000000e+00</td>\n",
       "      <td>...</td>\n",
       "      <td>4.386740e+05</td>\n",
       "      <td>2.184100e+05</td>\n",
       "      <td>4.676340e+05</td>\n",
       "      <td>4.032900e+05</td>\n",
       "      <td>2.761800e+05</td>\n",
       "      <td>1.680460e+05</td>\n",
       "      <td>1.395000e+05</td>\n",
       "      <td>2.000000e+03</td>\n",
       "      <td>0.000000</td>\n",
       "      <td>0.000000</td>\n",
       "    </tr>\n",
       "    <tr>\n",
       "      <th>max</th>\n",
       "      <td>4.294967e+07</td>\n",
       "      <td>204.000000</td>\n",
       "      <td>2.130707e+09</td>\n",
       "      <td>8.584298e+09</td>\n",
       "      <td>21050.000000</td>\n",
       "      <td>20070.000000</td>\n",
       "      <td>3.376892e+06</td>\n",
       "      <td>1.047252e+07</td>\n",
       "      <td>1.914916e+07</td>\n",
       "      <td>7.305747e+07</td>\n",
       "      <td>...</td>\n",
       "      <td>7.793393e+07</td>\n",
       "      <td>3.775839e+07</td>\n",
       "      <td>9.715238e+07</td>\n",
       "      <td>5.743524e+07</td>\n",
       "      <td>4.215944e+07</td>\n",
       "      <td>1.195801e+08</td>\n",
       "      <td>1.926740e+07</td>\n",
       "      <td>4.570398e+06</td>\n",
       "      <td>482.000000</td>\n",
       "      <td>1720.000000</td>\n",
       "    </tr>\n",
       "  </tbody>\n",
       "</table>\n",
       "<p>8 rows × 170 columns</p>\n",
       "</div>"
      ],
      "text/plain": [
       "             aa_000        ab_000        ac_000        ad_000        ae_000  \\\n",
       "count  7.600000e+04  17308.000000  7.173900e+04  5.715800e+04  72810.000000   \n",
       "mean   6.115976e+04      0.725560  3.564398e+08  1.506300e+05      6.736959   \n",
       "std    2.647366e+05      3.311913  7.952530e+08  3.590593e+07    153.446469   \n",
       "min    0.000000e+00      0.000000  0.000000e+00  0.000000e+00      0.000000   \n",
       "25%    8.600000e+02      0.000000  1.600000e+01  2.400000e+01      0.000000   \n",
       "50%    3.081300e+04      0.000000  1.540000e+02  1.280000e+02      0.000000   \n",
       "75%    4.884000e+04      0.000000  9.700000e+02  4.300000e+02      0.000000   \n",
       "max    4.294967e+07    204.000000  2.130707e+09  8.584298e+09  21050.000000   \n",
       "\n",
       "             af_000        ag_000        ag_001        ag_002        ag_003  \\\n",
       "count  72810.000000  7.514000e+04  7.514000e+04  7.514000e+04  7.514000e+04   \n",
       "mean      10.836314  2.004306e+02  1.204761e+03  9.697328e+03  9.364902e+04   \n",
       "std      201.594853  1.843612e+04  5.099091e+04  1.718996e+05  8.244157e+05   \n",
       "min        0.000000  0.000000e+00  0.000000e+00  0.000000e+00  0.000000e+00   \n",
       "25%        0.000000  0.000000e+00  0.000000e+00  0.000000e+00  0.000000e+00   \n",
       "50%        0.000000  0.000000e+00  0.000000e+00  0.000000e+00  0.000000e+00   \n",
       "75%        0.000000  0.000000e+00  0.000000e+00  0.000000e+00  0.000000e+00   \n",
       "max    20070.000000  3.376892e+06  1.047252e+07  1.914916e+07  7.305747e+07   \n",
       "\n",
       "       ...        ee_002        ee_003        ee_004        ee_005  \\\n",
       "count  ...  7.513700e+04  7.513700e+04  7.513700e+04  7.513700e+04   \n",
       "mean   ...  4.495763e+05  2.132460e+05  4.506478e+05  4.006204e+05   \n",
       "std    ...  1.177226e+06  5.518865e+05  1.189909e+06  1.151635e+06   \n",
       "min    ...  0.000000e+00  0.000000e+00  0.000000e+00  0.000000e+00   \n",
       "25%    ...  2.986000e+03  1.184000e+03  2.730000e+03  3.646000e+03   \n",
       "50%    ...  2.354480e+05  1.126720e+05  2.230020e+05  1.909860e+05   \n",
       "75%    ...  4.386740e+05  2.184100e+05  4.676340e+05  4.032900e+05   \n",
       "max    ...  7.793393e+07  3.775839e+07  9.715238e+07  5.743524e+07   \n",
       "\n",
       "             ee_006        ee_007        ee_008        ee_009        ef_000  \\\n",
       "count  7.513700e+04  7.513700e+04  7.513700e+04  7.513700e+04  72514.000000   \n",
       "mean   3.378689e+05  3.475611e+05  1.398968e+05  8.424984e+03      0.085197   \n",
       "std    1.097909e+06  1.707593e+06  4.692327e+05  4.875440e+04      4.179600   \n",
       "min    0.000000e+00  0.000000e+00  0.000000e+00  0.000000e+00      0.000000   \n",
       "25%    5.300000e+02  1.120000e+02  0.000000e+00  0.000000e+00      0.000000   \n",
       "50%    9.353600e+04  4.126000e+04  3.862000e+03  0.000000e+00      0.000000   \n",
       "75%    2.761800e+05  1.680460e+05  1.395000e+05  2.000000e+03      0.000000   \n",
       "max    4.215944e+07  1.195801e+08  1.926740e+07  4.570398e+06    482.000000   \n",
       "\n",
       "             eg_000  \n",
       "count  72515.000000  \n",
       "mean       0.219044  \n",
       "std       10.237051  \n",
       "min        0.000000  \n",
       "25%        0.000000  \n",
       "50%        0.000000  \n",
       "75%        0.000000  \n",
       "max     1720.000000  \n",
       "\n",
       "[8 rows x 170 columns]"
      ]
     },
     "execution_count": 9,
     "metadata": {},
     "output_type": "execute_result"
    }
   ],
   "source": [
    "scania_df.describe()"
   ]
  },
  {
   "cell_type": "markdown",
   "metadata": {},
   "source": [
    "<a id=\"3\"></a>\n",
    "## Процедуры для тестирования качества модели [(Наверх)](#0) "
   ]
  },
  {
   "cell_type": "code",
   "execution_count": 10,
   "metadata": {},
   "outputs": [],
   "source": [
    "# Импортируем библиотеки для ML\n",
    "from sklearn.preprocessing import StandardScaler, MinMaxScaler, RobustScaler\n",
    "from sklearn.model_selection import train_test_split, GridSearchCV\n",
    "from sklearn.metrics import accuracy_score, precision_score, recall_score, f1_score, roc_auc_score\n",
    "from sklearn.neighbors import KNeighborsClassifier\n",
    "from sklearn.linear_model import LogisticRegression\n",
    "from imblearn.over_sampling import SMOTE"
   ]
  },
  {
   "cell_type": "code",
   "execution_count": 11,
   "metadata": {},
   "outputs": [],
   "source": [
    "def balanced_sample(data, target_class, count=1):\n",
    "    ''' Формирует сбалансированный датасет c заданным количеством значений,\n",
    "        но не более минимального значения в 'target_class'\n",
    "        \n",
    "        Arguments:\n",
    "            data          {pd.df}  - Pandas.Dataframe\n",
    "            target_class  {str}    - Название целевой переменной \n",
    "            count         {int}    - количество значений\n",
    "\n",
    "        Returns:\n",
    "            Возвращает Pandas.Dataframe\n",
    "        \n",
    "    '''\n",
    "    output_sample = pd.DataFrame()\n",
    "    unique_values = data[target_class].value_counts()\n",
    "    \n",
    "    if count>unique_values.min(): count = unique_values.min()\n",
    "        \n",
    "    for i in unique_values.index:\n",
    "        splitted_data = data[data[target_class]==i].sample(n=count, random_state=42)\n",
    "        output_sample = pd.concat([output_sample, splitted_data])\n",
    "    \n",
    "    return output_sample"
   ]
  },
  {
   "cell_type": "code",
   "execution_count": 12,
   "metadata": {},
   "outputs": [],
   "source": [
    "def split_train_test_sets(df, target, test_size=0.3):\n",
    "    ''' Разбивает датасет на X, y сеты с заранее заданными параметрами\n",
    "\n",
    "        Arguments:\n",
    "            df      {pd.df}  - Pandas.Dataframe\n",
    "            target    {str}  - Название целевой переменной \n",
    "            test_size {0.3}  - % разбивки, по-умолчанию 70:30\n",
    "\n",
    "        Returns:\n",
    "            Возвращает X|y test, train сеты\n",
    "\n",
    "    '''\n",
    "    X_train, X_test, y_train, y_test = train_test_split(df.drop(labels=[target], axis=1),\n",
    "                                                        df[target], test_size=test_size,\n",
    "                                                        stratify=df[target], random_state=42)\n",
    "\n",
    "    return X_train, X_test, y_train, y_test"
   ]
  },
  {
   "cell_type": "code",
   "execution_count": 13,
   "metadata": {},
   "outputs": [],
   "source": [
    "# Процедура шкалирования переменных с выбором метода\n",
    "def scale_sets(X_train, X_test, scaler_type='std'):\n",
    "    if scaler_type=='std':\n",
    "        scaler = StandardScaler()\n",
    "    elif scaler_type=='m&m':\n",
    "        scaler = MinMaxScaler()\n",
    "    elif scaler_type=='rbs':\n",
    "        scaler = RobustScaler()\n",
    "        \n",
    "    scaler.fit(X_train)\n",
    "        \n",
    "    return scaler.transform(X_train), scaler.transform(X_test)"
   ]
  },
  {
   "cell_type": "code",
   "execution_count": 14,
   "metadata": {},
   "outputs": [],
   "source": [
    "# Процедура оценки качества\n",
    "def quality_report(prediction, actual):\n",
    "    output = [accuracy_score(prediction, actual),\n",
    "              precision_score(prediction, actual),\n",
    "              recall_score(prediction, actual),\n",
    "              f1_score(prediction, actual),\n",
    "              roc_auc_score(prediction, actual)]\n",
    "    \n",
    "    return output"
   ]
  },
  {
   "cell_type": "code",
   "execution_count": 15,
   "metadata": {},
   "outputs": [],
   "source": [
    "# Процедура для выбора оптимального набора параметров, используя поиск по сетке (GridSearchCV)\n",
    "def grid_cv(set_X, set_y, estimator, parameters):\n",
    "    gcv = GridSearchCV(estimator=estimator, param_grid=parameters,\n",
    "                       scoring='neg_mean_squared_error', cv=5, n_jobs=-1)\n",
    "    gcv.fit(set_X, set_y)\n",
    "    \n",
    "    return dict(best_parameters=gcv.best_params_, best_score=gcv.best_score_)"
   ]
  },
  {
   "cell_type": "code",
   "execution_count": 16,
   "metadata": {},
   "outputs": [],
   "source": [
    "def evaluate_data(test_df, target, report_df=None, classifier='both', scaler_type='std', \n",
    "                  cv=False, ovs=False, test_size=0.3, test_label='', get_params=False):\n",
    "    ''' Проводится тестирование модели и возвращается результат о качестве\n",
    "\n",
    "        Arguments:\n",
    "            test_df      {pd.df}                - Тестируемый pd.df\n",
    "            target       {string}               - Название целевой переменной\n",
    "            report_df    {pd.df}                - pd.df для добавления отчета \n",
    "            classifier   {'logr'|'knn'|'both'}  - Вид модели\n",
    "            scaler_type  {'std'|'m&m'|'rbs'}    - Вариант шкалирования\n",
    "            cv           {True|False}           - Использовать GridCV\n",
    "            ovs          {True|False}           - Использовать over_sampling\n",
    "            test_size    {0.3}                  - % разбивки, по-умолчанию 70:30\n",
    "            test_label   {string}               - Название теста\n",
    "            get_params   {True|False}           - Вывод параметров модели в отчет\n",
    "\n",
    "        Returns:\n",
    "            Возвращает pd.df с результатами тестирования\n",
    "\n",
    "    '''    \n",
    "    # Создадим df для фиксации результатов\n",
    "    if report_df is None:\n",
    "        report_df = pd.DataFrame(columns=['Accuracy', 'Precision', 'Recall', 'F1', 'ROC-AUC', 'Best params'])\n",
    "        for col in report_df.columns[:-1]:\n",
    "            report_df[col] = report_df[col].astype('float32')\n",
    "    \n",
    "    # Подготовим наборы train/test для ML\n",
    "    X_train, X_test, y_train, y_test = split_train_test_sets(test_df, target, test_size)\n",
    "    \n",
    "    # Применение over_sampling\n",
    "    if ovs:\n",
    "        X_train, y_train = SMOTE(random_state=42).fit_resample(X_train, y_train)\n",
    "    \n",
    "    # Проведем шкалирование переменных\n",
    "    X_train_scaled, X_test_scaled = scale_sets(X_train, X_test, scaler_type)\n",
    "    \n",
    "    # Проведем моделирование logReg\n",
    "    if classifier in ('logr', 'both'):\n",
    "        log_reg = LogisticRegression()\n",
    "        if cv:\n",
    "            params = {'penalty':['l1', 'l2'], \n",
    "                      'solver':['newton-cg', 'lbfgs', 'liblinear'],\n",
    "                      'multi_class':['auto'], 'random_state':(42,), 'n_jobs':(-1,)}\n",
    "            log_reg.set_params(**grid_cv(X_train_scaled, y_train, LogisticRegression(), params)['best_parameters'])\n",
    "        log_reg.fit(X_train_scaled, y_train)\n",
    "        \n",
    "        # Запишем результаты тестирования в лог\n",
    "        qr_list = quality_report(log_reg.predict(X_test_scaled), y_test)\n",
    "        if get_params:\n",
    "            qr_list.append(log_reg.get_params())\n",
    "        else:\n",
    "            qr_list.append('')\n",
    "            \n",
    "        report_df.loc[f'{test_label} (log-reg)', :] = qr_list\n",
    "    \n",
    "    # Проведем моделирование KNN\n",
    "    if classifier in ('knn', 'both'):\n",
    "        knn = KNeighborsClassifier()   \n",
    "        if cv:\n",
    "            params = {'n_neighbors':range(5, 45), 'weights':['uniform', 'distance'], \n",
    "                      'metric':['minkowski'], 'p':[1, 2], 'n_jobs':(-1,)}\n",
    "            knn.set_params(**grid_cv(X_train_scaled, y_train, KNeighborsClassifier(), params)['best_parameters'])\n",
    "        knn.fit(X_train_scaled, y_train)\n",
    "        \n",
    "        # Запишем результаты тестирования в лог\n",
    "        qr_list = quality_report(knn.predict(X_test_scaled), y_test)\n",
    "        if get_params:\n",
    "            qr_list.append(knn.get_params())\n",
    "        else:\n",
    "            qr_list.append('')\n",
    "        \n",
    "        report_df.loc[f'{test_label} (knn)', :] =  qr_list\n",
    "\n",
    "        \n",
    "    return report_df.round(3)"
   ]
  },
  {
   "cell_type": "code",
   "execution_count": 17,
   "metadata": {},
   "outputs": [],
   "source": [
    "def important_features(data, target_class, c_array, feats_limit, penalty=\"l1\"):\n",
    "    ''' Выявляет в датасете высокоэффективные признаки с заданным ограничением\n",
    "\n",
    "        Arguments:\n",
    "            data          {pd.df}  - Pandas.Dataframe\n",
    "            target_class  {str}    - Название целевой переменной \n",
    "            c_array       {array}  - Массив с коэффициентами\n",
    "            feats_limit   {int}    - Кол-во возвращаемых признаков\n",
    "            penalty       {l1|l2}  - Тип регуляризации\n",
    "\n",
    "        Returns:\n",
    "            Возвращает list() с названиями категорий\n",
    "\n",
    "    '''\n",
    "    coefs_values = []\n",
    "    X_train, X_test, y_train, y_test = split_train_test_sets(data, target_class)\n",
    "    X_train_scaled, X_test_scaled = scale_sets(X_train, X_test)\n",
    "\n",
    "    for c in c_array:\n",
    "        model_logReg = LogisticRegression(C=c, penalty=penalty, solver=\"liblinear\")\n",
    "        model_logReg.fit(X_train_scaled, y_train)\n",
    "        coefs_values.append(model_logReg.coef_[0])\n",
    "    \n",
    "    coefs_data = pd.DataFrame(coefs_values, columns=X_train.columns).sort_index(ascending=False).reset_index(drop=True)\n",
    "    important_feats = (coefs_data != 0).sum(axis=1)\n",
    "    index_of_important_feats = important_feats[important_feats <= feats_limit].index[0]\n",
    "    row_coefs = coefs_data.loc[index_of_important_feats, :]\n",
    "    \n",
    "    return row_coefs[row_coefs != 0].index.tolist()"
   ]
  },
  {
   "cell_type": "code",
   "execution_count": 18,
   "metadata": {},
   "outputs": [],
   "source": [
    "# Процедура для получения списка сильноскореллированных полей\n",
    "def highly_correlated(corr, value):\n",
    "    corr_fields = []\n",
    "    for i in corr:\n",
    "        for j in corr.index[corr[i] >= value]:\n",
    "            if i != j and j not in corr_fields and i not in corr_fields:\n",
    "                corr_fields.append(j)\n",
    "    return corr_fields"
   ]
  },
  {
   "cell_type": "code",
   "execution_count": 19,
   "metadata": {},
   "outputs": [],
   "source": [
    "# Процедура для выделения максимального значения\n",
    "def highlight_max(s):\n",
    "    is_max = s == s.max()\n",
    "    return ['background-color: lime' if v else '' for v in is_max]"
   ]
  },
  {
   "cell_type": "markdown",
   "metadata": {},
   "source": [
    "<a id=\"4\"></a>\n",
    "## Route #1 [(Наверх)](#0) "
   ]
  },
  {
   "cell_type": "markdown",
   "metadata": {},
   "source": [
    "Очистим наш датасет от NaN путем удаления и проверим как это отразится на качестве модели"
   ]
  },
  {
   "cell_type": "code",
   "execution_count": 20,
   "metadata": {},
   "outputs": [],
   "source": [
    "# Сконвертируем целевую переменную 'class' в бинарный вид\n",
    "class_bool = {'neg':0, 'pos':1}\n",
    "scania_df['class'] = scania_df['class'].map(class_bool)"
   ]
  },
  {
   "cell_type": "markdown",
   "metadata": {},
   "source": [
    "### 1.1. Baseline "
   ]
  },
  {
   "cell_type": "code",
   "execution_count": 21,
   "metadata": {},
   "outputs": [],
   "source": [
    "# Подготовим данные к тестированию - удалим все NaN\n",
    "sdf_wo_nan = scania_df.dropna()"
   ]
  },
  {
   "cell_type": "code",
   "execution_count": 22,
   "metadata": {
    "scrolled": true
   },
   "outputs": [
    {
     "data": {
      "text/plain": [
       "(756, 171)"
      ]
     },
     "execution_count": 22,
     "metadata": {},
     "output_type": "execute_result"
    }
   ],
   "source": [
    "sdf_wo_nan.shape"
   ]
  },
  {
   "cell_type": "code",
   "execution_count": 23,
   "metadata": {
    "scrolled": true
   },
   "outputs": [
    {
     "data": {
      "text/html": [
       "<style  type=\"text/css\" >\n",
       "    #T_65cf4eec_8c54_11ea_9550_6c71d9da89a0row0_col0 {\n",
       "            background-color:  lime;\n",
       "        }    #T_65cf4eec_8c54_11ea_9550_6c71d9da89a0row0_col1 {\n",
       "            background-color:  lime;\n",
       "        }    #T_65cf4eec_8c54_11ea_9550_6c71d9da89a0row0_col3 {\n",
       "            background-color:  lime;\n",
       "        }    #T_65cf4eec_8c54_11ea_9550_6c71d9da89a0row0_col4 {\n",
       "            background-color:  lime;\n",
       "        }    #T_65cf4eec_8c54_11ea_9550_6c71d9da89a0row1_col2 {\n",
       "            background-color:  lime;\n",
       "        }</style><table id=\"T_65cf4eec_8c54_11ea_9550_6c71d9da89a0\" ><thead>    <tr>        <th class=\"blank level0\" ></th>        <th class=\"col_heading level0 col0\" >Accuracy</th>        <th class=\"col_heading level0 col1\" >Precision</th>        <th class=\"col_heading level0 col2\" >Recall</th>        <th class=\"col_heading level0 col3\" >F1</th>        <th class=\"col_heading level0 col4\" >ROC-AUC</th>    </tr></thead><tbody>\n",
       "                <tr>\n",
       "                        <th id=\"T_65cf4eec_8c54_11ea_9550_6c71d9da89a0level0_row0\" class=\"row_heading level0 row0\" >Baseline (log-reg)</th>\n",
       "                        <td id=\"T_65cf4eec_8c54_11ea_9550_6c71d9da89a0row0_col0\" class=\"data row0 col0\" >0.956000</td>\n",
       "                        <td id=\"T_65cf4eec_8c54_11ea_9550_6c71d9da89a0row0_col1\" class=\"data row0 col1\" >0.812000</td>\n",
       "                        <td id=\"T_65cf4eec_8c54_11ea_9550_6c71d9da89a0row0_col2\" class=\"data row0 col2\" >0.867000</td>\n",
       "                        <td id=\"T_65cf4eec_8c54_11ea_9550_6c71d9da89a0row0_col3\" class=\"data row0 col3\" >0.839000</td>\n",
       "                        <td id=\"T_65cf4eec_8c54_11ea_9550_6c71d9da89a0row0_col4\" class=\"data row0 col4\" >0.918000</td>\n",
       "            </tr>\n",
       "            <tr>\n",
       "                        <th id=\"T_65cf4eec_8c54_11ea_9550_6c71d9da89a0level0_row1\" class=\"row_heading level0 row1\" >Baseline (knn)</th>\n",
       "                        <td id=\"T_65cf4eec_8c54_11ea_9550_6c71d9da89a0row1_col0\" class=\"data row1 col0\" >0.912000</td>\n",
       "                        <td id=\"T_65cf4eec_8c54_11ea_9550_6c71d9da89a0row1_col1\" class=\"data row1 col1\" >0.438000</td>\n",
       "                        <td id=\"T_65cf4eec_8c54_11ea_9550_6c71d9da89a0row1_col2\" class=\"data row1 col2\" >0.875000</td>\n",
       "                        <td id=\"T_65cf4eec_8c54_11ea_9550_6c71d9da89a0row1_col3\" class=\"data row1 col3\" >0.583000</td>\n",
       "                        <td id=\"T_65cf4eec_8c54_11ea_9550_6c71d9da89a0row1_col4\" class=\"data row1 col4\" >0.895000</td>\n",
       "            </tr>\n",
       "    </tbody></table>"
      ],
      "text/plain": [
       "<pandas.io.formats.style.Styler at 0x27ca9840108>"
      ]
     },
     "execution_count": 23,
     "metadata": {},
     "output_type": "execute_result"
    }
   ],
   "source": [
    "# Запустим тестирование с базовыми настройками\n",
    "result_1 = evaluate_data(test_df=sdf_wo_nan, target='class', test_label='Baseline')\n",
    "result_1.iloc[:,0:5].style.apply(highlight_max)"
   ]
  },
  {
   "cell_type": "markdown",
   "metadata": {},
   "source": [
    "### 1.2. Определим и удалим сильноскоррелированные признаки"
   ]
  },
  {
   "cell_type": "code",
   "execution_count": 24,
   "metadata": {},
   "outputs": [],
   "source": [
    "# Создадим новый DataFrame для тестирования\n",
    "sdf_removed_hicorr = sdf_wo_nan.copy(deep=True)"
   ]
  },
  {
   "cell_type": "code",
   "execution_count": 25,
   "metadata": {},
   "outputs": [],
   "source": [
    "# Рассчитаем корреляции между признаками\n",
    "corr = sdf_removed_hicorr.corr()\n",
    "\n",
    "# Удалим из датасета сильноскоррелированные признаки (>= 0.8)\n",
    "sdf_removed_hicorr.drop(columns=highly_correlated(corr, 0.8), axis=1, inplace=True)"
   ]
  },
  {
   "cell_type": "code",
   "execution_count": 26,
   "metadata": {},
   "outputs": [
    {
     "data": {
      "text/plain": [
       "(756, 92)"
      ]
     },
     "execution_count": 26,
     "metadata": {},
     "output_type": "execute_result"
    }
   ],
   "source": [
    "sdf_removed_hicorr.shape"
   ]
  },
  {
   "cell_type": "code",
   "execution_count": 27,
   "metadata": {},
   "outputs": [
    {
     "data": {
      "image/png": "[encoded data removed]",
      "text/plain": [
       "<Figure size 1440x1440 with 100 Axes>"
      ]
     },
     "metadata": {
      "needs_background": "light"
     },
     "output_type": "display_data"
    }
   ],
   "source": [
    "sdf_removed_hicorr.hist(figsize=(20, 20));"
   ]
  },
  {
   "cell_type": "code",
   "execution_count": 28,
   "metadata": {},
   "outputs": [
    {
     "data": {
      "text/html": [
       "<style  type=\"text/css\" >\n",
       "    #T_807c8622_8c54_11ea_a28f_6c71d9da89a0row0_col1 {\n",
       "            background-color:  lime;\n",
       "        }    #T_807c8622_8c54_11ea_a28f_6c71d9da89a0row2_col0 {\n",
       "            background-color:  lime;\n",
       "        }    #T_807c8622_8c54_11ea_a28f_6c71d9da89a0row2_col1 {\n",
       "            background-color:  lime;\n",
       "        }    #T_807c8622_8c54_11ea_a28f_6c71d9da89a0row2_col3 {\n",
       "            background-color:  lime;\n",
       "        }    #T_807c8622_8c54_11ea_a28f_6c71d9da89a0row2_col4 {\n",
       "            background-color:  lime;\n",
       "        }    #T_807c8622_8c54_11ea_a28f_6c71d9da89a0row3_col2 {\n",
       "            background-color:  lime;\n",
       "        }</style><table id=\"T_807c8622_8c54_11ea_a28f_6c71d9da89a0\" ><thead>    <tr>        <th class=\"blank level0\" ></th>        <th class=\"col_heading level0 col0\" >Accuracy</th>        <th class=\"col_heading level0 col1\" >Precision</th>        <th class=\"col_heading level0 col2\" >Recall</th>        <th class=\"col_heading level0 col3\" >F1</th>        <th class=\"col_heading level0 col4\" >ROC-AUC</th>    </tr></thead><tbody>\n",
       "                <tr>\n",
       "                        <th id=\"T_807c8622_8c54_11ea_a28f_6c71d9da89a0level0_row0\" class=\"row_heading level0 row0\" >Baseline (log-reg)</th>\n",
       "                        <td id=\"T_807c8622_8c54_11ea_a28f_6c71d9da89a0row0_col0\" class=\"data row0 col0\" >0.956000</td>\n",
       "                        <td id=\"T_807c8622_8c54_11ea_a28f_6c71d9da89a0row0_col1\" class=\"data row0 col1\" >0.812000</td>\n",
       "                        <td id=\"T_807c8622_8c54_11ea_a28f_6c71d9da89a0row0_col2\" class=\"data row0 col2\" >0.867000</td>\n",
       "                        <td id=\"T_807c8622_8c54_11ea_a28f_6c71d9da89a0row0_col3\" class=\"data row0 col3\" >0.839000</td>\n",
       "                        <td id=\"T_807c8622_8c54_11ea_a28f_6c71d9da89a0row0_col4\" class=\"data row0 col4\" >0.918000</td>\n",
       "            </tr>\n",
       "            <tr>\n",
       "                        <th id=\"T_807c8622_8c54_11ea_a28f_6c71d9da89a0level0_row1\" class=\"row_heading level0 row1\" >Baseline (knn)</th>\n",
       "                        <td id=\"T_807c8622_8c54_11ea_a28f_6c71d9da89a0row1_col0\" class=\"data row1 col0\" >0.912000</td>\n",
       "                        <td id=\"T_807c8622_8c54_11ea_a28f_6c71d9da89a0row1_col1\" class=\"data row1 col1\" >0.438000</td>\n",
       "                        <td id=\"T_807c8622_8c54_11ea_a28f_6c71d9da89a0row1_col2\" class=\"data row1 col2\" >0.875000</td>\n",
       "                        <td id=\"T_807c8622_8c54_11ea_a28f_6c71d9da89a0row1_col3\" class=\"data row1 col3\" >0.583000</td>\n",
       "                        <td id=\"T_807c8622_8c54_11ea_a28f_6c71d9da89a0row1_col4\" class=\"data row1 col4\" >0.895000</td>\n",
       "            </tr>\n",
       "            <tr>\n",
       "                        <th id=\"T_807c8622_8c54_11ea_a28f_6c71d9da89a0level0_row2\" class=\"row_heading level0 row2\" >Removed hicorr STD (log-reg)</th>\n",
       "                        <td id=\"T_807c8622_8c54_11ea_a28f_6c71d9da89a0row2_col0\" class=\"data row2 col0\" >0.969000</td>\n",
       "                        <td id=\"T_807c8622_8c54_11ea_a28f_6c71d9da89a0row2_col1\" class=\"data row2 col1\" >0.812000</td>\n",
       "                        <td id=\"T_807c8622_8c54_11ea_a28f_6c71d9da89a0row2_col2\" class=\"data row2 col2\" >0.963000</td>\n",
       "                        <td id=\"T_807c8622_8c54_11ea_a28f_6c71d9da89a0row2_col3\" class=\"data row2 col3\" >0.881000</td>\n",
       "                        <td id=\"T_807c8622_8c54_11ea_a28f_6c71d9da89a0row2_col4\" class=\"data row2 col4\" >0.966000</td>\n",
       "            </tr>\n",
       "            <tr>\n",
       "                        <th id=\"T_807c8622_8c54_11ea_a28f_6c71d9da89a0level0_row3\" class=\"row_heading level0 row3\" >Removed hicorr STD (knn)</th>\n",
       "                        <td id=\"T_807c8622_8c54_11ea_a28f_6c71d9da89a0row3_col0\" class=\"data row3 col0\" >0.916000</td>\n",
       "                        <td id=\"T_807c8622_8c54_11ea_a28f_6c71d9da89a0row3_col1\" class=\"data row3 col1\" >0.406000</td>\n",
       "                        <td id=\"T_807c8622_8c54_11ea_a28f_6c71d9da89a0row3_col2\" class=\"data row3 col2\" >1.000000</td>\n",
       "                        <td id=\"T_807c8622_8c54_11ea_a28f_6c71d9da89a0row3_col3\" class=\"data row3 col3\" >0.578000</td>\n",
       "                        <td id=\"T_807c8622_8c54_11ea_a28f_6c71d9da89a0row3_col4\" class=\"data row3 col4\" >0.956000</td>\n",
       "            </tr>\n",
       "    </tbody></table>"
      ],
      "text/plain": [
       "<pandas.io.formats.style.Styler at 0x27cab50fc48>"
      ]
     },
     "execution_count": 28,
     "metadata": {},
     "output_type": "execute_result"
    }
   ],
   "source": [
    "# Запустим тестирование со шкалированием StandartScaler()\n",
    "result_1 = evaluate_data(test_df=sdf_removed_hicorr, report_df=result_1, target='class', test_label='Removed hicorr STD')\n",
    "\n",
    "result_1.iloc[:,0:5].style.apply(highlight_max)"
   ]
  },
  {
   "cell_type": "markdown",
   "metadata": {},
   "source": [
    "### 1.3. Определим и устраним дисбаланс классов целевой переменной"
   ]
  },
  {
   "cell_type": "code",
   "execution_count": 29,
   "metadata": {},
   "outputs": [],
   "source": [
    "# Создадим новый DataFrame для тестирования\n",
    "sdf_balanced = sdf_removed_hicorr.copy(deep=True)"
   ]
  },
  {
   "cell_type": "code",
   "execution_count": 30,
   "metadata": {},
   "outputs": [
    {
     "data": {
      "image/png": "[encoded data removed]",
      "text/plain": [
       "<Figure size 432x288 with 1 Axes>"
      ]
     },
     "metadata": {
      "needs_background": "light"
     },
     "output_type": "display_data"
    }
   ],
   "source": [
    "# Баланс целевой переменной\n",
    "sns.countplot(x='class',data=sdf_balanced);"
   ]
  },
  {
   "cell_type": "code",
   "execution_count": 31,
   "metadata": {},
   "outputs": [
    {
     "data": {
      "text/html": [
       "<style  type=\"text/css\" >\n",
       "    #T_8960a7ca_8c54_11ea_a46c_6c71d9da89a0row2_col0 {\n",
       "            background-color:  lime;\n",
       "        }    #T_8960a7ca_8c54_11ea_a46c_6c71d9da89a0row2_col3 {\n",
       "            background-color:  lime;\n",
       "        }    #T_8960a7ca_8c54_11ea_a46c_6c71d9da89a0row2_col4 {\n",
       "            background-color:  lime;\n",
       "        }    #T_8960a7ca_8c54_11ea_a46c_6c71d9da89a0row3_col2 {\n",
       "            background-color:  lime;\n",
       "        }    #T_8960a7ca_8c54_11ea_a46c_6c71d9da89a0row4_col1 {\n",
       "            background-color:  lime;\n",
       "        }</style><table id=\"T_8960a7ca_8c54_11ea_a46c_6c71d9da89a0\" ><thead>    <tr>        <th class=\"blank level0\" ></th>        <th class=\"col_heading level0 col0\" >Accuracy</th>        <th class=\"col_heading level0 col1\" >Precision</th>        <th class=\"col_heading level0 col2\" >Recall</th>        <th class=\"col_heading level0 col3\" >F1</th>        <th class=\"col_heading level0 col4\" >ROC-AUC</th>    </tr></thead><tbody>\n",
       "                <tr>\n",
       "                        <th id=\"T_8960a7ca_8c54_11ea_a46c_6c71d9da89a0level0_row0\" class=\"row_heading level0 row0\" >Baseline (log-reg)</th>\n",
       "                        <td id=\"T_8960a7ca_8c54_11ea_a46c_6c71d9da89a0row0_col0\" class=\"data row0 col0\" >0.956000</td>\n",
       "                        <td id=\"T_8960a7ca_8c54_11ea_a46c_6c71d9da89a0row0_col1\" class=\"data row0 col1\" >0.812000</td>\n",
       "                        <td id=\"T_8960a7ca_8c54_11ea_a46c_6c71d9da89a0row0_col2\" class=\"data row0 col2\" >0.867000</td>\n",
       "                        <td id=\"T_8960a7ca_8c54_11ea_a46c_6c71d9da89a0row0_col3\" class=\"data row0 col3\" >0.839000</td>\n",
       "                        <td id=\"T_8960a7ca_8c54_11ea_a46c_6c71d9da89a0row0_col4\" class=\"data row0 col4\" >0.918000</td>\n",
       "            </tr>\n",
       "            <tr>\n",
       "                        <th id=\"T_8960a7ca_8c54_11ea_a46c_6c71d9da89a0level0_row1\" class=\"row_heading level0 row1\" >Baseline (knn)</th>\n",
       "                        <td id=\"T_8960a7ca_8c54_11ea_a46c_6c71d9da89a0row1_col0\" class=\"data row1 col0\" >0.912000</td>\n",
       "                        <td id=\"T_8960a7ca_8c54_11ea_a46c_6c71d9da89a0row1_col1\" class=\"data row1 col1\" >0.438000</td>\n",
       "                        <td id=\"T_8960a7ca_8c54_11ea_a46c_6c71d9da89a0row1_col2\" class=\"data row1 col2\" >0.875000</td>\n",
       "                        <td id=\"T_8960a7ca_8c54_11ea_a46c_6c71d9da89a0row1_col3\" class=\"data row1 col3\" >0.583000</td>\n",
       "                        <td id=\"T_8960a7ca_8c54_11ea_a46c_6c71d9da89a0row1_col4\" class=\"data row1 col4\" >0.895000</td>\n",
       "            </tr>\n",
       "            <tr>\n",
       "                        <th id=\"T_8960a7ca_8c54_11ea_a46c_6c71d9da89a0level0_row2\" class=\"row_heading level0 row2\" >Removed hicorr STD (log-reg)</th>\n",
       "                        <td id=\"T_8960a7ca_8c54_11ea_a46c_6c71d9da89a0row2_col0\" class=\"data row2 col0\" >0.969000</td>\n",
       "                        <td id=\"T_8960a7ca_8c54_11ea_a46c_6c71d9da89a0row2_col1\" class=\"data row2 col1\" >0.812000</td>\n",
       "                        <td id=\"T_8960a7ca_8c54_11ea_a46c_6c71d9da89a0row2_col2\" class=\"data row2 col2\" >0.963000</td>\n",
       "                        <td id=\"T_8960a7ca_8c54_11ea_a46c_6c71d9da89a0row2_col3\" class=\"data row2 col3\" >0.881000</td>\n",
       "                        <td id=\"T_8960a7ca_8c54_11ea_a46c_6c71d9da89a0row2_col4\" class=\"data row2 col4\" >0.966000</td>\n",
       "            </tr>\n",
       "            <tr>\n",
       "                        <th id=\"T_8960a7ca_8c54_11ea_a46c_6c71d9da89a0level0_row3\" class=\"row_heading level0 row3\" >Removed hicorr STD (knn)</th>\n",
       "                        <td id=\"T_8960a7ca_8c54_11ea_a46c_6c71d9da89a0row3_col0\" class=\"data row3 col0\" >0.916000</td>\n",
       "                        <td id=\"T_8960a7ca_8c54_11ea_a46c_6c71d9da89a0row3_col1\" class=\"data row3 col1\" >0.406000</td>\n",
       "                        <td id=\"T_8960a7ca_8c54_11ea_a46c_6c71d9da89a0row3_col2\" class=\"data row3 col2\" >1.000000</td>\n",
       "                        <td id=\"T_8960a7ca_8c54_11ea_a46c_6c71d9da89a0row3_col3\" class=\"data row3 col3\" >0.578000</td>\n",
       "                        <td id=\"T_8960a7ca_8c54_11ea_a46c_6c71d9da89a0row3_col4\" class=\"data row3 col4\" >0.956000</td>\n",
       "            </tr>\n",
       "            <tr>\n",
       "                        <th id=\"T_8960a7ca_8c54_11ea_a46c_6c71d9da89a0level0_row4\" class=\"row_heading level0 row4\" >Over_sample (log-reg)</th>\n",
       "                        <td id=\"T_8960a7ca_8c54_11ea_a46c_6c71d9da89a0row4_col0\" class=\"data row4 col0\" >0.947000</td>\n",
       "                        <td id=\"T_8960a7ca_8c54_11ea_a46c_6c71d9da89a0row4_col1\" class=\"data row4 col1\" >0.844000</td>\n",
       "                        <td id=\"T_8960a7ca_8c54_11ea_a46c_6c71d9da89a0row4_col2\" class=\"data row4 col2\" >0.794000</td>\n",
       "                        <td id=\"T_8960a7ca_8c54_11ea_a46c_6c71d9da89a0row4_col3\" class=\"data row4 col3\" >0.818000</td>\n",
       "                        <td id=\"T_8960a7ca_8c54_11ea_a46c_6c71d9da89a0row4_col4\" class=\"data row4 col4\" >0.884000</td>\n",
       "            </tr>\n",
       "            <tr>\n",
       "                        <th id=\"T_8960a7ca_8c54_11ea_a46c_6c71d9da89a0level0_row5\" class=\"row_heading level0 row5\" >Over_sample (knn)</th>\n",
       "                        <td id=\"T_8960a7ca_8c54_11ea_a46c_6c71d9da89a0row5_col0\" class=\"data row5 col0\" >0.894000</td>\n",
       "                        <td id=\"T_8960a7ca_8c54_11ea_a46c_6c71d9da89a0row5_col1\" class=\"data row5 col1\" >0.781000</td>\n",
       "                        <td id=\"T_8960a7ca_8c54_11ea_a46c_6c71d9da89a0row5_col2\" class=\"data row5 col2\" >0.595000</td>\n",
       "                        <td id=\"T_8960a7ca_8c54_11ea_a46c_6c71d9da89a0row5_col3\" class=\"data row5 col3\" >0.676000</td>\n",
       "                        <td id=\"T_8960a7ca_8c54_11ea_a46c_6c71d9da89a0row5_col4\" class=\"data row5 col4\" >0.779000</td>\n",
       "            </tr>\n",
       "    </tbody></table>"
      ],
      "text/plain": [
       "<pandas.io.formats.style.Styler at 0x27cac9d03c8>"
      ]
     },
     "execution_count": 31,
     "metadata": {},
     "output_type": "execute_result"
    }
   ],
   "source": [
    "# Применим over-sampling целевой переменной с помощью SMOTE и запустим тестирование модели\n",
    "result_1 = evaluate_data(test_df=sdf_balanced, report_df=result_1, target='class', \n",
    "                       scaler_type='std', ovs=True, test_label='Over_sample')\n",
    "\n",
    "result_1.iloc[:,0:5].style.apply(highlight_max)"
   ]
  },
  {
   "cell_type": "markdown",
   "metadata": {},
   "source": [
    "### 1.4. Применим log(x+1) к данным"
   ]
  },
  {
   "cell_type": "code",
   "execution_count": 32,
   "metadata": {},
   "outputs": [],
   "source": [
    "# Создадим новый DataFrame для тестирования\n",
    "sdf_log1p = sdf_removed_hicorr.copy(deep=True)"
   ]
  },
  {
   "cell_type": "code",
   "execution_count": 33,
   "metadata": {},
   "outputs": [],
   "source": [
    "# Прологарифмируем значения\n",
    "for col in sdf_log1p.columns:\n",
    "    if col == 'class': continue\n",
    "    sdf_log1p[col] = np.log1p(sdf_log1p[col])"
   ]
  },
  {
   "cell_type": "code",
   "execution_count": 34,
   "metadata": {
    "scrolled": false
   },
   "outputs": [
    {
     "data": {
      "image/png": "[encoded data removed]",
      "text/plain": [
       "<Figure size 1440x1440 with 100 Axes>"
      ]
     },
     "metadata": {
      "needs_background": "light"
     },
     "output_type": "display_data"
    }
   ],
   "source": [
    "sdf_log1p.hist(figsize=(20, 20));"
   ]
  },
  {
   "cell_type": "code",
   "execution_count": 35,
   "metadata": {},
   "outputs": [
    {
     "data": {
      "text/html": [
       "<style  type=\"text/css\" >\n",
       "    #T_bb69eb38_8c54_11ea_b51c_6c71d9da89a0row2_col0 {\n",
       "            background-color:  lime;\n",
       "        }    #T_bb69eb38_8c54_11ea_b51c_6c71d9da89a0row2_col3 {\n",
       "            background-color:  lime;\n",
       "        }    #T_bb69eb38_8c54_11ea_b51c_6c71d9da89a0row2_col4 {\n",
       "            background-color:  lime;\n",
       "        }    #T_bb69eb38_8c54_11ea_b51c_6c71d9da89a0row3_col2 {\n",
       "            background-color:  lime;\n",
       "        }    #T_bb69eb38_8c54_11ea_b51c_6c71d9da89a0row4_col1 {\n",
       "            background-color:  lime;\n",
       "        }</style><table id=\"T_bb69eb38_8c54_11ea_b51c_6c71d9da89a0\" ><thead>    <tr>        <th class=\"blank level0\" ></th>        <th class=\"col_heading level0 col0\" >Accuracy</th>        <th class=\"col_heading level0 col1\" >Precision</th>        <th class=\"col_heading level0 col2\" >Recall</th>        <th class=\"col_heading level0 col3\" >F1</th>        <th class=\"col_heading level0 col4\" >ROC-AUC</th>    </tr></thead><tbody>\n",
       "                <tr>\n",
       "                        <th id=\"T_bb69eb38_8c54_11ea_b51c_6c71d9da89a0level0_row0\" class=\"row_heading level0 row0\" >Baseline (log-reg)</th>\n",
       "                        <td id=\"T_bb69eb38_8c54_11ea_b51c_6c71d9da89a0row0_col0\" class=\"data row0 col0\" >0.956000</td>\n",
       "                        <td id=\"T_bb69eb38_8c54_11ea_b51c_6c71d9da89a0row0_col1\" class=\"data row0 col1\" >0.812000</td>\n",
       "                        <td id=\"T_bb69eb38_8c54_11ea_b51c_6c71d9da89a0row0_col2\" class=\"data row0 col2\" >0.867000</td>\n",
       "                        <td id=\"T_bb69eb38_8c54_11ea_b51c_6c71d9da89a0row0_col3\" class=\"data row0 col3\" >0.839000</td>\n",
       "                        <td id=\"T_bb69eb38_8c54_11ea_b51c_6c71d9da89a0row0_col4\" class=\"data row0 col4\" >0.918000</td>\n",
       "            </tr>\n",
       "            <tr>\n",
       "                        <th id=\"T_bb69eb38_8c54_11ea_b51c_6c71d9da89a0level0_row1\" class=\"row_heading level0 row1\" >Baseline (knn)</th>\n",
       "                        <td id=\"T_bb69eb38_8c54_11ea_b51c_6c71d9da89a0row1_col0\" class=\"data row1 col0\" >0.912000</td>\n",
       "                        <td id=\"T_bb69eb38_8c54_11ea_b51c_6c71d9da89a0row1_col1\" class=\"data row1 col1\" >0.438000</td>\n",
       "                        <td id=\"T_bb69eb38_8c54_11ea_b51c_6c71d9da89a0row1_col2\" class=\"data row1 col2\" >0.875000</td>\n",
       "                        <td id=\"T_bb69eb38_8c54_11ea_b51c_6c71d9da89a0row1_col3\" class=\"data row1 col3\" >0.583000</td>\n",
       "                        <td id=\"T_bb69eb38_8c54_11ea_b51c_6c71d9da89a0row1_col4\" class=\"data row1 col4\" >0.895000</td>\n",
       "            </tr>\n",
       "            <tr>\n",
       "                        <th id=\"T_bb69eb38_8c54_11ea_b51c_6c71d9da89a0level0_row2\" class=\"row_heading level0 row2\" >Removed hicorr STD (log-reg)</th>\n",
       "                        <td id=\"T_bb69eb38_8c54_11ea_b51c_6c71d9da89a0row2_col0\" class=\"data row2 col0\" >0.969000</td>\n",
       "                        <td id=\"T_bb69eb38_8c54_11ea_b51c_6c71d9da89a0row2_col1\" class=\"data row2 col1\" >0.812000</td>\n",
       "                        <td id=\"T_bb69eb38_8c54_11ea_b51c_6c71d9da89a0row2_col2\" class=\"data row2 col2\" >0.963000</td>\n",
       "                        <td id=\"T_bb69eb38_8c54_11ea_b51c_6c71d9da89a0row2_col3\" class=\"data row2 col3\" >0.881000</td>\n",
       "                        <td id=\"T_bb69eb38_8c54_11ea_b51c_6c71d9da89a0row2_col4\" class=\"data row2 col4\" >0.966000</td>\n",
       "            </tr>\n",
       "            <tr>\n",
       "                        <th id=\"T_bb69eb38_8c54_11ea_b51c_6c71d9da89a0level0_row3\" class=\"row_heading level0 row3\" >Removed hicorr STD (knn)</th>\n",
       "                        <td id=\"T_bb69eb38_8c54_11ea_b51c_6c71d9da89a0row3_col0\" class=\"data row3 col0\" >0.916000</td>\n",
       "                        <td id=\"T_bb69eb38_8c54_11ea_b51c_6c71d9da89a0row3_col1\" class=\"data row3 col1\" >0.406000</td>\n",
       "                        <td id=\"T_bb69eb38_8c54_11ea_b51c_6c71d9da89a0row3_col2\" class=\"data row3 col2\" >1.000000</td>\n",
       "                        <td id=\"T_bb69eb38_8c54_11ea_b51c_6c71d9da89a0row3_col3\" class=\"data row3 col3\" >0.578000</td>\n",
       "                        <td id=\"T_bb69eb38_8c54_11ea_b51c_6c71d9da89a0row3_col4\" class=\"data row3 col4\" >0.956000</td>\n",
       "            </tr>\n",
       "            <tr>\n",
       "                        <th id=\"T_bb69eb38_8c54_11ea_b51c_6c71d9da89a0level0_row4\" class=\"row_heading level0 row4\" >Over_sample (log-reg)</th>\n",
       "                        <td id=\"T_bb69eb38_8c54_11ea_b51c_6c71d9da89a0row4_col0\" class=\"data row4 col0\" >0.947000</td>\n",
       "                        <td id=\"T_bb69eb38_8c54_11ea_b51c_6c71d9da89a0row4_col1\" class=\"data row4 col1\" >0.844000</td>\n",
       "                        <td id=\"T_bb69eb38_8c54_11ea_b51c_6c71d9da89a0row4_col2\" class=\"data row4 col2\" >0.794000</td>\n",
       "                        <td id=\"T_bb69eb38_8c54_11ea_b51c_6c71d9da89a0row4_col3\" class=\"data row4 col3\" >0.818000</td>\n",
       "                        <td id=\"T_bb69eb38_8c54_11ea_b51c_6c71d9da89a0row4_col4\" class=\"data row4 col4\" >0.884000</td>\n",
       "            </tr>\n",
       "            <tr>\n",
       "                        <th id=\"T_bb69eb38_8c54_11ea_b51c_6c71d9da89a0level0_row5\" class=\"row_heading level0 row5\" >Over_sample (knn)</th>\n",
       "                        <td id=\"T_bb69eb38_8c54_11ea_b51c_6c71d9da89a0row5_col0\" class=\"data row5 col0\" >0.894000</td>\n",
       "                        <td id=\"T_bb69eb38_8c54_11ea_b51c_6c71d9da89a0row5_col1\" class=\"data row5 col1\" >0.781000</td>\n",
       "                        <td id=\"T_bb69eb38_8c54_11ea_b51c_6c71d9da89a0row5_col2\" class=\"data row5 col2\" >0.595000</td>\n",
       "                        <td id=\"T_bb69eb38_8c54_11ea_b51c_6c71d9da89a0row5_col3\" class=\"data row5 col3\" >0.676000</td>\n",
       "                        <td id=\"T_bb69eb38_8c54_11ea_b51c_6c71d9da89a0row5_col4\" class=\"data row5 col4\" >0.779000</td>\n",
       "            </tr>\n",
       "            <tr>\n",
       "                        <th id=\"T_bb69eb38_8c54_11ea_b51c_6c71d9da89a0level0_row6\" class=\"row_heading level0 row6\" >log1p (log-reg)</th>\n",
       "                        <td id=\"T_bb69eb38_8c54_11ea_b51c_6c71d9da89a0row6_col0\" class=\"data row6 col0\" >0.930000</td>\n",
       "                        <td id=\"T_bb69eb38_8c54_11ea_b51c_6c71d9da89a0row6_col1\" class=\"data row6 col1\" >0.719000</td>\n",
       "                        <td id=\"T_bb69eb38_8c54_11ea_b51c_6c71d9da89a0row6_col2\" class=\"data row6 col2\" >0.767000</td>\n",
       "                        <td id=\"T_bb69eb38_8c54_11ea_b51c_6c71d9da89a0row6_col3\" class=\"data row6 col3\" >0.742000</td>\n",
       "                        <td id=\"T_bb69eb38_8c54_11ea_b51c_6c71d9da89a0row6_col4\" class=\"data row6 col4\" >0.860000</td>\n",
       "            </tr>\n",
       "            <tr>\n",
       "                        <th id=\"T_bb69eb38_8c54_11ea_b51c_6c71d9da89a0level0_row7\" class=\"row_heading level0 row7\" >log1p (knn)</th>\n",
       "                        <td id=\"T_bb69eb38_8c54_11ea_b51c_6c71d9da89a0row7_col0\" class=\"data row7 col0\" >0.921000</td>\n",
       "                        <td id=\"T_bb69eb38_8c54_11ea_b51c_6c71d9da89a0row7_col1\" class=\"data row7 col1\" >0.531000</td>\n",
       "                        <td id=\"T_bb69eb38_8c54_11ea_b51c_6c71d9da89a0row7_col2\" class=\"data row7 col2\" >0.850000</td>\n",
       "                        <td id=\"T_bb69eb38_8c54_11ea_b51c_6c71d9da89a0row7_col3\" class=\"data row7 col3\" >0.654000</td>\n",
       "                        <td id=\"T_bb69eb38_8c54_11ea_b51c_6c71d9da89a0row7_col4\" class=\"data row7 col4\" >0.889000</td>\n",
       "            </tr>\n",
       "    </tbody></table>"
      ],
      "text/plain": [
       "<pandas.io.formats.style.Styler at 0x27ca9f0f948>"
      ]
     },
     "execution_count": 35,
     "metadata": {},
     "output_type": "execute_result"
    }
   ],
   "source": [
    "# Запустим тестирование модели\n",
    "result_1 = evaluate_data(test_df=sdf_log1p, report_df=result_1, target='class', \n",
    "                       scaler_type='std', test_label='log1p')\n",
    "\n",
    "result_1.iloc[:,0:5].style.apply(highlight_max)"
   ]
  },
  {
   "cell_type": "markdown",
   "metadata": {},
   "source": [
    "### 1.5. Вывод"
   ]
  },
  {
   "cell_type": "markdown",
   "metadata": {},
   "source": [
    "После удаления NaN получился весьма скромный датасет. Улучшить качество модели помогло лишь удаление сильноскоррелированных признаков (что хорошо отразилось при использовании log-reg), остальные действия не принесли какого-либо значимого улучшения"
   ]
  },
  {
   "cell_type": "markdown",
   "metadata": {},
   "source": [
    "<a id=\"5\"></a>\n",
    "## Route #2 [(Наверх)](#0) "
   ]
  },
  {
   "cell_type": "markdown",
   "metadata": {},
   "source": [
    "Проведём замену NaN и проверим как это отразится на качестве модели"
   ]
  },
  {
   "cell_type": "markdown",
   "metadata": {},
   "source": [
    "### 2.1. Baseline "
   ]
  },
  {
   "cell_type": "code",
   "execution_count": 36,
   "metadata": {},
   "outputs": [],
   "source": [
    "# Удалим признаки, где NaN > 70%\n",
    "prct_missing = (scania_df.isna().sum()/scania_df.shape[0]*100).round(2)\n",
    "sdf_replaced_nan = scania_df.drop(prct_missing[prct_missing > 70].index, axis=1, inplace=False)\n",
    "\n",
    "# Разобъем датасет в разрезе целевой переменной\n",
    "mask = sdf_replaced_nan['class'] > 0\n",
    "sdf_true, sdf_false = sdf_replaced_nan[mask], sdf_replaced_nan[~mask]\n",
    "\n",
    "# Заменим NaN на mode[0] во всех признаках, кроме целевой переменной\n",
    "for i_df in [sdf_true, sdf_false]:\n",
    "    for col in i_df.columns[1:]:\n",
    "        i_df[col] = i_df[col].fillna(i_df[col].mode()[0])\n",
    "    \n",
    "# Склеим датасеты в один\n",
    "sdf_replaced_nan = pd.concat([sdf_true, sdf_false])"
   ]
  },
  {
   "cell_type": "code",
   "execution_count": 37,
   "metadata": {},
   "outputs": [
    {
     "data": {
      "text/plain": [
       "(76000, 164)"
      ]
     },
     "execution_count": 37,
     "metadata": {},
     "output_type": "execute_result"
    }
   ],
   "source": [
    "sdf_replaced_nan.shape"
   ]
  },
  {
   "cell_type": "code",
   "execution_count": 38,
   "metadata": {
    "scrolled": true
   },
   "outputs": [
    {
     "data": {
      "text/html": [
       "<style  type=\"text/css\" >\n",
       "    #T_248daa1a_8c56_11ea_bc7f_6c71d9da89a0row0_col0 {\n",
       "            background-color:  lime;\n",
       "        }    #T_248daa1a_8c56_11ea_bc7f_6c71d9da89a0row0_col1 {\n",
       "            background-color:  lime;\n",
       "        }    #T_248daa1a_8c56_11ea_bc7f_6c71d9da89a0row0_col3 {\n",
       "            background-color:  lime;\n",
       "        }    #T_248daa1a_8c56_11ea_bc7f_6c71d9da89a0row1_col2 {\n",
       "            background-color:  lime;\n",
       "        }    #T_248daa1a_8c56_11ea_bc7f_6c71d9da89a0row1_col4 {\n",
       "            background-color:  lime;\n",
       "        }</style><table id=\"T_248daa1a_8c56_11ea_bc7f_6c71d9da89a0\" ><thead>    <tr>        <th class=\"blank level0\" ></th>        <th class=\"col_heading level0 col0\" >Accuracy</th>        <th class=\"col_heading level0 col1\" >Precision</th>        <th class=\"col_heading level0 col2\" >Recall</th>        <th class=\"col_heading level0 col3\" >F1</th>        <th class=\"col_heading level0 col4\" >ROC-AUC</th>    </tr></thead><tbody>\n",
       "                <tr>\n",
       "                        <th id=\"T_248daa1a_8c56_11ea_bc7f_6c71d9da89a0level0_row0\" class=\"row_heading level0 row0\" >Baseline (log-reg)</th>\n",
       "                        <td id=\"T_248daa1a_8c56_11ea_bc7f_6c71d9da89a0row0_col0\" class=\"data row0 col0\" >0.991000</td>\n",
       "                        <td id=\"T_248daa1a_8c56_11ea_bc7f_6c71d9da89a0row0_col1\" class=\"data row0 col1\" >0.667000</td>\n",
       "                        <td id=\"T_248daa1a_8c56_11ea_bc7f_6c71d9da89a0row0_col2\" class=\"data row0 col2\" >0.799000</td>\n",
       "                        <td id=\"T_248daa1a_8c56_11ea_bc7f_6c71d9da89a0row0_col3\" class=\"data row0 col3\" >0.728000</td>\n",
       "                        <td id=\"T_248daa1a_8c56_11ea_bc7f_6c71d9da89a0row0_col4\" class=\"data row0 col4\" >0.897000</td>\n",
       "            </tr>\n",
       "            <tr>\n",
       "                        <th id=\"T_248daa1a_8c56_11ea_bc7f_6c71d9da89a0level0_row1\" class=\"row_heading level0 row1\" >Baseline (knn)</th>\n",
       "                        <td id=\"T_248daa1a_8c56_11ea_bc7f_6c71d9da89a0row1_col0\" class=\"data row1 col0\" >0.990000</td>\n",
       "                        <td id=\"T_248daa1a_8c56_11ea_bc7f_6c71d9da89a0row1_col1\" class=\"data row1 col1\" >0.553000</td>\n",
       "                        <td id=\"T_248daa1a_8c56_11ea_bc7f_6c71d9da89a0row1_col2\" class=\"data row1 col2\" >0.814000</td>\n",
       "                        <td id=\"T_248daa1a_8c56_11ea_bc7f_6c71d9da89a0row1_col3\" class=\"data row1 col3\" >0.659000</td>\n",
       "                        <td id=\"T_248daa1a_8c56_11ea_bc7f_6c71d9da89a0row1_col4\" class=\"data row1 col4\" >0.903000</td>\n",
       "            </tr>\n",
       "    </tbody></table>"
      ],
      "text/plain": [
       "<pandas.io.formats.style.Styler at 0x27caa3ffe48>"
      ]
     },
     "execution_count": 38,
     "metadata": {},
     "output_type": "execute_result"
    }
   ],
   "source": [
    "# Запустим тестирование с базовыми настройками\n",
    "result_2 = evaluate_data(test_df=sdf_replaced_nan, target='class', test_label='Baseline')\n",
    "result_2.iloc[:,0:5].style.apply(highlight_max)"
   ]
  },
  {
   "cell_type": "markdown",
   "metadata": {},
   "source": [
    "### 2.2. Определим и удалим сильноскоррелированные признаки"
   ]
  },
  {
   "cell_type": "code",
   "execution_count": 39,
   "metadata": {},
   "outputs": [],
   "source": [
    "# Создадим новый DataFrame для тестирования\n",
    "sdf_removed_hicorr = sdf_replaced_nan.copy(deep=True)"
   ]
  },
  {
   "cell_type": "code",
   "execution_count": 40,
   "metadata": {},
   "outputs": [],
   "source": [
    "# Рассчитаем корреляции между признаками\n",
    "corr = sdf_removed_hicorr.corr()\n",
    "\n",
    "# Удалим из датасета сильноскоррелированные признаки (>= 0.8)\n",
    "sdf_removed_hicorr.drop(columns=highly_correlated(corr, 0.8), axis=1, inplace=True)"
   ]
  },
  {
   "cell_type": "code",
   "execution_count": 41,
   "metadata": {},
   "outputs": [
    {
     "data": {
      "text/plain": [
       "(76000, 111)"
      ]
     },
     "execution_count": 41,
     "metadata": {},
     "output_type": "execute_result"
    }
   ],
   "source": [
    "sdf_removed_hicorr.shape"
   ]
  },
  {
   "cell_type": "code",
   "execution_count": 42,
   "metadata": {},
   "outputs": [
    {
     "data": {
      "text/html": [
       "<style  type=\"text/css\" >\n",
       "    #T_25248a46_8c57_11ea_8fec_6c71d9da89a0row0_col0 {\n",
       "            background-color:  lime;\n",
       "        }    #T_25248a46_8c57_11ea_8fec_6c71d9da89a0row0_col1 {\n",
       "            background-color:  lime;\n",
       "        }    #T_25248a46_8c57_11ea_8fec_6c71d9da89a0row0_col3 {\n",
       "            background-color:  lime;\n",
       "        }    #T_25248a46_8c57_11ea_8fec_6c71d9da89a0row1_col2 {\n",
       "            background-color:  lime;\n",
       "        }    #T_25248a46_8c57_11ea_8fec_6c71d9da89a0row1_col4 {\n",
       "            background-color:  lime;\n",
       "        }    #T_25248a46_8c57_11ea_8fec_6c71d9da89a0row2_col0 {\n",
       "            background-color:  lime;\n",
       "        }</style><table id=\"T_25248a46_8c57_11ea_8fec_6c71d9da89a0\" ><thead>    <tr>        <th class=\"blank level0\" ></th>        <th class=\"col_heading level0 col0\" >Accuracy</th>        <th class=\"col_heading level0 col1\" >Precision</th>        <th class=\"col_heading level0 col2\" >Recall</th>        <th class=\"col_heading level0 col3\" >F1</th>        <th class=\"col_heading level0 col4\" >ROC-AUC</th>    </tr></thead><tbody>\n",
       "                <tr>\n",
       "                        <th id=\"T_25248a46_8c57_11ea_8fec_6c71d9da89a0level0_row0\" class=\"row_heading level0 row0\" >Baseline (log-reg)</th>\n",
       "                        <td id=\"T_25248a46_8c57_11ea_8fec_6c71d9da89a0row0_col0\" class=\"data row0 col0\" >0.991000</td>\n",
       "                        <td id=\"T_25248a46_8c57_11ea_8fec_6c71d9da89a0row0_col1\" class=\"data row0 col1\" >0.667000</td>\n",
       "                        <td id=\"T_25248a46_8c57_11ea_8fec_6c71d9da89a0row0_col2\" class=\"data row0 col2\" >0.799000</td>\n",
       "                        <td id=\"T_25248a46_8c57_11ea_8fec_6c71d9da89a0row0_col3\" class=\"data row0 col3\" >0.728000</td>\n",
       "                        <td id=\"T_25248a46_8c57_11ea_8fec_6c71d9da89a0row0_col4\" class=\"data row0 col4\" >0.897000</td>\n",
       "            </tr>\n",
       "            <tr>\n",
       "                        <th id=\"T_25248a46_8c57_11ea_8fec_6c71d9da89a0level0_row1\" class=\"row_heading level0 row1\" >Baseline (knn)</th>\n",
       "                        <td id=\"T_25248a46_8c57_11ea_8fec_6c71d9da89a0row1_col0\" class=\"data row1 col0\" >0.990000</td>\n",
       "                        <td id=\"T_25248a46_8c57_11ea_8fec_6c71d9da89a0row1_col1\" class=\"data row1 col1\" >0.553000</td>\n",
       "                        <td id=\"T_25248a46_8c57_11ea_8fec_6c71d9da89a0row1_col2\" class=\"data row1 col2\" >0.814000</td>\n",
       "                        <td id=\"T_25248a46_8c57_11ea_8fec_6c71d9da89a0row1_col3\" class=\"data row1 col3\" >0.659000</td>\n",
       "                        <td id=\"T_25248a46_8c57_11ea_8fec_6c71d9da89a0row1_col4\" class=\"data row1 col4\" >0.903000</td>\n",
       "            </tr>\n",
       "            <tr>\n",
       "                        <th id=\"T_25248a46_8c57_11ea_8fec_6c71d9da89a0level0_row2\" class=\"row_heading level0 row2\" >Removed hicorr STD (log-reg)</th>\n",
       "                        <td id=\"T_25248a46_8c57_11ea_8fec_6c71d9da89a0row2_col0\" class=\"data row2 col0\" >0.991000</td>\n",
       "                        <td id=\"T_25248a46_8c57_11ea_8fec_6c71d9da89a0row2_col1\" class=\"data row2 col1\" >0.653000</td>\n",
       "                        <td id=\"T_25248a46_8c57_11ea_8fec_6c71d9da89a0row2_col2\" class=\"data row2 col2\" >0.801000</td>\n",
       "                        <td id=\"T_25248a46_8c57_11ea_8fec_6c71d9da89a0row2_col3\" class=\"data row2 col3\" >0.719000</td>\n",
       "                        <td id=\"T_25248a46_8c57_11ea_8fec_6c71d9da89a0row2_col4\" class=\"data row2 col4\" >0.897000</td>\n",
       "            </tr>\n",
       "            <tr>\n",
       "                        <th id=\"T_25248a46_8c57_11ea_8fec_6c71d9da89a0level0_row3\" class=\"row_heading level0 row3\" >Removed hicorr STD (knn)</th>\n",
       "                        <td id=\"T_25248a46_8c57_11ea_8fec_6c71d9da89a0row3_col0\" class=\"data row3 col0\" >0.989000</td>\n",
       "                        <td id=\"T_25248a46_8c57_11ea_8fec_6c71d9da89a0row3_col1\" class=\"data row3 col1\" >0.561000</td>\n",
       "                        <td id=\"T_25248a46_8c57_11ea_8fec_6c71d9da89a0row3_col2\" class=\"data row3 col2\" >0.797000</td>\n",
       "                        <td id=\"T_25248a46_8c57_11ea_8fec_6c71d9da89a0row3_col3\" class=\"data row3 col3\" >0.658000</td>\n",
       "                        <td id=\"T_25248a46_8c57_11ea_8fec_6c71d9da89a0row3_col4\" class=\"data row3 col4\" >0.894000</td>\n",
       "            </tr>\n",
       "    </tbody></table>"
      ],
      "text/plain": [
       "<pandas.io.formats.style.Styler at 0x27ca983a208>"
      ]
     },
     "execution_count": 42,
     "metadata": {},
     "output_type": "execute_result"
    }
   ],
   "source": [
    "# Запустим тестирование со шкалированием StandartScaler()\n",
    "result_2 = evaluate_data(test_df=sdf_removed_hicorr, report_df=result_2, target='class', test_label='Removed hicorr STD')\n",
    "\n",
    "result_2.iloc[:,0:5].style.apply(highlight_max)"
   ]
  },
  {
   "cell_type": "markdown",
   "metadata": {},
   "source": [
    "### 2.3. Определим и устраним дисбаланс классов целевой переменной"
   ]
  },
  {
   "cell_type": "code",
   "execution_count": 43,
   "metadata": {},
   "outputs": [
    {
     "data": {
      "image/png": "[encoded data removed]",
      "text/plain": [
       "<Figure size 432x288 with 1 Axes>"
      ]
     },
     "metadata": {
      "needs_background": "light"
     },
     "output_type": "display_data"
    }
   ],
   "source": [
    "# Баланс целевой переменной\n",
    "sns.countplot(x='class',data=sdf_removed_hicorr);"
   ]
  },
  {
   "cell_type": "code",
   "execution_count": 44,
   "metadata": {},
   "outputs": [],
   "source": [
    "# Обрежем наш датасет равнопропорционально значениям целевой переменной\n",
    "sdf_balanced = balanced_sample(sdf_removed_hicorr, 'class', count=2000)"
   ]
  },
  {
   "cell_type": "code",
   "execution_count": 45,
   "metadata": {},
   "outputs": [
    {
     "data": {
      "text/plain": [
       "(2750, 111)"
      ]
     },
     "execution_count": 45,
     "metadata": {},
     "output_type": "execute_result"
    }
   ],
   "source": [
    "sdf_balanced.shape"
   ]
  },
  {
   "cell_type": "code",
   "execution_count": 46,
   "metadata": {},
   "outputs": [
    {
     "data": {
      "text/html": [
       "<style  type=\"text/css\" >\n",
       "    #T_328506ee_8c57_11ea_a135_6c71d9da89a0row0_col0 {\n",
       "            background-color:  lime;\n",
       "        }    #T_328506ee_8c57_11ea_a135_6c71d9da89a0row2_col0 {\n",
       "            background-color:  lime;\n",
       "        }    #T_328506ee_8c57_11ea_a135_6c71d9da89a0row4_col1 {\n",
       "            background-color:  lime;\n",
       "        }    #T_328506ee_8c57_11ea_a135_6c71d9da89a0row4_col2 {\n",
       "            background-color:  lime;\n",
       "        }    #T_328506ee_8c57_11ea_a135_6c71d9da89a0row4_col3 {\n",
       "            background-color:  lime;\n",
       "        }    #T_328506ee_8c57_11ea_a135_6c71d9da89a0row4_col4 {\n",
       "            background-color:  lime;\n",
       "        }</style><table id=\"T_328506ee_8c57_11ea_a135_6c71d9da89a0\" ><thead>    <tr>        <th class=\"blank level0\" ></th>        <th class=\"col_heading level0 col0\" >Accuracy</th>        <th class=\"col_heading level0 col1\" >Precision</th>        <th class=\"col_heading level0 col2\" >Recall</th>        <th class=\"col_heading level0 col3\" >F1</th>        <th class=\"col_heading level0 col4\" >ROC-AUC</th>    </tr></thead><tbody>\n",
       "                <tr>\n",
       "                        <th id=\"T_328506ee_8c57_11ea_a135_6c71d9da89a0level0_row0\" class=\"row_heading level0 row0\" >Baseline (log-reg)</th>\n",
       "                        <td id=\"T_328506ee_8c57_11ea_a135_6c71d9da89a0row0_col0\" class=\"data row0 col0\" >0.991000</td>\n",
       "                        <td id=\"T_328506ee_8c57_11ea_a135_6c71d9da89a0row0_col1\" class=\"data row0 col1\" >0.667000</td>\n",
       "                        <td id=\"T_328506ee_8c57_11ea_a135_6c71d9da89a0row0_col2\" class=\"data row0 col2\" >0.799000</td>\n",
       "                        <td id=\"T_328506ee_8c57_11ea_a135_6c71d9da89a0row0_col3\" class=\"data row0 col3\" >0.728000</td>\n",
       "                        <td id=\"T_328506ee_8c57_11ea_a135_6c71d9da89a0row0_col4\" class=\"data row0 col4\" >0.897000</td>\n",
       "            </tr>\n",
       "            <tr>\n",
       "                        <th id=\"T_328506ee_8c57_11ea_a135_6c71d9da89a0level0_row1\" class=\"row_heading level0 row1\" >Baseline (knn)</th>\n",
       "                        <td id=\"T_328506ee_8c57_11ea_a135_6c71d9da89a0row1_col0\" class=\"data row1 col0\" >0.990000</td>\n",
       "                        <td id=\"T_328506ee_8c57_11ea_a135_6c71d9da89a0row1_col1\" class=\"data row1 col1\" >0.553000</td>\n",
       "                        <td id=\"T_328506ee_8c57_11ea_a135_6c71d9da89a0row1_col2\" class=\"data row1 col2\" >0.814000</td>\n",
       "                        <td id=\"T_328506ee_8c57_11ea_a135_6c71d9da89a0row1_col3\" class=\"data row1 col3\" >0.659000</td>\n",
       "                        <td id=\"T_328506ee_8c57_11ea_a135_6c71d9da89a0row1_col4\" class=\"data row1 col4\" >0.903000</td>\n",
       "            </tr>\n",
       "            <tr>\n",
       "                        <th id=\"T_328506ee_8c57_11ea_a135_6c71d9da89a0level0_row2\" class=\"row_heading level0 row2\" >Removed hicorr STD (log-reg)</th>\n",
       "                        <td id=\"T_328506ee_8c57_11ea_a135_6c71d9da89a0row2_col0\" class=\"data row2 col0\" >0.991000</td>\n",
       "                        <td id=\"T_328506ee_8c57_11ea_a135_6c71d9da89a0row2_col1\" class=\"data row2 col1\" >0.653000</td>\n",
       "                        <td id=\"T_328506ee_8c57_11ea_a135_6c71d9da89a0row2_col2\" class=\"data row2 col2\" >0.801000</td>\n",
       "                        <td id=\"T_328506ee_8c57_11ea_a135_6c71d9da89a0row2_col3\" class=\"data row2 col3\" >0.719000</td>\n",
       "                        <td id=\"T_328506ee_8c57_11ea_a135_6c71d9da89a0row2_col4\" class=\"data row2 col4\" >0.897000</td>\n",
       "            </tr>\n",
       "            <tr>\n",
       "                        <th id=\"T_328506ee_8c57_11ea_a135_6c71d9da89a0level0_row3\" class=\"row_heading level0 row3\" >Removed hicorr STD (knn)</th>\n",
       "                        <td id=\"T_328506ee_8c57_11ea_a135_6c71d9da89a0row3_col0\" class=\"data row3 col0\" >0.989000</td>\n",
       "                        <td id=\"T_328506ee_8c57_11ea_a135_6c71d9da89a0row3_col1\" class=\"data row3 col1\" >0.561000</td>\n",
       "                        <td id=\"T_328506ee_8c57_11ea_a135_6c71d9da89a0row3_col2\" class=\"data row3 col2\" >0.797000</td>\n",
       "                        <td id=\"T_328506ee_8c57_11ea_a135_6c71d9da89a0row3_col3\" class=\"data row3 col3\" >0.658000</td>\n",
       "                        <td id=\"T_328506ee_8c57_11ea_a135_6c71d9da89a0row3_col4\" class=\"data row3 col4\" >0.894000</td>\n",
       "            </tr>\n",
       "            <tr>\n",
       "                        <th id=\"T_328506ee_8c57_11ea_a135_6c71d9da89a0level0_row4\" class=\"row_heading level0 row4\" >Balanced (log-reg)</th>\n",
       "                        <td id=\"T_328506ee_8c57_11ea_a135_6c71d9da89a0row4_col0\" class=\"data row4 col0\" >0.953000</td>\n",
       "                        <td id=\"T_328506ee_8c57_11ea_a135_6c71d9da89a0row4_col1\" class=\"data row4 col1\" >0.932000</td>\n",
       "                        <td id=\"T_328506ee_8c57_11ea_a135_6c71d9da89a0row4_col2\" class=\"data row4 col2\" >0.972000</td>\n",
       "                        <td id=\"T_328506ee_8c57_11ea_a135_6c71d9da89a0row4_col3\" class=\"data row4 col3\" >0.952000</td>\n",
       "                        <td id=\"T_328506ee_8c57_11ea_a135_6c71d9da89a0row4_col4\" class=\"data row4 col4\" >0.954000</td>\n",
       "            </tr>\n",
       "            <tr>\n",
       "                        <th id=\"T_328506ee_8c57_11ea_a135_6c71d9da89a0level0_row5\" class=\"row_heading level0 row5\" >Balanced (knn)</th>\n",
       "                        <td id=\"T_328506ee_8c57_11ea_a135_6c71d9da89a0row5_col0\" class=\"data row5 col0\" >0.941000</td>\n",
       "                        <td id=\"T_328506ee_8c57_11ea_a135_6c71d9da89a0row5_col1\" class=\"data row5 col1\" >0.917000</td>\n",
       "                        <td id=\"T_328506ee_8c57_11ea_a135_6c71d9da89a0row5_col2\" class=\"data row5 col2\" >0.962000</td>\n",
       "                        <td id=\"T_328506ee_8c57_11ea_a135_6c71d9da89a0row5_col3\" class=\"data row5 col3\" >0.939000</td>\n",
       "                        <td id=\"T_328506ee_8c57_11ea_a135_6c71d9da89a0row5_col4\" class=\"data row5 col4\" >0.942000</td>\n",
       "            </tr>\n",
       "    </tbody></table>"
      ],
      "text/plain": [
       "<pandas.io.formats.style.Styler at 0x27ca9edd188>"
      ]
     },
     "execution_count": 46,
     "metadata": {},
     "output_type": "execute_result"
    }
   ],
   "source": [
    "# Запустим тестирование модели\n",
    "result_2 = evaluate_data(test_df=sdf_balanced, report_df=result_2, target='class', \n",
    "                       scaler_type='std', test_label='Balanced')\n",
    "\n",
    "result_2.iloc[:,0:5].style.apply(highlight_max)"
   ]
  },
  {
   "cell_type": "code",
   "execution_count": 47,
   "metadata": {},
   "outputs": [
    {
     "data": {
      "text/html": [
       "<style  type=\"text/css\" >\n",
       "    #T_30136d5c_8c58_11ea_a3df_6c71d9da89a0row0_col0 {\n",
       "            background-color:  lime;\n",
       "        }    #T_30136d5c_8c58_11ea_a3df_6c71d9da89a0row2_col0 {\n",
       "            background-color:  lime;\n",
       "        }    #T_30136d5c_8c58_11ea_a3df_6c71d9da89a0row4_col1 {\n",
       "            background-color:  lime;\n",
       "        }    #T_30136d5c_8c58_11ea_a3df_6c71d9da89a0row4_col2 {\n",
       "            background-color:  lime;\n",
       "        }    #T_30136d5c_8c58_11ea_a3df_6c71d9da89a0row4_col3 {\n",
       "            background-color:  lime;\n",
       "        }    #T_30136d5c_8c58_11ea_a3df_6c71d9da89a0row4_col4 {\n",
       "            background-color:  lime;\n",
       "        }</style><table id=\"T_30136d5c_8c58_11ea_a3df_6c71d9da89a0\" ><thead>    <tr>        <th class=\"blank level0\" ></th>        <th class=\"col_heading level0 col0\" >Accuracy</th>        <th class=\"col_heading level0 col1\" >Precision</th>        <th class=\"col_heading level0 col2\" >Recall</th>        <th class=\"col_heading level0 col3\" >F1</th>        <th class=\"col_heading level0 col4\" >ROC-AUC</th>    </tr></thead><tbody>\n",
       "                <tr>\n",
       "                        <th id=\"T_30136d5c_8c58_11ea_a3df_6c71d9da89a0level0_row0\" class=\"row_heading level0 row0\" >Baseline (log-reg)</th>\n",
       "                        <td id=\"T_30136d5c_8c58_11ea_a3df_6c71d9da89a0row0_col0\" class=\"data row0 col0\" >0.991000</td>\n",
       "                        <td id=\"T_30136d5c_8c58_11ea_a3df_6c71d9da89a0row0_col1\" class=\"data row0 col1\" >0.667000</td>\n",
       "                        <td id=\"T_30136d5c_8c58_11ea_a3df_6c71d9da89a0row0_col2\" class=\"data row0 col2\" >0.799000</td>\n",
       "                        <td id=\"T_30136d5c_8c58_11ea_a3df_6c71d9da89a0row0_col3\" class=\"data row0 col3\" >0.728000</td>\n",
       "                        <td id=\"T_30136d5c_8c58_11ea_a3df_6c71d9da89a0row0_col4\" class=\"data row0 col4\" >0.897000</td>\n",
       "            </tr>\n",
       "            <tr>\n",
       "                        <th id=\"T_30136d5c_8c58_11ea_a3df_6c71d9da89a0level0_row1\" class=\"row_heading level0 row1\" >Baseline (knn)</th>\n",
       "                        <td id=\"T_30136d5c_8c58_11ea_a3df_6c71d9da89a0row1_col0\" class=\"data row1 col0\" >0.990000</td>\n",
       "                        <td id=\"T_30136d5c_8c58_11ea_a3df_6c71d9da89a0row1_col1\" class=\"data row1 col1\" >0.553000</td>\n",
       "                        <td id=\"T_30136d5c_8c58_11ea_a3df_6c71d9da89a0row1_col2\" class=\"data row1 col2\" >0.814000</td>\n",
       "                        <td id=\"T_30136d5c_8c58_11ea_a3df_6c71d9da89a0row1_col3\" class=\"data row1 col3\" >0.659000</td>\n",
       "                        <td id=\"T_30136d5c_8c58_11ea_a3df_6c71d9da89a0row1_col4\" class=\"data row1 col4\" >0.903000</td>\n",
       "            </tr>\n",
       "            <tr>\n",
       "                        <th id=\"T_30136d5c_8c58_11ea_a3df_6c71d9da89a0level0_row2\" class=\"row_heading level0 row2\" >Removed hicorr STD (log-reg)</th>\n",
       "                        <td id=\"T_30136d5c_8c58_11ea_a3df_6c71d9da89a0row2_col0\" class=\"data row2 col0\" >0.991000</td>\n",
       "                        <td id=\"T_30136d5c_8c58_11ea_a3df_6c71d9da89a0row2_col1\" class=\"data row2 col1\" >0.653000</td>\n",
       "                        <td id=\"T_30136d5c_8c58_11ea_a3df_6c71d9da89a0row2_col2\" class=\"data row2 col2\" >0.801000</td>\n",
       "                        <td id=\"T_30136d5c_8c58_11ea_a3df_6c71d9da89a0row2_col3\" class=\"data row2 col3\" >0.719000</td>\n",
       "                        <td id=\"T_30136d5c_8c58_11ea_a3df_6c71d9da89a0row2_col4\" class=\"data row2 col4\" >0.897000</td>\n",
       "            </tr>\n",
       "            <tr>\n",
       "                        <th id=\"T_30136d5c_8c58_11ea_a3df_6c71d9da89a0level0_row3\" class=\"row_heading level0 row3\" >Removed hicorr STD (knn)</th>\n",
       "                        <td id=\"T_30136d5c_8c58_11ea_a3df_6c71d9da89a0row3_col0\" class=\"data row3 col0\" >0.989000</td>\n",
       "                        <td id=\"T_30136d5c_8c58_11ea_a3df_6c71d9da89a0row3_col1\" class=\"data row3 col1\" >0.561000</td>\n",
       "                        <td id=\"T_30136d5c_8c58_11ea_a3df_6c71d9da89a0row3_col2\" class=\"data row3 col2\" >0.797000</td>\n",
       "                        <td id=\"T_30136d5c_8c58_11ea_a3df_6c71d9da89a0row3_col3\" class=\"data row3 col3\" >0.658000</td>\n",
       "                        <td id=\"T_30136d5c_8c58_11ea_a3df_6c71d9da89a0row3_col4\" class=\"data row3 col4\" >0.894000</td>\n",
       "            </tr>\n",
       "            <tr>\n",
       "                        <th id=\"T_30136d5c_8c58_11ea_a3df_6c71d9da89a0level0_row4\" class=\"row_heading level0 row4\" >Balanced (log-reg)</th>\n",
       "                        <td id=\"T_30136d5c_8c58_11ea_a3df_6c71d9da89a0row4_col0\" class=\"data row4 col0\" >0.953000</td>\n",
       "                        <td id=\"T_30136d5c_8c58_11ea_a3df_6c71d9da89a0row4_col1\" class=\"data row4 col1\" >0.932000</td>\n",
       "                        <td id=\"T_30136d5c_8c58_11ea_a3df_6c71d9da89a0row4_col2\" class=\"data row4 col2\" >0.972000</td>\n",
       "                        <td id=\"T_30136d5c_8c58_11ea_a3df_6c71d9da89a0row4_col3\" class=\"data row4 col3\" >0.952000</td>\n",
       "                        <td id=\"T_30136d5c_8c58_11ea_a3df_6c71d9da89a0row4_col4\" class=\"data row4 col4\" >0.954000</td>\n",
       "            </tr>\n",
       "            <tr>\n",
       "                        <th id=\"T_30136d5c_8c58_11ea_a3df_6c71d9da89a0level0_row5\" class=\"row_heading level0 row5\" >Balanced (knn)</th>\n",
       "                        <td id=\"T_30136d5c_8c58_11ea_a3df_6c71d9da89a0row5_col0\" class=\"data row5 col0\" >0.941000</td>\n",
       "                        <td id=\"T_30136d5c_8c58_11ea_a3df_6c71d9da89a0row5_col1\" class=\"data row5 col1\" >0.917000</td>\n",
       "                        <td id=\"T_30136d5c_8c58_11ea_a3df_6c71d9da89a0row5_col2\" class=\"data row5 col2\" >0.962000</td>\n",
       "                        <td id=\"T_30136d5c_8c58_11ea_a3df_6c71d9da89a0row5_col3\" class=\"data row5 col3\" >0.939000</td>\n",
       "                        <td id=\"T_30136d5c_8c58_11ea_a3df_6c71d9da89a0row5_col4\" class=\"data row5 col4\" >0.942000</td>\n",
       "            </tr>\n",
       "            <tr>\n",
       "                        <th id=\"T_30136d5c_8c58_11ea_a3df_6c71d9da89a0level0_row6\" class=\"row_heading level0 row6\" >Over_sample (log-reg)</th>\n",
       "                        <td id=\"T_30136d5c_8c58_11ea_a3df_6c71d9da89a0row6_col0\" class=\"data row6 col0\" >0.971000</td>\n",
       "                        <td id=\"T_30136d5c_8c58_11ea_a3df_6c71d9da89a0row6_col1\" class=\"data row6 col1\" >0.900000</td>\n",
       "                        <td id=\"T_30136d5c_8c58_11ea_a3df_6c71d9da89a0row6_col2\" class=\"data row6 col2\" >0.371000</td>\n",
       "                        <td id=\"T_30136d5c_8c58_11ea_a3df_6c71d9da89a0row6_col3\" class=\"data row6 col3\" >0.525000</td>\n",
       "                        <td id=\"T_30136d5c_8c58_11ea_a3df_6c71d9da89a0row6_col4\" class=\"data row6 col4\" >0.685000</td>\n",
       "            </tr>\n",
       "            <tr>\n",
       "                        <th id=\"T_30136d5c_8c58_11ea_a3df_6c71d9da89a0level0_row7\" class=\"row_heading level0 row7\" >Over_sample (knn)</th>\n",
       "                        <td id=\"T_30136d5c_8c58_11ea_a3df_6c71d9da89a0row7_col0\" class=\"data row7 col0\" >0.978000</td>\n",
       "                        <td id=\"T_30136d5c_8c58_11ea_a3df_6c71d9da89a0row7_col1\" class=\"data row7 col1\" >0.876000</td>\n",
       "                        <td id=\"T_30136d5c_8c58_11ea_a3df_6c71d9da89a0row7_col2\" class=\"data row7 col2\" >0.443000</td>\n",
       "                        <td id=\"T_30136d5c_8c58_11ea_a3df_6c71d9da89a0row7_col3\" class=\"data row7 col3\" >0.589000</td>\n",
       "                        <td id=\"T_30136d5c_8c58_11ea_a3df_6c71d9da89a0row7_col4\" class=\"data row7 col4\" >0.721000</td>\n",
       "            </tr>\n",
       "    </tbody></table>"
      ],
      "text/plain": [
       "<pandas.io.formats.style.Styler at 0x27cac194dc8>"
      ]
     },
     "execution_count": 47,
     "metadata": {},
     "output_type": "execute_result"
    }
   ],
   "source": [
    "# Применим over-sampling целевой переменной с помощью SMOTE и запустим тестирование модели\n",
    "result_2 = evaluate_data(test_df=sdf_removed_hicorr, report_df=result_2, target='class', \n",
    "                       scaler_type='std', ovs=True, test_label='Over_sample')\n",
    "\n",
    "result_2.iloc[:,0:5].style.apply(highlight_max)"
   ]
  },
  {
   "cell_type": "markdown",
   "metadata": {},
   "source": [
    "### 2.4. Определим 10 популярных features и сократим модель"
   ]
  },
  {
   "cell_type": "code",
   "execution_count": 57,
   "metadata": {},
   "outputs": [],
   "source": [
    "imp_feats = important_features(sdf_balanced, 'class', np.arange(0.01,0.1,0.001), 10)"
   ]
  },
  {
   "cell_type": "code",
   "execution_count": 58,
   "metadata": {},
   "outputs": [],
   "source": [
    "# Создадим новый DataFrame для тестирования\n",
    "sdf_shrunk = sdf_balanced[['class']+imp_feats].copy(deep=True)"
   ]
  },
  {
   "cell_type": "code",
   "execution_count": 59,
   "metadata": {},
   "outputs": [
    {
     "data": {
      "text/plain": [
       "(2750, 10)"
      ]
     },
     "execution_count": 59,
     "metadata": {},
     "output_type": "execute_result"
    }
   ],
   "source": [
    "sdf_shrunk.shape"
   ]
  },
  {
   "cell_type": "code",
   "execution_count": 60,
   "metadata": {},
   "outputs": [
    {
     "data": {
      "image/png": "[encoded data removed]",
      "text/plain": [
       "<Figure size 1440x1440 with 12 Axes>"
      ]
     },
     "metadata": {
      "needs_background": "light"
     },
     "output_type": "display_data"
    }
   ],
   "source": [
    "# Гистограммы переменных\n",
    "sdf_shrunk.hist(figsize=(20, 20));"
   ]
  },
  {
   "cell_type": "code",
   "execution_count": 61,
   "metadata": {},
   "outputs": [
    {
     "data": {
      "text/html": [
       "<style  type=\"text/css\" >\n",
       "    #T_f560d4c0_8c58_11ea_bfc2_6c71d9da89a0row0_col0 {\n",
       "            background-color:  lime;\n",
       "        }    #T_f560d4c0_8c58_11ea_bfc2_6c71d9da89a0row2_col0 {\n",
       "            background-color:  lime;\n",
       "        }    #T_f560d4c0_8c58_11ea_bfc2_6c71d9da89a0row4_col2 {\n",
       "            background-color:  lime;\n",
       "        }    #T_f560d4c0_8c58_11ea_bfc2_6c71d9da89a0row4_col3 {\n",
       "            background-color:  lime;\n",
       "        }    #T_f560d4c0_8c58_11ea_bfc2_6c71d9da89a0row4_col4 {\n",
       "            background-color:  lime;\n",
       "        }    #T_f560d4c0_8c58_11ea_bfc2_6c71d9da89a0row9_col1 {\n",
       "            background-color:  lime;\n",
       "        }</style><table id=\"T_f560d4c0_8c58_11ea_bfc2_6c71d9da89a0\" ><thead>    <tr>        <th class=\"blank level0\" ></th>        <th class=\"col_heading level0 col0\" >Accuracy</th>        <th class=\"col_heading level0 col1\" >Precision</th>        <th class=\"col_heading level0 col2\" >Recall</th>        <th class=\"col_heading level0 col3\" >F1</th>        <th class=\"col_heading level0 col4\" >ROC-AUC</th>    </tr></thead><tbody>\n",
       "                <tr>\n",
       "                        <th id=\"T_f560d4c0_8c58_11ea_bfc2_6c71d9da89a0level0_row0\" class=\"row_heading level0 row0\" >Baseline (log-reg)</th>\n",
       "                        <td id=\"T_f560d4c0_8c58_11ea_bfc2_6c71d9da89a0row0_col0\" class=\"data row0 col0\" >0.991000</td>\n",
       "                        <td id=\"T_f560d4c0_8c58_11ea_bfc2_6c71d9da89a0row0_col1\" class=\"data row0 col1\" >0.667000</td>\n",
       "                        <td id=\"T_f560d4c0_8c58_11ea_bfc2_6c71d9da89a0row0_col2\" class=\"data row0 col2\" >0.799000</td>\n",
       "                        <td id=\"T_f560d4c0_8c58_11ea_bfc2_6c71d9da89a0row0_col3\" class=\"data row0 col3\" >0.728000</td>\n",
       "                        <td id=\"T_f560d4c0_8c58_11ea_bfc2_6c71d9da89a0row0_col4\" class=\"data row0 col4\" >0.897000</td>\n",
       "            </tr>\n",
       "            <tr>\n",
       "                        <th id=\"T_f560d4c0_8c58_11ea_bfc2_6c71d9da89a0level0_row1\" class=\"row_heading level0 row1\" >Baseline (knn)</th>\n",
       "                        <td id=\"T_f560d4c0_8c58_11ea_bfc2_6c71d9da89a0row1_col0\" class=\"data row1 col0\" >0.990000</td>\n",
       "                        <td id=\"T_f560d4c0_8c58_11ea_bfc2_6c71d9da89a0row1_col1\" class=\"data row1 col1\" >0.553000</td>\n",
       "                        <td id=\"T_f560d4c0_8c58_11ea_bfc2_6c71d9da89a0row1_col2\" class=\"data row1 col2\" >0.814000</td>\n",
       "                        <td id=\"T_f560d4c0_8c58_11ea_bfc2_6c71d9da89a0row1_col3\" class=\"data row1 col3\" >0.659000</td>\n",
       "                        <td id=\"T_f560d4c0_8c58_11ea_bfc2_6c71d9da89a0row1_col4\" class=\"data row1 col4\" >0.903000</td>\n",
       "            </tr>\n",
       "            <tr>\n",
       "                        <th id=\"T_f560d4c0_8c58_11ea_bfc2_6c71d9da89a0level0_row2\" class=\"row_heading level0 row2\" >Removed hicorr STD (log-reg)</th>\n",
       "                        <td id=\"T_f560d4c0_8c58_11ea_bfc2_6c71d9da89a0row2_col0\" class=\"data row2 col0\" >0.991000</td>\n",
       "                        <td id=\"T_f560d4c0_8c58_11ea_bfc2_6c71d9da89a0row2_col1\" class=\"data row2 col1\" >0.653000</td>\n",
       "                        <td id=\"T_f560d4c0_8c58_11ea_bfc2_6c71d9da89a0row2_col2\" class=\"data row2 col2\" >0.801000</td>\n",
       "                        <td id=\"T_f560d4c0_8c58_11ea_bfc2_6c71d9da89a0row2_col3\" class=\"data row2 col3\" >0.719000</td>\n",
       "                        <td id=\"T_f560d4c0_8c58_11ea_bfc2_6c71d9da89a0row2_col4\" class=\"data row2 col4\" >0.897000</td>\n",
       "            </tr>\n",
       "            <tr>\n",
       "                        <th id=\"T_f560d4c0_8c58_11ea_bfc2_6c71d9da89a0level0_row3\" class=\"row_heading level0 row3\" >Removed hicorr STD (knn)</th>\n",
       "                        <td id=\"T_f560d4c0_8c58_11ea_bfc2_6c71d9da89a0row3_col0\" class=\"data row3 col0\" >0.989000</td>\n",
       "                        <td id=\"T_f560d4c0_8c58_11ea_bfc2_6c71d9da89a0row3_col1\" class=\"data row3 col1\" >0.561000</td>\n",
       "                        <td id=\"T_f560d4c0_8c58_11ea_bfc2_6c71d9da89a0row3_col2\" class=\"data row3 col2\" >0.797000</td>\n",
       "                        <td id=\"T_f560d4c0_8c58_11ea_bfc2_6c71d9da89a0row3_col3\" class=\"data row3 col3\" >0.658000</td>\n",
       "                        <td id=\"T_f560d4c0_8c58_11ea_bfc2_6c71d9da89a0row3_col4\" class=\"data row3 col4\" >0.894000</td>\n",
       "            </tr>\n",
       "            <tr>\n",
       "                        <th id=\"T_f560d4c0_8c58_11ea_bfc2_6c71d9da89a0level0_row4\" class=\"row_heading level0 row4\" >Balanced (log-reg)</th>\n",
       "                        <td id=\"T_f560d4c0_8c58_11ea_bfc2_6c71d9da89a0row4_col0\" class=\"data row4 col0\" >0.953000</td>\n",
       "                        <td id=\"T_f560d4c0_8c58_11ea_bfc2_6c71d9da89a0row4_col1\" class=\"data row4 col1\" >0.932000</td>\n",
       "                        <td id=\"T_f560d4c0_8c58_11ea_bfc2_6c71d9da89a0row4_col2\" class=\"data row4 col2\" >0.972000</td>\n",
       "                        <td id=\"T_f560d4c0_8c58_11ea_bfc2_6c71d9da89a0row4_col3\" class=\"data row4 col3\" >0.952000</td>\n",
       "                        <td id=\"T_f560d4c0_8c58_11ea_bfc2_6c71d9da89a0row4_col4\" class=\"data row4 col4\" >0.954000</td>\n",
       "            </tr>\n",
       "            <tr>\n",
       "                        <th id=\"T_f560d4c0_8c58_11ea_bfc2_6c71d9da89a0level0_row5\" class=\"row_heading level0 row5\" >Balanced (knn)</th>\n",
       "                        <td id=\"T_f560d4c0_8c58_11ea_bfc2_6c71d9da89a0row5_col0\" class=\"data row5 col0\" >0.941000</td>\n",
       "                        <td id=\"T_f560d4c0_8c58_11ea_bfc2_6c71d9da89a0row5_col1\" class=\"data row5 col1\" >0.917000</td>\n",
       "                        <td id=\"T_f560d4c0_8c58_11ea_bfc2_6c71d9da89a0row5_col2\" class=\"data row5 col2\" >0.962000</td>\n",
       "                        <td id=\"T_f560d4c0_8c58_11ea_bfc2_6c71d9da89a0row5_col3\" class=\"data row5 col3\" >0.939000</td>\n",
       "                        <td id=\"T_f560d4c0_8c58_11ea_bfc2_6c71d9da89a0row5_col4\" class=\"data row5 col4\" >0.942000</td>\n",
       "            </tr>\n",
       "            <tr>\n",
       "                        <th id=\"T_f560d4c0_8c58_11ea_bfc2_6c71d9da89a0level0_row6\" class=\"row_heading level0 row6\" >Over_sample (log-reg)</th>\n",
       "                        <td id=\"T_f560d4c0_8c58_11ea_bfc2_6c71d9da89a0row6_col0\" class=\"data row6 col0\" >0.971000</td>\n",
       "                        <td id=\"T_f560d4c0_8c58_11ea_bfc2_6c71d9da89a0row6_col1\" class=\"data row6 col1\" >0.900000</td>\n",
       "                        <td id=\"T_f560d4c0_8c58_11ea_bfc2_6c71d9da89a0row6_col2\" class=\"data row6 col2\" >0.371000</td>\n",
       "                        <td id=\"T_f560d4c0_8c58_11ea_bfc2_6c71d9da89a0row6_col3\" class=\"data row6 col3\" >0.525000</td>\n",
       "                        <td id=\"T_f560d4c0_8c58_11ea_bfc2_6c71d9da89a0row6_col4\" class=\"data row6 col4\" >0.685000</td>\n",
       "            </tr>\n",
       "            <tr>\n",
       "                        <th id=\"T_f560d4c0_8c58_11ea_bfc2_6c71d9da89a0level0_row7\" class=\"row_heading level0 row7\" >Over_sample (knn)</th>\n",
       "                        <td id=\"T_f560d4c0_8c58_11ea_bfc2_6c71d9da89a0row7_col0\" class=\"data row7 col0\" >0.978000</td>\n",
       "                        <td id=\"T_f560d4c0_8c58_11ea_bfc2_6c71d9da89a0row7_col1\" class=\"data row7 col1\" >0.876000</td>\n",
       "                        <td id=\"T_f560d4c0_8c58_11ea_bfc2_6c71d9da89a0row7_col2\" class=\"data row7 col2\" >0.443000</td>\n",
       "                        <td id=\"T_f560d4c0_8c58_11ea_bfc2_6c71d9da89a0row7_col3\" class=\"data row7 col3\" >0.589000</td>\n",
       "                        <td id=\"T_f560d4c0_8c58_11ea_bfc2_6c71d9da89a0row7_col4\" class=\"data row7 col4\" >0.721000</td>\n",
       "            </tr>\n",
       "            <tr>\n",
       "                        <th id=\"T_f560d4c0_8c58_11ea_bfc2_6c71d9da89a0level0_row8\" class=\"row_heading level0 row8\" >Shrunk feats (log-reg)</th>\n",
       "                        <td id=\"T_f560d4c0_8c58_11ea_bfc2_6c71d9da89a0row8_col0\" class=\"data row8 col0\" >0.941000</td>\n",
       "                        <td id=\"T_f560d4c0_8c58_11ea_bfc2_6c71d9da89a0row8_col1\" class=\"data row8 col1\" >0.930000</td>\n",
       "                        <td id=\"T_f560d4c0_8c58_11ea_bfc2_6c71d9da89a0row8_col2\" class=\"data row8 col2\" >0.950000</td>\n",
       "                        <td id=\"T_f560d4c0_8c58_11ea_bfc2_6c71d9da89a0row8_col3\" class=\"data row8 col3\" >0.940000</td>\n",
       "                        <td id=\"T_f560d4c0_8c58_11ea_bfc2_6c71d9da89a0row8_col4\" class=\"data row8 col4\" >0.941000</td>\n",
       "            </tr>\n",
       "            <tr>\n",
       "                        <th id=\"T_f560d4c0_8c58_11ea_bfc2_6c71d9da89a0level0_row9\" class=\"row_heading level0 row9\" >Shrunk feats (knn)</th>\n",
       "                        <td id=\"T_f560d4c0_8c58_11ea_bfc2_6c71d9da89a0row9_col0\" class=\"data row9 col0\" >0.941000</td>\n",
       "                        <td id=\"T_f560d4c0_8c58_11ea_bfc2_6c71d9da89a0row9_col1\" class=\"data row9 col1\" >0.947000</td>\n",
       "                        <td id=\"T_f560d4c0_8c58_11ea_bfc2_6c71d9da89a0row9_col2\" class=\"data row9 col2\" >0.935000</td>\n",
       "                        <td id=\"T_f560d4c0_8c58_11ea_bfc2_6c71d9da89a0row9_col3\" class=\"data row9 col3\" >0.941000</td>\n",
       "                        <td id=\"T_f560d4c0_8c58_11ea_bfc2_6c71d9da89a0row9_col4\" class=\"data row9 col4\" >0.941000</td>\n",
       "            </tr>\n",
       "    </tbody></table>"
      ],
      "text/plain": [
       "<pandas.io.formats.style.Styler at 0x27ca9d0db08>"
      ]
     },
     "execution_count": 61,
     "metadata": {},
     "output_type": "execute_result"
    }
   ],
   "source": [
    "# Запустим тестирование модели\n",
    "result_2 = evaluate_data(test_df=sdf_shrunk, report_df=result_2, target='class', \n",
    "                       scaler_type='std', test_label='Shrunk feats')\n",
    "\n",
    "result_2.iloc[:,0:5].style.apply(highlight_max)"
   ]
  },
  {
   "cell_type": "markdown",
   "metadata": {},
   "source": [
    "### 2.5. Применим log(x+1) к данным"
   ]
  },
  {
   "cell_type": "code",
   "execution_count": 62,
   "metadata": {},
   "outputs": [],
   "source": [
    "# Создадим новый DataFrame для тестирования\n",
    "sdf_log1p = sdf_shrunk.copy(deep=True)"
   ]
  },
  {
   "cell_type": "code",
   "execution_count": 63,
   "metadata": {},
   "outputs": [],
   "source": [
    "# Прологарифмируем значения некоторых переменных\n",
    "for col in ['ag_005', 'ah_000', 'ar_000', 'ay_008', 'ee_005', 'ee_006']:\n",
    "    sdf_log1p[col] = np.log1p(sdf_log1p[col])"
   ]
  },
  {
   "cell_type": "code",
   "execution_count": 64,
   "metadata": {
    "scrolled": false
   },
   "outputs": [
    {
     "data": {
      "image/png": "[encoded data removed]",
      "text/plain": [
       "<Figure size 1440x1440 with 12 Axes>"
      ]
     },
     "metadata": {
      "needs_background": "light"
     },
     "output_type": "display_data"
    }
   ],
   "source": [
    "sdf_log1p.hist(figsize=(20, 20));"
   ]
  },
  {
   "cell_type": "code",
   "execution_count": 65,
   "metadata": {},
   "outputs": [
    {
     "data": {
      "text/html": [
       "<style  type=\"text/css\" >\n",
       "    #T_1251a4ee_8c59_11ea_b008_6c71d9da89a0row0_col0 {\n",
       "            background-color:  lime;\n",
       "        }    #T_1251a4ee_8c59_11ea_b008_6c71d9da89a0row2_col0 {\n",
       "            background-color:  lime;\n",
       "        }    #T_1251a4ee_8c59_11ea_b008_6c71d9da89a0row4_col2 {\n",
       "            background-color:  lime;\n",
       "        }    #T_1251a4ee_8c59_11ea_b008_6c71d9da89a0row4_col3 {\n",
       "            background-color:  lime;\n",
       "        }    #T_1251a4ee_8c59_11ea_b008_6c71d9da89a0row4_col4 {\n",
       "            background-color:  lime;\n",
       "        }    #T_1251a4ee_8c59_11ea_b008_6c71d9da89a0row11_col1 {\n",
       "            background-color:  lime;\n",
       "        }</style><table id=\"T_1251a4ee_8c59_11ea_b008_6c71d9da89a0\" ><thead>    <tr>        <th class=\"blank level0\" ></th>        <th class=\"col_heading level0 col0\" >Accuracy</th>        <th class=\"col_heading level0 col1\" >Precision</th>        <th class=\"col_heading level0 col2\" >Recall</th>        <th class=\"col_heading level0 col3\" >F1</th>        <th class=\"col_heading level0 col4\" >ROC-AUC</th>    </tr></thead><tbody>\n",
       "                <tr>\n",
       "                        <th id=\"T_1251a4ee_8c59_11ea_b008_6c71d9da89a0level0_row0\" class=\"row_heading level0 row0\" >Baseline (log-reg)</th>\n",
       "                        <td id=\"T_1251a4ee_8c59_11ea_b008_6c71d9da89a0row0_col0\" class=\"data row0 col0\" >0.991000</td>\n",
       "                        <td id=\"T_1251a4ee_8c59_11ea_b008_6c71d9da89a0row0_col1\" class=\"data row0 col1\" >0.667000</td>\n",
       "                        <td id=\"T_1251a4ee_8c59_11ea_b008_6c71d9da89a0row0_col2\" class=\"data row0 col2\" >0.799000</td>\n",
       "                        <td id=\"T_1251a4ee_8c59_11ea_b008_6c71d9da89a0row0_col3\" class=\"data row0 col3\" >0.728000</td>\n",
       "                        <td id=\"T_1251a4ee_8c59_11ea_b008_6c71d9da89a0row0_col4\" class=\"data row0 col4\" >0.897000</td>\n",
       "            </tr>\n",
       "            <tr>\n",
       "                        <th id=\"T_1251a4ee_8c59_11ea_b008_6c71d9da89a0level0_row1\" class=\"row_heading level0 row1\" >Baseline (knn)</th>\n",
       "                        <td id=\"T_1251a4ee_8c59_11ea_b008_6c71d9da89a0row1_col0\" class=\"data row1 col0\" >0.990000</td>\n",
       "                        <td id=\"T_1251a4ee_8c59_11ea_b008_6c71d9da89a0row1_col1\" class=\"data row1 col1\" >0.553000</td>\n",
       "                        <td id=\"T_1251a4ee_8c59_11ea_b008_6c71d9da89a0row1_col2\" class=\"data row1 col2\" >0.814000</td>\n",
       "                        <td id=\"T_1251a4ee_8c59_11ea_b008_6c71d9da89a0row1_col3\" class=\"data row1 col3\" >0.659000</td>\n",
       "                        <td id=\"T_1251a4ee_8c59_11ea_b008_6c71d9da89a0row1_col4\" class=\"data row1 col4\" >0.903000</td>\n",
       "            </tr>\n",
       "            <tr>\n",
       "                        <th id=\"T_1251a4ee_8c59_11ea_b008_6c71d9da89a0level0_row2\" class=\"row_heading level0 row2\" >Removed hicorr STD (log-reg)</th>\n",
       "                        <td id=\"T_1251a4ee_8c59_11ea_b008_6c71d9da89a0row2_col0\" class=\"data row2 col0\" >0.991000</td>\n",
       "                        <td id=\"T_1251a4ee_8c59_11ea_b008_6c71d9da89a0row2_col1\" class=\"data row2 col1\" >0.653000</td>\n",
       "                        <td id=\"T_1251a4ee_8c59_11ea_b008_6c71d9da89a0row2_col2\" class=\"data row2 col2\" >0.801000</td>\n",
       "                        <td id=\"T_1251a4ee_8c59_11ea_b008_6c71d9da89a0row2_col3\" class=\"data row2 col3\" >0.719000</td>\n",
       "                        <td id=\"T_1251a4ee_8c59_11ea_b008_6c71d9da89a0row2_col4\" class=\"data row2 col4\" >0.897000</td>\n",
       "            </tr>\n",
       "            <tr>\n",
       "                        <th id=\"T_1251a4ee_8c59_11ea_b008_6c71d9da89a0level0_row3\" class=\"row_heading level0 row3\" >Removed hicorr STD (knn)</th>\n",
       "                        <td id=\"T_1251a4ee_8c59_11ea_b008_6c71d9da89a0row3_col0\" class=\"data row3 col0\" >0.989000</td>\n",
       "                        <td id=\"T_1251a4ee_8c59_11ea_b008_6c71d9da89a0row3_col1\" class=\"data row3 col1\" >0.561000</td>\n",
       "                        <td id=\"T_1251a4ee_8c59_11ea_b008_6c71d9da89a0row3_col2\" class=\"data row3 col2\" >0.797000</td>\n",
       "                        <td id=\"T_1251a4ee_8c59_11ea_b008_6c71d9da89a0row3_col3\" class=\"data row3 col3\" >0.658000</td>\n",
       "                        <td id=\"T_1251a4ee_8c59_11ea_b008_6c71d9da89a0row3_col4\" class=\"data row3 col4\" >0.894000</td>\n",
       "            </tr>\n",
       "            <tr>\n",
       "                        <th id=\"T_1251a4ee_8c59_11ea_b008_6c71d9da89a0level0_row4\" class=\"row_heading level0 row4\" >Balanced (log-reg)</th>\n",
       "                        <td id=\"T_1251a4ee_8c59_11ea_b008_6c71d9da89a0row4_col0\" class=\"data row4 col0\" >0.953000</td>\n",
       "                        <td id=\"T_1251a4ee_8c59_11ea_b008_6c71d9da89a0row4_col1\" class=\"data row4 col1\" >0.932000</td>\n",
       "                        <td id=\"T_1251a4ee_8c59_11ea_b008_6c71d9da89a0row4_col2\" class=\"data row4 col2\" >0.972000</td>\n",
       "                        <td id=\"T_1251a4ee_8c59_11ea_b008_6c71d9da89a0row4_col3\" class=\"data row4 col3\" >0.952000</td>\n",
       "                        <td id=\"T_1251a4ee_8c59_11ea_b008_6c71d9da89a0row4_col4\" class=\"data row4 col4\" >0.954000</td>\n",
       "            </tr>\n",
       "            <tr>\n",
       "                        <th id=\"T_1251a4ee_8c59_11ea_b008_6c71d9da89a0level0_row5\" class=\"row_heading level0 row5\" >Balanced (knn)</th>\n",
       "                        <td id=\"T_1251a4ee_8c59_11ea_b008_6c71d9da89a0row5_col0\" class=\"data row5 col0\" >0.941000</td>\n",
       "                        <td id=\"T_1251a4ee_8c59_11ea_b008_6c71d9da89a0row5_col1\" class=\"data row5 col1\" >0.917000</td>\n",
       "                        <td id=\"T_1251a4ee_8c59_11ea_b008_6c71d9da89a0row5_col2\" class=\"data row5 col2\" >0.962000</td>\n",
       "                        <td id=\"T_1251a4ee_8c59_11ea_b008_6c71d9da89a0row5_col3\" class=\"data row5 col3\" >0.939000</td>\n",
       "                        <td id=\"T_1251a4ee_8c59_11ea_b008_6c71d9da89a0row5_col4\" class=\"data row5 col4\" >0.942000</td>\n",
       "            </tr>\n",
       "            <tr>\n",
       "                        <th id=\"T_1251a4ee_8c59_11ea_b008_6c71d9da89a0level0_row6\" class=\"row_heading level0 row6\" >Over_sample (log-reg)</th>\n",
       "                        <td id=\"T_1251a4ee_8c59_11ea_b008_6c71d9da89a0row6_col0\" class=\"data row6 col0\" >0.971000</td>\n",
       "                        <td id=\"T_1251a4ee_8c59_11ea_b008_6c71d9da89a0row6_col1\" class=\"data row6 col1\" >0.900000</td>\n",
       "                        <td id=\"T_1251a4ee_8c59_11ea_b008_6c71d9da89a0row6_col2\" class=\"data row6 col2\" >0.371000</td>\n",
       "                        <td id=\"T_1251a4ee_8c59_11ea_b008_6c71d9da89a0row6_col3\" class=\"data row6 col3\" >0.525000</td>\n",
       "                        <td id=\"T_1251a4ee_8c59_11ea_b008_6c71d9da89a0row6_col4\" class=\"data row6 col4\" >0.685000</td>\n",
       "            </tr>\n",
       "            <tr>\n",
       "                        <th id=\"T_1251a4ee_8c59_11ea_b008_6c71d9da89a0level0_row7\" class=\"row_heading level0 row7\" >Over_sample (knn)</th>\n",
       "                        <td id=\"T_1251a4ee_8c59_11ea_b008_6c71d9da89a0row7_col0\" class=\"data row7 col0\" >0.978000</td>\n",
       "                        <td id=\"T_1251a4ee_8c59_11ea_b008_6c71d9da89a0row7_col1\" class=\"data row7 col1\" >0.876000</td>\n",
       "                        <td id=\"T_1251a4ee_8c59_11ea_b008_6c71d9da89a0row7_col2\" class=\"data row7 col2\" >0.443000</td>\n",
       "                        <td id=\"T_1251a4ee_8c59_11ea_b008_6c71d9da89a0row7_col3\" class=\"data row7 col3\" >0.589000</td>\n",
       "                        <td id=\"T_1251a4ee_8c59_11ea_b008_6c71d9da89a0row7_col4\" class=\"data row7 col4\" >0.721000</td>\n",
       "            </tr>\n",
       "            <tr>\n",
       "                        <th id=\"T_1251a4ee_8c59_11ea_b008_6c71d9da89a0level0_row8\" class=\"row_heading level0 row8\" >Shrunk feats (log-reg)</th>\n",
       "                        <td id=\"T_1251a4ee_8c59_11ea_b008_6c71d9da89a0row8_col0\" class=\"data row8 col0\" >0.941000</td>\n",
       "                        <td id=\"T_1251a4ee_8c59_11ea_b008_6c71d9da89a0row8_col1\" class=\"data row8 col1\" >0.930000</td>\n",
       "                        <td id=\"T_1251a4ee_8c59_11ea_b008_6c71d9da89a0row8_col2\" class=\"data row8 col2\" >0.950000</td>\n",
       "                        <td id=\"T_1251a4ee_8c59_11ea_b008_6c71d9da89a0row8_col3\" class=\"data row8 col3\" >0.940000</td>\n",
       "                        <td id=\"T_1251a4ee_8c59_11ea_b008_6c71d9da89a0row8_col4\" class=\"data row8 col4\" >0.941000</td>\n",
       "            </tr>\n",
       "            <tr>\n",
       "                        <th id=\"T_1251a4ee_8c59_11ea_b008_6c71d9da89a0level0_row9\" class=\"row_heading level0 row9\" >Shrunk feats (knn)</th>\n",
       "                        <td id=\"T_1251a4ee_8c59_11ea_b008_6c71d9da89a0row9_col0\" class=\"data row9 col0\" >0.941000</td>\n",
       "                        <td id=\"T_1251a4ee_8c59_11ea_b008_6c71d9da89a0row9_col1\" class=\"data row9 col1\" >0.947000</td>\n",
       "                        <td id=\"T_1251a4ee_8c59_11ea_b008_6c71d9da89a0row9_col2\" class=\"data row9 col2\" >0.935000</td>\n",
       "                        <td id=\"T_1251a4ee_8c59_11ea_b008_6c71d9da89a0row9_col3\" class=\"data row9 col3\" >0.941000</td>\n",
       "                        <td id=\"T_1251a4ee_8c59_11ea_b008_6c71d9da89a0row9_col4\" class=\"data row9 col4\" >0.941000</td>\n",
       "            </tr>\n",
       "            <tr>\n",
       "                        <th id=\"T_1251a4ee_8c59_11ea_b008_6c71d9da89a0level0_row10\" class=\"row_heading level0 row10\" >log1p (log-reg)</th>\n",
       "                        <td id=\"T_1251a4ee_8c59_11ea_b008_6c71d9da89a0row10_col0\" class=\"data row10 col0\" >0.941000</td>\n",
       "                        <td id=\"T_1251a4ee_8c59_11ea_b008_6c71d9da89a0row10_col1\" class=\"data row10 col1\" >0.930000</td>\n",
       "                        <td id=\"T_1251a4ee_8c59_11ea_b008_6c71d9da89a0row10_col2\" class=\"data row10 col2\" >0.950000</td>\n",
       "                        <td id=\"T_1251a4ee_8c59_11ea_b008_6c71d9da89a0row10_col3\" class=\"data row10 col3\" >0.940000</td>\n",
       "                        <td id=\"T_1251a4ee_8c59_11ea_b008_6c71d9da89a0row10_col4\" class=\"data row10 col4\" >0.941000</td>\n",
       "            </tr>\n",
       "            <tr>\n",
       "                        <th id=\"T_1251a4ee_8c59_11ea_b008_6c71d9da89a0level0_row11\" class=\"row_heading level0 row11\" >log1p (knn)</th>\n",
       "                        <td id=\"T_1251a4ee_8c59_11ea_b008_6c71d9da89a0row11_col0\" class=\"data row11 col0\" >0.943000</td>\n",
       "                        <td id=\"T_1251a4ee_8c59_11ea_b008_6c71d9da89a0row11_col1\" class=\"data row11 col1\" >0.956000</td>\n",
       "                        <td id=\"T_1251a4ee_8c59_11ea_b008_6c71d9da89a0row11_col2\" class=\"data row11 col2\" >0.931000</td>\n",
       "                        <td id=\"T_1251a4ee_8c59_11ea_b008_6c71d9da89a0row11_col3\" class=\"data row11 col3\" >0.944000</td>\n",
       "                        <td id=\"T_1251a4ee_8c59_11ea_b008_6c71d9da89a0row11_col4\" class=\"data row11 col4\" >0.943000</td>\n",
       "            </tr>\n",
       "    </tbody></table>"
      ],
      "text/plain": [
       "<pandas.io.formats.style.Styler at 0x27ca9d05ac8>"
      ]
     },
     "execution_count": 65,
     "metadata": {},
     "output_type": "execute_result"
    }
   ],
   "source": [
    "# Запустим тестирование модели\n",
    "result_2 = evaluate_data(test_df=sdf_log1p, report_df=result_2, target='class', \n",
    "                       scaler_type='std', test_label='log1p')\n",
    "\n",
    "result_2.iloc[:,0:5].style.apply(highlight_max)"
   ]
  },
  {
   "cell_type": "markdown",
   "metadata": {},
   "source": [
    "### 2.5. Вывод"
   ]
  },
  {
   "cell_type": "markdown",
   "metadata": {},
   "source": [
    "Улучшить качество модели помогло удаление сильноскоррелированных признаков (что хорошо отразилось при использовании log-reg), а так же создание сбалансированного датасета. Баланс классов с помощью SMOTE улучшил accuracy в сравнении с простой обрезкой, но сильно упал recall и f1. Выделение best features с помощью регуляризации, а также применение метода log(x+1) не принесло ожидаемого эффекта (хотя recall в последнем и увеличился)"
   ]
  },
  {
   "cell_type": "markdown",
   "metadata": {},
   "source": [
    "<a id=\"6\"></a>\n",
    "## Итоговое заключение [(Наверх)](#0) "
   ]
  },
  {
   "cell_type": "markdown",
   "metadata": {},
   "source": [
    "Сравним результаты тестирования"
   ]
  },
  {
   "cell_type": "markdown",
   "metadata": {},
   "source": [
    "### Route #1"
   ]
  },
  {
   "cell_type": "code",
   "execution_count": 66,
   "metadata": {},
   "outputs": [
    {
     "data": {
      "text/html": [
       "<style  type=\"text/css\" >\n",
       "    #T_b743588a_8c5b_11ea_9322_6c71d9da89a0row2_col0 {\n",
       "            background-color:  lime;\n",
       "        }    #T_b743588a_8c5b_11ea_9322_6c71d9da89a0row2_col3 {\n",
       "            background-color:  lime;\n",
       "        }    #T_b743588a_8c5b_11ea_9322_6c71d9da89a0row2_col4 {\n",
       "            background-color:  lime;\n",
       "        }    #T_b743588a_8c5b_11ea_9322_6c71d9da89a0row3_col2 {\n",
       "            background-color:  lime;\n",
       "        }    #T_b743588a_8c5b_11ea_9322_6c71d9da89a0row4_col1 {\n",
       "            background-color:  lime;\n",
       "        }</style><table id=\"T_b743588a_8c5b_11ea_9322_6c71d9da89a0\" ><thead>    <tr>        <th class=\"blank level0\" ></th>        <th class=\"col_heading level0 col0\" >Accuracy</th>        <th class=\"col_heading level0 col1\" >Precision</th>        <th class=\"col_heading level0 col2\" >Recall</th>        <th class=\"col_heading level0 col3\" >F1</th>        <th class=\"col_heading level0 col4\" >ROC-AUC</th>    </tr></thead><tbody>\n",
       "                <tr>\n",
       "                        <th id=\"T_b743588a_8c5b_11ea_9322_6c71d9da89a0level0_row0\" class=\"row_heading level0 row0\" >Baseline (log-reg)</th>\n",
       "                        <td id=\"T_b743588a_8c5b_11ea_9322_6c71d9da89a0row0_col0\" class=\"data row0 col0\" >0.956000</td>\n",
       "                        <td id=\"T_b743588a_8c5b_11ea_9322_6c71d9da89a0row0_col1\" class=\"data row0 col1\" >0.812000</td>\n",
       "                        <td id=\"T_b743588a_8c5b_11ea_9322_6c71d9da89a0row0_col2\" class=\"data row0 col2\" >0.867000</td>\n",
       "                        <td id=\"T_b743588a_8c5b_11ea_9322_6c71d9da89a0row0_col3\" class=\"data row0 col3\" >0.839000</td>\n",
       "                        <td id=\"T_b743588a_8c5b_11ea_9322_6c71d9da89a0row0_col4\" class=\"data row0 col4\" >0.918000</td>\n",
       "            </tr>\n",
       "            <tr>\n",
       "                        <th id=\"T_b743588a_8c5b_11ea_9322_6c71d9da89a0level0_row1\" class=\"row_heading level0 row1\" >Baseline (knn)</th>\n",
       "                        <td id=\"T_b743588a_8c5b_11ea_9322_6c71d9da89a0row1_col0\" class=\"data row1 col0\" >0.912000</td>\n",
       "                        <td id=\"T_b743588a_8c5b_11ea_9322_6c71d9da89a0row1_col1\" class=\"data row1 col1\" >0.438000</td>\n",
       "                        <td id=\"T_b743588a_8c5b_11ea_9322_6c71d9da89a0row1_col2\" class=\"data row1 col2\" >0.875000</td>\n",
       "                        <td id=\"T_b743588a_8c5b_11ea_9322_6c71d9da89a0row1_col3\" class=\"data row1 col3\" >0.583000</td>\n",
       "                        <td id=\"T_b743588a_8c5b_11ea_9322_6c71d9da89a0row1_col4\" class=\"data row1 col4\" >0.895000</td>\n",
       "            </tr>\n",
       "            <tr>\n",
       "                        <th id=\"T_b743588a_8c5b_11ea_9322_6c71d9da89a0level0_row2\" class=\"row_heading level0 row2\" >Removed hicorr STD (log-reg)</th>\n",
       "                        <td id=\"T_b743588a_8c5b_11ea_9322_6c71d9da89a0row2_col0\" class=\"data row2 col0\" >0.969000</td>\n",
       "                        <td id=\"T_b743588a_8c5b_11ea_9322_6c71d9da89a0row2_col1\" class=\"data row2 col1\" >0.812000</td>\n",
       "                        <td id=\"T_b743588a_8c5b_11ea_9322_6c71d9da89a0row2_col2\" class=\"data row2 col2\" >0.963000</td>\n",
       "                        <td id=\"T_b743588a_8c5b_11ea_9322_6c71d9da89a0row2_col3\" class=\"data row2 col3\" >0.881000</td>\n",
       "                        <td id=\"T_b743588a_8c5b_11ea_9322_6c71d9da89a0row2_col4\" class=\"data row2 col4\" >0.966000</td>\n",
       "            </tr>\n",
       "            <tr>\n",
       "                        <th id=\"T_b743588a_8c5b_11ea_9322_6c71d9da89a0level0_row3\" class=\"row_heading level0 row3\" >Removed hicorr STD (knn)</th>\n",
       "                        <td id=\"T_b743588a_8c5b_11ea_9322_6c71d9da89a0row3_col0\" class=\"data row3 col0\" >0.916000</td>\n",
       "                        <td id=\"T_b743588a_8c5b_11ea_9322_6c71d9da89a0row3_col1\" class=\"data row3 col1\" >0.406000</td>\n",
       "                        <td id=\"T_b743588a_8c5b_11ea_9322_6c71d9da89a0row3_col2\" class=\"data row3 col2\" >1.000000</td>\n",
       "                        <td id=\"T_b743588a_8c5b_11ea_9322_6c71d9da89a0row3_col3\" class=\"data row3 col3\" >0.578000</td>\n",
       "                        <td id=\"T_b743588a_8c5b_11ea_9322_6c71d9da89a0row3_col4\" class=\"data row3 col4\" >0.956000</td>\n",
       "            </tr>\n",
       "            <tr>\n",
       "                        <th id=\"T_b743588a_8c5b_11ea_9322_6c71d9da89a0level0_row4\" class=\"row_heading level0 row4\" >Over_sample (log-reg)</th>\n",
       "                        <td id=\"T_b743588a_8c5b_11ea_9322_6c71d9da89a0row4_col0\" class=\"data row4 col0\" >0.947000</td>\n",
       "                        <td id=\"T_b743588a_8c5b_11ea_9322_6c71d9da89a0row4_col1\" class=\"data row4 col1\" >0.844000</td>\n",
       "                        <td id=\"T_b743588a_8c5b_11ea_9322_6c71d9da89a0row4_col2\" class=\"data row4 col2\" >0.794000</td>\n",
       "                        <td id=\"T_b743588a_8c5b_11ea_9322_6c71d9da89a0row4_col3\" class=\"data row4 col3\" >0.818000</td>\n",
       "                        <td id=\"T_b743588a_8c5b_11ea_9322_6c71d9da89a0row4_col4\" class=\"data row4 col4\" >0.884000</td>\n",
       "            </tr>\n",
       "            <tr>\n",
       "                        <th id=\"T_b743588a_8c5b_11ea_9322_6c71d9da89a0level0_row5\" class=\"row_heading level0 row5\" >Over_sample (knn)</th>\n",
       "                        <td id=\"T_b743588a_8c5b_11ea_9322_6c71d9da89a0row5_col0\" class=\"data row5 col0\" >0.894000</td>\n",
       "                        <td id=\"T_b743588a_8c5b_11ea_9322_6c71d9da89a0row5_col1\" class=\"data row5 col1\" >0.781000</td>\n",
       "                        <td id=\"T_b743588a_8c5b_11ea_9322_6c71d9da89a0row5_col2\" class=\"data row5 col2\" >0.595000</td>\n",
       "                        <td id=\"T_b743588a_8c5b_11ea_9322_6c71d9da89a0row5_col3\" class=\"data row5 col3\" >0.676000</td>\n",
       "                        <td id=\"T_b743588a_8c5b_11ea_9322_6c71d9da89a0row5_col4\" class=\"data row5 col4\" >0.779000</td>\n",
       "            </tr>\n",
       "            <tr>\n",
       "                        <th id=\"T_b743588a_8c5b_11ea_9322_6c71d9da89a0level0_row6\" class=\"row_heading level0 row6\" >log1p (log-reg)</th>\n",
       "                        <td id=\"T_b743588a_8c5b_11ea_9322_6c71d9da89a0row6_col0\" class=\"data row6 col0\" >0.930000</td>\n",
       "                        <td id=\"T_b743588a_8c5b_11ea_9322_6c71d9da89a0row6_col1\" class=\"data row6 col1\" >0.719000</td>\n",
       "                        <td id=\"T_b743588a_8c5b_11ea_9322_6c71d9da89a0row6_col2\" class=\"data row6 col2\" >0.767000</td>\n",
       "                        <td id=\"T_b743588a_8c5b_11ea_9322_6c71d9da89a0row6_col3\" class=\"data row6 col3\" >0.742000</td>\n",
       "                        <td id=\"T_b743588a_8c5b_11ea_9322_6c71d9da89a0row6_col4\" class=\"data row6 col4\" >0.860000</td>\n",
       "            </tr>\n",
       "            <tr>\n",
       "                        <th id=\"T_b743588a_8c5b_11ea_9322_6c71d9da89a0level0_row7\" class=\"row_heading level0 row7\" >log1p (knn)</th>\n",
       "                        <td id=\"T_b743588a_8c5b_11ea_9322_6c71d9da89a0row7_col0\" class=\"data row7 col0\" >0.921000</td>\n",
       "                        <td id=\"T_b743588a_8c5b_11ea_9322_6c71d9da89a0row7_col1\" class=\"data row7 col1\" >0.531000</td>\n",
       "                        <td id=\"T_b743588a_8c5b_11ea_9322_6c71d9da89a0row7_col2\" class=\"data row7 col2\" >0.850000</td>\n",
       "                        <td id=\"T_b743588a_8c5b_11ea_9322_6c71d9da89a0row7_col3\" class=\"data row7 col3\" >0.654000</td>\n",
       "                        <td id=\"T_b743588a_8c5b_11ea_9322_6c71d9da89a0row7_col4\" class=\"data row7 col4\" >0.889000</td>\n",
       "            </tr>\n",
       "    </tbody></table>"
      ],
      "text/plain": [
       "<pandas.io.formats.style.Styler at 0x27cab13c4c8>"
      ]
     },
     "execution_count": 66,
     "metadata": {},
     "output_type": "execute_result"
    }
   ],
   "source": [
    "result_1.iloc[:,0:5].style.apply(highlight_max)"
   ]
  },
  {
   "cell_type": "markdown",
   "metadata": {},
   "source": [
    "### Route #2"
   ]
  },
  {
   "cell_type": "code",
   "execution_count": 67,
   "metadata": {},
   "outputs": [
    {
     "data": {
      "text/html": [
       "<style  type=\"text/css\" >\n",
       "    #T_bb824886_8c5b_11ea_a611_6c71d9da89a0row0_col0 {\n",
       "            background-color:  lime;\n",
       "        }    #T_bb824886_8c5b_11ea_a611_6c71d9da89a0row2_col0 {\n",
       "            background-color:  lime;\n",
       "        }    #T_bb824886_8c5b_11ea_a611_6c71d9da89a0row4_col2 {\n",
       "            background-color:  lime;\n",
       "        }    #T_bb824886_8c5b_11ea_a611_6c71d9da89a0row4_col3 {\n",
       "            background-color:  lime;\n",
       "        }    #T_bb824886_8c5b_11ea_a611_6c71d9da89a0row4_col4 {\n",
       "            background-color:  lime;\n",
       "        }    #T_bb824886_8c5b_11ea_a611_6c71d9da89a0row11_col1 {\n",
       "            background-color:  lime;\n",
       "        }</style><table id=\"T_bb824886_8c5b_11ea_a611_6c71d9da89a0\" ><thead>    <tr>        <th class=\"blank level0\" ></th>        <th class=\"col_heading level0 col0\" >Accuracy</th>        <th class=\"col_heading level0 col1\" >Precision</th>        <th class=\"col_heading level0 col2\" >Recall</th>        <th class=\"col_heading level0 col3\" >F1</th>        <th class=\"col_heading level0 col4\" >ROC-AUC</th>    </tr></thead><tbody>\n",
       "                <tr>\n",
       "                        <th id=\"T_bb824886_8c5b_11ea_a611_6c71d9da89a0level0_row0\" class=\"row_heading level0 row0\" >Baseline (log-reg)</th>\n",
       "                        <td id=\"T_bb824886_8c5b_11ea_a611_6c71d9da89a0row0_col0\" class=\"data row0 col0\" >0.991000</td>\n",
       "                        <td id=\"T_bb824886_8c5b_11ea_a611_6c71d9da89a0row0_col1\" class=\"data row0 col1\" >0.667000</td>\n",
       "                        <td id=\"T_bb824886_8c5b_11ea_a611_6c71d9da89a0row0_col2\" class=\"data row0 col2\" >0.799000</td>\n",
       "                        <td id=\"T_bb824886_8c5b_11ea_a611_6c71d9da89a0row0_col3\" class=\"data row0 col3\" >0.728000</td>\n",
       "                        <td id=\"T_bb824886_8c5b_11ea_a611_6c71d9da89a0row0_col4\" class=\"data row0 col4\" >0.897000</td>\n",
       "            </tr>\n",
       "            <tr>\n",
       "                        <th id=\"T_bb824886_8c5b_11ea_a611_6c71d9da89a0level0_row1\" class=\"row_heading level0 row1\" >Baseline (knn)</th>\n",
       "                        <td id=\"T_bb824886_8c5b_11ea_a611_6c71d9da89a0row1_col0\" class=\"data row1 col0\" >0.990000</td>\n",
       "                        <td id=\"T_bb824886_8c5b_11ea_a611_6c71d9da89a0row1_col1\" class=\"data row1 col1\" >0.553000</td>\n",
       "                        <td id=\"T_bb824886_8c5b_11ea_a611_6c71d9da89a0row1_col2\" class=\"data row1 col2\" >0.814000</td>\n",
       "                        <td id=\"T_bb824886_8c5b_11ea_a611_6c71d9da89a0row1_col3\" class=\"data row1 col3\" >0.659000</td>\n",
       "                        <td id=\"T_bb824886_8c5b_11ea_a611_6c71d9da89a0row1_col4\" class=\"data row1 col4\" >0.903000</td>\n",
       "            </tr>\n",
       "            <tr>\n",
       "                        <th id=\"T_bb824886_8c5b_11ea_a611_6c71d9da89a0level0_row2\" class=\"row_heading level0 row2\" >Removed hicorr STD (log-reg)</th>\n",
       "                        <td id=\"T_bb824886_8c5b_11ea_a611_6c71d9da89a0row2_col0\" class=\"data row2 col0\" >0.991000</td>\n",
       "                        <td id=\"T_bb824886_8c5b_11ea_a611_6c71d9da89a0row2_col1\" class=\"data row2 col1\" >0.653000</td>\n",
       "                        <td id=\"T_bb824886_8c5b_11ea_a611_6c71d9da89a0row2_col2\" class=\"data row2 col2\" >0.801000</td>\n",
       "                        <td id=\"T_bb824886_8c5b_11ea_a611_6c71d9da89a0row2_col3\" class=\"data row2 col3\" >0.719000</td>\n",
       "                        <td id=\"T_bb824886_8c5b_11ea_a611_6c71d9da89a0row2_col4\" class=\"data row2 col4\" >0.897000</td>\n",
       "            </tr>\n",
       "            <tr>\n",
       "                        <th id=\"T_bb824886_8c5b_11ea_a611_6c71d9da89a0level0_row3\" class=\"row_heading level0 row3\" >Removed hicorr STD (knn)</th>\n",
       "                        <td id=\"T_bb824886_8c5b_11ea_a611_6c71d9da89a0row3_col0\" class=\"data row3 col0\" >0.989000</td>\n",
       "                        <td id=\"T_bb824886_8c5b_11ea_a611_6c71d9da89a0row3_col1\" class=\"data row3 col1\" >0.561000</td>\n",
       "                        <td id=\"T_bb824886_8c5b_11ea_a611_6c71d9da89a0row3_col2\" class=\"data row3 col2\" >0.797000</td>\n",
       "                        <td id=\"T_bb824886_8c5b_11ea_a611_6c71d9da89a0row3_col3\" class=\"data row3 col3\" >0.658000</td>\n",
       "                        <td id=\"T_bb824886_8c5b_11ea_a611_6c71d9da89a0row3_col4\" class=\"data row3 col4\" >0.894000</td>\n",
       "            </tr>\n",
       "            <tr>\n",
       "                        <th id=\"T_bb824886_8c5b_11ea_a611_6c71d9da89a0level0_row4\" class=\"row_heading level0 row4\" >Balanced (log-reg)</th>\n",
       "                        <td id=\"T_bb824886_8c5b_11ea_a611_6c71d9da89a0row4_col0\" class=\"data row4 col0\" >0.953000</td>\n",
       "                        <td id=\"T_bb824886_8c5b_11ea_a611_6c71d9da89a0row4_col1\" class=\"data row4 col1\" >0.932000</td>\n",
       "                        <td id=\"T_bb824886_8c5b_11ea_a611_6c71d9da89a0row4_col2\" class=\"data row4 col2\" >0.972000</td>\n",
       "                        <td id=\"T_bb824886_8c5b_11ea_a611_6c71d9da89a0row4_col3\" class=\"data row4 col3\" >0.952000</td>\n",
       "                        <td id=\"T_bb824886_8c5b_11ea_a611_6c71d9da89a0row4_col4\" class=\"data row4 col4\" >0.954000</td>\n",
       "            </tr>\n",
       "            <tr>\n",
       "                        <th id=\"T_bb824886_8c5b_11ea_a611_6c71d9da89a0level0_row5\" class=\"row_heading level0 row5\" >Balanced (knn)</th>\n",
       "                        <td id=\"T_bb824886_8c5b_11ea_a611_6c71d9da89a0row5_col0\" class=\"data row5 col0\" >0.941000</td>\n",
       "                        <td id=\"T_bb824886_8c5b_11ea_a611_6c71d9da89a0row5_col1\" class=\"data row5 col1\" >0.917000</td>\n",
       "                        <td id=\"T_bb824886_8c5b_11ea_a611_6c71d9da89a0row5_col2\" class=\"data row5 col2\" >0.962000</td>\n",
       "                        <td id=\"T_bb824886_8c5b_11ea_a611_6c71d9da89a0row5_col3\" class=\"data row5 col3\" >0.939000</td>\n",
       "                        <td id=\"T_bb824886_8c5b_11ea_a611_6c71d9da89a0row5_col4\" class=\"data row5 col4\" >0.942000</td>\n",
       "            </tr>\n",
       "            <tr>\n",
       "                        <th id=\"T_bb824886_8c5b_11ea_a611_6c71d9da89a0level0_row6\" class=\"row_heading level0 row6\" >Over_sample (log-reg)</th>\n",
       "                        <td id=\"T_bb824886_8c5b_11ea_a611_6c71d9da89a0row6_col0\" class=\"data row6 col0\" >0.971000</td>\n",
       "                        <td id=\"T_bb824886_8c5b_11ea_a611_6c71d9da89a0row6_col1\" class=\"data row6 col1\" >0.900000</td>\n",
       "                        <td id=\"T_bb824886_8c5b_11ea_a611_6c71d9da89a0row6_col2\" class=\"data row6 col2\" >0.371000</td>\n",
       "                        <td id=\"T_bb824886_8c5b_11ea_a611_6c71d9da89a0row6_col3\" class=\"data row6 col3\" >0.525000</td>\n",
       "                        <td id=\"T_bb824886_8c5b_11ea_a611_6c71d9da89a0row6_col4\" class=\"data row6 col4\" >0.685000</td>\n",
       "            </tr>\n",
       "            <tr>\n",
       "                        <th id=\"T_bb824886_8c5b_11ea_a611_6c71d9da89a0level0_row7\" class=\"row_heading level0 row7\" >Over_sample (knn)</th>\n",
       "                        <td id=\"T_bb824886_8c5b_11ea_a611_6c71d9da89a0row7_col0\" class=\"data row7 col0\" >0.978000</td>\n",
       "                        <td id=\"T_bb824886_8c5b_11ea_a611_6c71d9da89a0row7_col1\" class=\"data row7 col1\" >0.876000</td>\n",
       "                        <td id=\"T_bb824886_8c5b_11ea_a611_6c71d9da89a0row7_col2\" class=\"data row7 col2\" >0.443000</td>\n",
       "                        <td id=\"T_bb824886_8c5b_11ea_a611_6c71d9da89a0row7_col3\" class=\"data row7 col3\" >0.589000</td>\n",
       "                        <td id=\"T_bb824886_8c5b_11ea_a611_6c71d9da89a0row7_col4\" class=\"data row7 col4\" >0.721000</td>\n",
       "            </tr>\n",
       "            <tr>\n",
       "                        <th id=\"T_bb824886_8c5b_11ea_a611_6c71d9da89a0level0_row8\" class=\"row_heading level0 row8\" >Shrunk feats (log-reg)</th>\n",
       "                        <td id=\"T_bb824886_8c5b_11ea_a611_6c71d9da89a0row8_col0\" class=\"data row8 col0\" >0.941000</td>\n",
       "                        <td id=\"T_bb824886_8c5b_11ea_a611_6c71d9da89a0row8_col1\" class=\"data row8 col1\" >0.930000</td>\n",
       "                        <td id=\"T_bb824886_8c5b_11ea_a611_6c71d9da89a0row8_col2\" class=\"data row8 col2\" >0.950000</td>\n",
       "                        <td id=\"T_bb824886_8c5b_11ea_a611_6c71d9da89a0row8_col3\" class=\"data row8 col3\" >0.940000</td>\n",
       "                        <td id=\"T_bb824886_8c5b_11ea_a611_6c71d9da89a0row8_col4\" class=\"data row8 col4\" >0.941000</td>\n",
       "            </tr>\n",
       "            <tr>\n",
       "                        <th id=\"T_bb824886_8c5b_11ea_a611_6c71d9da89a0level0_row9\" class=\"row_heading level0 row9\" >Shrunk feats (knn)</th>\n",
       "                        <td id=\"T_bb824886_8c5b_11ea_a611_6c71d9da89a0row9_col0\" class=\"data row9 col0\" >0.941000</td>\n",
       "                        <td id=\"T_bb824886_8c5b_11ea_a611_6c71d9da89a0row9_col1\" class=\"data row9 col1\" >0.947000</td>\n",
       "                        <td id=\"T_bb824886_8c5b_11ea_a611_6c71d9da89a0row9_col2\" class=\"data row9 col2\" >0.935000</td>\n",
       "                        <td id=\"T_bb824886_8c5b_11ea_a611_6c71d9da89a0row9_col3\" class=\"data row9 col3\" >0.941000</td>\n",
       "                        <td id=\"T_bb824886_8c5b_11ea_a611_6c71d9da89a0row9_col4\" class=\"data row9 col4\" >0.941000</td>\n",
       "            </tr>\n",
       "            <tr>\n",
       "                        <th id=\"T_bb824886_8c5b_11ea_a611_6c71d9da89a0level0_row10\" class=\"row_heading level0 row10\" >log1p (log-reg)</th>\n",
       "                        <td id=\"T_bb824886_8c5b_11ea_a611_6c71d9da89a0row10_col0\" class=\"data row10 col0\" >0.941000</td>\n",
       "                        <td id=\"T_bb824886_8c5b_11ea_a611_6c71d9da89a0row10_col1\" class=\"data row10 col1\" >0.930000</td>\n",
       "                        <td id=\"T_bb824886_8c5b_11ea_a611_6c71d9da89a0row10_col2\" class=\"data row10 col2\" >0.950000</td>\n",
       "                        <td id=\"T_bb824886_8c5b_11ea_a611_6c71d9da89a0row10_col3\" class=\"data row10 col3\" >0.940000</td>\n",
       "                        <td id=\"T_bb824886_8c5b_11ea_a611_6c71d9da89a0row10_col4\" class=\"data row10 col4\" >0.941000</td>\n",
       "            </tr>\n",
       "            <tr>\n",
       "                        <th id=\"T_bb824886_8c5b_11ea_a611_6c71d9da89a0level0_row11\" class=\"row_heading level0 row11\" >log1p (knn)</th>\n",
       "                        <td id=\"T_bb824886_8c5b_11ea_a611_6c71d9da89a0row11_col0\" class=\"data row11 col0\" >0.943000</td>\n",
       "                        <td id=\"T_bb824886_8c5b_11ea_a611_6c71d9da89a0row11_col1\" class=\"data row11 col1\" >0.956000</td>\n",
       "                        <td id=\"T_bb824886_8c5b_11ea_a611_6c71d9da89a0row11_col2\" class=\"data row11 col2\" >0.931000</td>\n",
       "                        <td id=\"T_bb824886_8c5b_11ea_a611_6c71d9da89a0row11_col3\" class=\"data row11 col3\" >0.944000</td>\n",
       "                        <td id=\"T_bb824886_8c5b_11ea_a611_6c71d9da89a0row11_col4\" class=\"data row11 col4\" >0.943000</td>\n",
       "            </tr>\n",
       "    </tbody></table>"
      ],
      "text/plain": [
       "<pandas.io.formats.style.Styler at 0x27cac98ce08>"
      ]
     },
     "execution_count": 67,
     "metadata": {},
     "output_type": "execute_result"
    }
   ],
   "source": [
    "result_2.iloc[:,0:5].style.apply(highlight_max)"
   ]
  },
  {
   "cell_type": "markdown",
   "metadata": {},
   "source": [
    "### По совокупкности оценочных параметров оба маршрута тестирования показали свою целесообразность к улучшению первоначальных показателей, но считаю второй маршрут тестирования более подходящим для данного набора данных."
   ]
  }
 ],
 "metadata": {
  "kernelspec": {
   "display_name": "Python 3",
   "language": "python",
   "name": "python3"
  },
  "language_info": {
   "codemirror_mode": {
    "name": "ipython",
    "version": 3
   },
   "file_extension": ".py",
   "mimetype": "text/x-python",
   "name": "python",
   "nbconvert_exporter": "python",
   "pygments_lexer": "ipython3",
   "version": "3.7.6"
  }
 },
 "nbformat": 4,
 "nbformat_minor": 4
}
