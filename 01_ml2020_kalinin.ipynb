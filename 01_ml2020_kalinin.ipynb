{
 "cells": [
  {
   "cell_type": "markdown",
   "metadata": {},
   "source": [
    "# ДЗ #1. Exploratory Data Analysis and Preprocessing <a id=\"0\"></a>\n",
    "\n",
    "### Использованный датасет: https://www.kaggle.com/uciml/breast-cancer-wisconsin-data\n",
    "\n",
    "* [Загрузка и первичная проверка данных](#1)\n",
    "* [Базовые статистики датасета, средние, медианы, и т.д.](#2)\n",
    "* [Гистограммы/распределения признаков с использованием целевой переменной](#3)\n",
    "* [Heatmap для матрицы корреляций. Признаки, которые сильно скоррелированы](#4)\n",
    "* [Попарные scatterplot-ы для сильно скоррелированных признаков. Наблюдается ли линейная зависимость?](#5)\n",
    "* [По каким признакам наиболее удобно было бы отделить злокачественные новообразования от доброкачественных (используя boxplots и группировку по целевой переменной)](#6)"
   ]
  },
  {
   "cell_type": "code",
   "execution_count": null,
   "metadata": {},
   "outputs": [],
   "source": [
    "# Импорт основных библиотек\n",
    "import os\n",
    "import pandas as pd\n",
    "import numpy as np\n",
    "import matplotlib.pyplot as plt\n",
    "import seaborn as sns\n",
    "%matplotlib inline"
   ]
  },
  {
   "cell_type": "markdown",
   "metadata": {},
   "source": [
    "## Загрузка и первичная проверка данных [(Наверх)](#0) <a id=\"1\"></a>\n",
    "\n",
    "### Описание признаков:\n",
    "- **id**\n",
    "- **diagnosis** - диагноз тканей молочной железы (M = злокачественный, B = доброкачественный)\n",
    "- **radius_mean** - среднее расстояние от центра до точек по периметру\n",
    "- **texture_mean** - стандартное отклонение значений gray-scale\n",
    "- **perimeter_mean** - средний размер ядра опухоли\n",
    "- **area_mean**\n",
    "- **smoothness_mean** - среднее локального изменения длин радиуса\n",
    "- **compactness_mean** - среднее perimeter^2 / area - 1.0\n",
    "- **concavity_mean** - среднее тяжести вогнутых частей контура\n",
    "- **concavepoints_mean** - среднее количество вогнутых частей контура\n",
    "- **symmetry_mean**\n",
    "- **fractal_dimension_mean** - mean for \"coastline approximation\" - 1\n",
    "- **radius_se** - standard error for the mean of distances from center to points on the perimeter\n",
    "- **texture_se** - standard error for standard deviation of gray-scale values\n",
    "- **perimeter_se**\n",
    "- **area_se**\n",
    "- **smoothness_se** - standard error for local variation in radius lengths\n",
    "- **compactness_se** - standard error for perimeter^2 / area - 1.0\n",
    "- **concavity_se** - standard error for severity of concave portions of the contour\n",
    "- **concave points_se** - standard error for number of concave portions of the contour\n",
    "- **symmetry_se**\n",
    "- **fractal_dimension_se** - standard error for \"coastline approximation\" - 1\n",
    "- **radius_worst** - \"worst\" or largest mean value for mean of distances from center to points on the perimeter\n",
    "- **texture_worst** - \"worst\" or largest mean value for standard deviation of gray-scale values\n",
    "- **perimeter_worst**\n",
    "- **area_worst**\n",
    "- **smoothness_worst** - \"worst\" or largest mean value for local variation in radius lengths\n",
    "- **compactness_worst** - \"worst\" or largest mean value for perimeter^2 / area - 1.0\n",
    "- **concavity_worst** - \"worst\" or largest mean value for severity of concave portions of the contour\n",
    "- **concave_points_worst** - \"worst\" or largest mean value for number of concave portions of the contour\n",
    "- **symmetry_worst**\n",
    "- **fractal_dimension_worst** - \"worst\" or largest mean value for \"coastline approximation\" - 1"
   ]
  },
  {
   "cell_type": "code",
   "execution_count": null,
   "metadata": {},
   "outputs": [],
   "source": [
    "url = 'http://ftp.cs.wisc.edu/math-prog/cpo-dataset/machine-learn/cancer/WDBC/WDBC.dat'\n",
    "filename = 'input/data.csv'\n",
    "column_names = ['id', 'diagnosis', 'radius_mean', 'texture_mean', 'perimeter_mean', 'area_mean', \n",
    "                'smoothness_mean', 'compactness_mean', 'concavity_mean', 'concavepoints_mean', \n",
    "                'symmetry_mean', 'fractal_dimension_mean', 'radius_se', 'texture_se', 'perimeter_se', \n",
    "                'area_se', 'smoothness_se', 'compactness_se', 'concavity_se', 'concavepoints_se', \n",
    "                'symmetry_se', 'fractal_dimension_se', 'radius_worst', 'texture_worst', \n",
    "                'perimeter_worst', 'area_worst', 'smoothness_worst', 'compactness_worst', 'concavity_worst', \n",
    "                'concave_points_worst', 'symmetry_worst', 'fractal_dimension_worst']\n",
    "\n",
    "if not os.path.exists(filename):\n",
    "    df = pd.read_csv(url, names=column_names)\n",
    "    df.to_csv(filename, index=False)\n",
    "else:\n",
    "    df = pd.read_csv(filename)\n",
    "\n",
    "# Проверим корректно ли загружен CSV\n",
    "df.head(5)"
   ]
  },
  {
   "cell_type": "markdown",
   "metadata": {},
   "source": [
    "## Базовые статистики датасета, средние, медианы, и т.д. [(Наверх)](#0) <a id=\"2\"></a>"
   ]
  },
  {
   "cell_type": "code",
   "execution_count": null,
   "metadata": {},
   "outputs": [],
   "source": [
    "# Узнаем размер датасета\n",
    "df.shape"
   ]
  },
  {
   "cell_type": "code",
   "execution_count": null,
   "metadata": {},
   "outputs": [],
   "source": [
    "# Проверим на наличие пустых данных\n",
    "df.isnull().sum()"
   ]
  },
  {
   "cell_type": "code",
   "execution_count": null,
   "metadata": {},
   "outputs": [],
   "source": [
    "# Узнаем свойства датасета\n",
    "df.info()"
   ]
  },
  {
   "cell_type": "code",
   "execution_count": null,
   "metadata": {},
   "outputs": [],
   "source": [
    "# Удалим ненужное поле ID\n",
    "df.drop(['id'], axis=1, inplace=True)\n",
    "\n",
    "# Сконвертируем категорийное значение 'diagnosis' в бинарный вид\n",
    "diagnosis_bool = {'B':0, 'M':1}\n",
    "df['diagnosis'] = df['diagnosis'].map(diagnosis_bool)\n",
    "\n",
    "# Проверим полученный результат\n",
    "df.head(5)"
   ]
  },
  {
   "cell_type": "code",
   "execution_count": null,
   "metadata": {},
   "outputs": [],
   "source": [
    "df.describe()"
   ]
  },
  {
   "cell_type": "markdown",
   "metadata": {},
   "source": [
    "## Гистограммы признаков с использованием целевой переменной [(Наверх)](#0) <a id=\"3\"></a>"
   ]
  },
  {
   "cell_type": "code",
   "execution_count": null,
   "metadata": {},
   "outputs": [],
   "source": [
    "# Построим гистограмму частотного распределения среднего радиуса опухолей\n",
    "plt.figure(figsize=(10,6))\n",
    "m = plt.hist(df[df[\"diagnosis\"] == 1].radius_mean, bins=30, fc = (1,0,0,0.5), label = \"Злокачественная\")\n",
    "b = plt.hist(df[df[\"diagnosis\"] == 0].radius_mean, bins=30, fc = (0,1,0,0.5), label = \"Доброкачественная\")\n",
    "plt.legend()\n",
    "plt.xlabel(\"Среднее значение радиуса\")\n",
    "plt.ylabel(\"Частота\")\n",
    "plt.title(\"Гистограмма частотного распределения среднего радиуса опухолей\")\n",
    "plt.show()\n",
    "\n",
    "# Найдем индекс максимальной частоты среднего радиуса злокачественной опухоли\n",
    "freq_malignant_radius_index = list(m[0]).index(m[0].max())\n",
    "\n",
    "# Выведем значение высокочастотного среднего радиуса злокачественной опухоли\n",
    "print('Значение высокочастотного среднего радиуса злокачественной опухоли: {}'.format(m[1][freq_malignant_radius_index]))"
   ]
  },
  {
   "cell_type": "markdown",
   "metadata": {},
   "source": [
    "## Heatmap для матрицы корреляций [(Наверх)](#0) <a id=\"4\"></a>"
   ]
  },
  {
   "cell_type": "code",
   "execution_count": null,
   "metadata": {},
   "outputs": [],
   "source": [
    "# Рассчитаем корреляции между признаками\n",
    "corr = df.corr()\n",
    "\n",
    "# Выведем тепловую карту для корреляций\n",
    "plt.figure(figsize=(20,12));\n",
    "sns.heatmap(corr, annot=True, fmt='.2f');"
   ]
  },
  {
   "cell_type": "code",
   "execution_count": null,
   "metadata": {},
   "outputs": [],
   "source": [
    "# Найдем сильноскоррелированные признаки (> 0.75)\n",
    "CorField = []\n",
    "for i in corr:\n",
    "    for j in corr.index[corr[i] > 0.75]:\n",
    "        if i != j and j not in CorField and i not in CorField:\n",
    "            CorField.append(j)\n",
    "            print (\"{0} - {1} == {2}\".format(i, j, corr[i][corr.index == j].values[0]))"
   ]
  },
  {
   "cell_type": "markdown",
   "metadata": {},
   "source": [
    "## Попарные scatterplot-ы для сильноскоррелированных признаков [(Наверх)](#0) <a id=\"5\"></a>"
   ]
  },
  {
   "cell_type": "code",
   "execution_count": null,
   "metadata": {},
   "outputs": [],
   "source": [
    "# Построим корреляцию для сильноскоррелированных признаков\n",
    "corr = df[['diagnosis', 'radius_mean', 'concavepoints_mean', 'perimeter_worst', 'area_mean', 'compactness_mean', 'concavity_mean', 'texture_mean']].corr()  \n",
    "corr"
   ]
  },
  {
   "cell_type": "code",
   "execution_count": null,
   "metadata": {
    "scrolled": false
   },
   "outputs": [],
   "source": [
    "# Построим графики парных корреляций\n",
    "sns.pairplot(df[['diagnosis', 'concavepoints_mean', 'perimeter_worst', 'area_mean', 'compactness_mean', 'concavity_mean', \n",
    "                 'radius_mean']], hue=\"diagnosis\");"
   ]
  },
  {
   "cell_type": "code",
   "execution_count": null,
   "metadata": {},
   "outputs": [],
   "source": [
    "# Построим корреляцию для ярко-выраженных признаков\n",
    "df[['perimeter_worst', 'area_mean', 'radius_mean']].corr()"
   ]
  },
  {
   "cell_type": "code",
   "execution_count": null,
   "metadata": {},
   "outputs": [],
   "source": [
    "# Построим дополнительную корреляцию для ярко-выраженных признаков\n",
    "df[['compactness_mean', 'concavity_mean']].corr()"
   ]
  },
  {
   "cell_type": "code",
   "execution_count": null,
   "metadata": {},
   "outputs": [],
   "source": [
    "# 0 - доброкачественная, 1 - злокачественная\n",
    "sns.scatterplot(x='perimeter_worst', y='area_mean', hue='diagnosis', data=df);"
   ]
  },
  {
   "cell_type": "code",
   "execution_count": null,
   "metadata": {},
   "outputs": [],
   "source": [
    "# 0 - доброкачественная, 1 - злокачественная\n",
    "sns.scatterplot(x='radius_mean', y='area_mean', hue='diagnosis', data=df);"
   ]
  },
  {
   "cell_type": "code",
   "execution_count": null,
   "metadata": {},
   "outputs": [],
   "source": [
    "# 0 - доброкачественная, 1 - злокачественная\n",
    "sns.scatterplot(x='compactness_mean', y='concavity_mean', hue='diagnosis', data=df);"
   ]
  },
  {
   "cell_type": "code",
   "execution_count": null,
   "metadata": {},
   "outputs": [],
   "source": [
    "# Построим регрессионо-корреляционную прямую для предыдущей зависимости\n",
    "sns.regplot(x='compactness_mean', y='concavity_mean', data=df)\n",
    "plt.ylim(0,);"
   ]
  },
  {
   "cell_type": "markdown",
   "metadata": {},
   "source": [
    "## Отделение злокачественных новообразований от доброкачественных [(Наверх)](#0) <a id=\"6\"></a>"
   ]
  },
  {
   "cell_type": "markdown",
   "metadata": {},
   "source": [
    "Построим \"ящики с усами\" для признаков, по которым было бы удобно определять тип опухоли"
   ]
  },
  {
   "cell_type": "code",
   "execution_count": null,
   "metadata": {},
   "outputs": [],
   "source": [
    "sns.boxplot(x='diagnosis', y='perimeter_worst', hue='diagnosis', \n",
    "            data=df[['diagnosis', 'perimeter_worst', 'area_mean', 'radius_mean']]);"
   ]
  },
  {
   "cell_type": "code",
   "execution_count": null,
   "metadata": {},
   "outputs": [],
   "source": [
    "sns.boxplot(x='diagnosis', y='area_mean', hue='diagnosis', \n",
    "            data=df[['diagnosis', 'perimeter_worst', 'area_mean', 'radius_mean']]);"
   ]
  },
  {
   "cell_type": "code",
   "execution_count": null,
   "metadata": {},
   "outputs": [],
   "source": [
    "sns.boxplot(x='diagnosis', y='radius_mean', hue='diagnosis', \n",
    "            data=df[['diagnosis', 'perimeter_worst', 'area_mean', 'radius_mean']]);"
   ]
  }
 ],
 "metadata": {
  "kernelspec": {
   "display_name": "Python 3",
   "language": "python",
   "name": "python3"
  },
  "language_info": {
   "codemirror_mode": {
    "name": "ipython",
    "version": 3
   },
   "file_extension": ".py",
   "mimetype": "text/x-python",
   "name": "python",
   "nbconvert_exporter": "python",
   "pygments_lexer": "ipython3",
   "version": "3.7.6"
  }
 },
 "nbformat": 4,
 "nbformat_minor": 4
}
