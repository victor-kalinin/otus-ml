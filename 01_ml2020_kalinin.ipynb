{
 "cells": [
  {
   "cell_type": "markdown",
   "metadata": {},
   "source": [
    "# ДЗ #1. Exploratory Data Analysis and Preprocessing <a id=\"0\"></a>\n",
    "\n",
    "### Использованный датасет: https://www.kaggle.com/uciml/breast-cancer-wisconsin-data\n",
    "\n",
    "* [Загрузка и первичная проверка данных](#1)\n",
    "* [Базовые статистики датасета, средние, медианы, и т.д.](#2)\n",
    "* [Гистограммы/распределения признаков с использованием целевой переменной](#3)\n",
    "* [Heatmap для матрицы корреляций. Признаки, которые сильно скоррелированы](#4)\n",
    "* [Попарные scatterplot-ы для сильно скоррелированных признаков. Наблюдается ли линейная зависимость?](#5)\n",
    "* [По каким признакам наиболее удобно было бы отделить злокачественные новообразования от доброкачественных (используя boxplots и группировку по целевой переменной)](#6)"
   ]
  },
  {
   "cell_type": "code",
   "execution_count": 1,
   "metadata": {},
   "outputs": [],
   "source": [
    "# Импорт основных библиотек\n",
    "import os\n",
    "import pandas as pd\n",
    "import numpy as np\n",
    "import matplotlib.pyplot as plt\n",
    "import seaborn as sns\n",
    "%matplotlib inline"
   ]
  },
  {
   "cell_type": "markdown",
   "metadata": {},
   "source": [
    "## Загрузка и первичная проверка данных [(Наверх)](#0) <a id=\"1\"></a>\n",
    "\n",
    "### Описание признаков:\n",
    "- **id**\n",
    "- **diagnosis** - диагноз тканей молочной железы (M = злокачественный, B = доброкачественный)\n",
    "- **radius_mean** - среднее расстояние от центра до точек по периметру\n",
    "- **texture_mean** - стандартное отклонение значений gray-scale\n",
    "- **perimeter_mean** - средний размер ядра опухоли\n",
    "- **area_mean**\n",
    "- **smoothness_mean** - среднее локального изменения длин радиуса\n",
    "- **compactness_mean** - среднее perimeter^2 / area - 1.0\n",
    "- **concavity_mean** - среднее тяжести вогнутых частей контура\n",
    "- **concavepoints_mean** - среднее количество вогнутых частей контура\n",
    "- **symmetry_mean**\n",
    "- **fractal_dimension_mean** - mean for \"coastline approximation\" - 1\n",
    "- **radius_se** - standard error for the mean of distances from center to points on the perimeter\n",
    "- **texture_se** - standard error for standard deviation of gray-scale values\n",
    "- **perimeter_se**\n",
    "- **area_se**\n",
    "- **smoothness_se** - standard error for local variation in radius lengths\n",
    "- **compactness_se** - standard error for perimeter^2 / area - 1.0\n",
    "- **concavity_se** - standard error for severity of concave portions of the contour\n",
    "- **concave points_se** - standard error for number of concave portions of the contour\n",
    "- **symmetry_se**\n",
    "- **fractal_dimension_se** - standard error for \"coastline approximation\" - 1\n",
    "- **radius_worst** - \"worst\" or largest mean value for mean of distances from center to points on the perimeter\n",
    "- **texture_worst** - \"worst\" or largest mean value for standard deviation of gray-scale values\n",
    "- **perimeter_worst**\n",
    "- **area_worst**\n",
    "- **smoothness_worst** - \"worst\" or largest mean value for local variation in radius lengths\n",
    "- **compactness_worst** - \"worst\" or largest mean value for perimeter^2 / area - 1.0\n",
    "- **concavity_worst** - \"worst\" or largest mean value for severity of concave portions of the contour\n",
    "- **concave_points_worst** - \"worst\" or largest mean value for number of concave portions of the contour\n",
    "- **symmetry_worst**\n",
    "- **fractal_dimension_worst** - \"worst\" or largest mean value for \"coastline approximation\" - 1"
   ]
  },
  {
   "cell_type": "code",
   "execution_count": 2,
   "metadata": {},
   "outputs": [
    {
     "data": {
      "text/html": [
       "<div>\n",
       "<style scoped>\n",
       "    .dataframe tbody tr th:only-of-type {\n",
       "        vertical-align: middle;\n",
       "    }\n",
       "\n",
       "    .dataframe tbody tr th {\n",
       "        vertical-align: top;\n",
       "    }\n",
       "\n",
       "    .dataframe thead th {\n",
       "        text-align: right;\n",
       "    }\n",
       "</style>\n",
       "<table border=\"1\" class=\"dataframe\">\n",
       "  <thead>\n",
       "    <tr style=\"text-align: right;\">\n",
       "      <th></th>\n",
       "      <th>id</th>\n",
       "      <th>diagnosis</th>\n",
       "      <th>radius_mean</th>\n",
       "      <th>texture_mean</th>\n",
       "      <th>perimeter_mean</th>\n",
       "      <th>area_mean</th>\n",
       "      <th>smoothness_mean</th>\n",
       "      <th>compactness_mean</th>\n",
       "      <th>concavity_mean</th>\n",
       "      <th>concavepoints_mean</th>\n",
       "      <th>...</th>\n",
       "      <th>radius_worst</th>\n",
       "      <th>texture_worst</th>\n",
       "      <th>perimeter_worst</th>\n",
       "      <th>area_worst</th>\n",
       "      <th>smoothness_worst</th>\n",
       "      <th>compactness_worst</th>\n",
       "      <th>concavity_worst</th>\n",
       "      <th>concave_points_worst</th>\n",
       "      <th>symmetry_worst</th>\n",
       "      <th>fractal_dimension_worst</th>\n",
       "    </tr>\n",
       "  </thead>\n",
       "  <tbody>\n",
       "    <tr>\n",
       "      <th>0</th>\n",
       "      <td>842302</td>\n",
       "      <td>M</td>\n",
       "      <td>17.99</td>\n",
       "      <td>10.38</td>\n",
       "      <td>122.80</td>\n",
       "      <td>1001.0</td>\n",
       "      <td>0.11840</td>\n",
       "      <td>0.27760</td>\n",
       "      <td>0.3001</td>\n",
       "      <td>0.14710</td>\n",
       "      <td>...</td>\n",
       "      <td>25.38</td>\n",
       "      <td>17.33</td>\n",
       "      <td>184.60</td>\n",
       "      <td>2019.0</td>\n",
       "      <td>0.1622</td>\n",
       "      <td>0.6656</td>\n",
       "      <td>0.7119</td>\n",
       "      <td>0.2654</td>\n",
       "      <td>0.4601</td>\n",
       "      <td>0.11890</td>\n",
       "    </tr>\n",
       "    <tr>\n",
       "      <th>1</th>\n",
       "      <td>842517</td>\n",
       "      <td>M</td>\n",
       "      <td>20.57</td>\n",
       "      <td>17.77</td>\n",
       "      <td>132.90</td>\n",
       "      <td>1326.0</td>\n",
       "      <td>0.08474</td>\n",
       "      <td>0.07864</td>\n",
       "      <td>0.0869</td>\n",
       "      <td>0.07017</td>\n",
       "      <td>...</td>\n",
       "      <td>24.99</td>\n",
       "      <td>23.41</td>\n",
       "      <td>158.80</td>\n",
       "      <td>1956.0</td>\n",
       "      <td>0.1238</td>\n",
       "      <td>0.1866</td>\n",
       "      <td>0.2416</td>\n",
       "      <td>0.1860</td>\n",
       "      <td>0.2750</td>\n",
       "      <td>0.08902</td>\n",
       "    </tr>\n",
       "    <tr>\n",
       "      <th>2</th>\n",
       "      <td>84300903</td>\n",
       "      <td>M</td>\n",
       "      <td>19.69</td>\n",
       "      <td>21.25</td>\n",
       "      <td>130.00</td>\n",
       "      <td>1203.0</td>\n",
       "      <td>0.10960</td>\n",
       "      <td>0.15990</td>\n",
       "      <td>0.1974</td>\n",
       "      <td>0.12790</td>\n",
       "      <td>...</td>\n",
       "      <td>23.57</td>\n",
       "      <td>25.53</td>\n",
       "      <td>152.50</td>\n",
       "      <td>1709.0</td>\n",
       "      <td>0.1444</td>\n",
       "      <td>0.4245</td>\n",
       "      <td>0.4504</td>\n",
       "      <td>0.2430</td>\n",
       "      <td>0.3613</td>\n",
       "      <td>0.08758</td>\n",
       "    </tr>\n",
       "    <tr>\n",
       "      <th>3</th>\n",
       "      <td>84348301</td>\n",
       "      <td>M</td>\n",
       "      <td>11.42</td>\n",
       "      <td>20.38</td>\n",
       "      <td>77.58</td>\n",
       "      <td>386.1</td>\n",
       "      <td>0.14250</td>\n",
       "      <td>0.28390</td>\n",
       "      <td>0.2414</td>\n",
       "      <td>0.10520</td>\n",
       "      <td>...</td>\n",
       "      <td>14.91</td>\n",
       "      <td>26.50</td>\n",
       "      <td>98.87</td>\n",
       "      <td>567.7</td>\n",
       "      <td>0.2098</td>\n",
       "      <td>0.8663</td>\n",
       "      <td>0.6869</td>\n",
       "      <td>0.2575</td>\n",
       "      <td>0.6638</td>\n",
       "      <td>0.17300</td>\n",
       "    </tr>\n",
       "    <tr>\n",
       "      <th>4</th>\n",
       "      <td>84358402</td>\n",
       "      <td>M</td>\n",
       "      <td>20.29</td>\n",
       "      <td>14.34</td>\n",
       "      <td>135.10</td>\n",
       "      <td>1297.0</td>\n",
       "      <td>0.10030</td>\n",
       "      <td>0.13280</td>\n",
       "      <td>0.1980</td>\n",
       "      <td>0.10430</td>\n",
       "      <td>...</td>\n",
       "      <td>22.54</td>\n",
       "      <td>16.67</td>\n",
       "      <td>152.20</td>\n",
       "      <td>1575.0</td>\n",
       "      <td>0.1374</td>\n",
       "      <td>0.2050</td>\n",
       "      <td>0.4000</td>\n",
       "      <td>0.1625</td>\n",
       "      <td>0.2364</td>\n",
       "      <td>0.07678</td>\n",
       "    </tr>\n",
       "  </tbody>\n",
       "</table>\n",
       "<p>5 rows × 32 columns</p>\n",
       "</div>"
      ],
      "text/plain": [
       "         id diagnosis  radius_mean  texture_mean  perimeter_mean  area_mean  \\\n",
       "0    842302         M        17.99         10.38          122.80     1001.0   \n",
       "1    842517         M        20.57         17.77          132.90     1326.0   \n",
       "2  84300903         M        19.69         21.25          130.00     1203.0   \n",
       "3  84348301         M        11.42         20.38           77.58      386.1   \n",
       "4  84358402         M        20.29         14.34          135.10     1297.0   \n",
       "\n",
       "   smoothness_mean  compactness_mean  concavity_mean  concavepoints_mean  ...  \\\n",
       "0          0.11840           0.27760          0.3001             0.14710  ...   \n",
       "1          0.08474           0.07864          0.0869             0.07017  ...   \n",
       "2          0.10960           0.15990          0.1974             0.12790  ...   \n",
       "3          0.14250           0.28390          0.2414             0.10520  ...   \n",
       "4          0.10030           0.13280          0.1980             0.10430  ...   \n",
       "\n",
       "   radius_worst  texture_worst  perimeter_worst  area_worst  smoothness_worst  \\\n",
       "0         25.38          17.33           184.60      2019.0            0.1622   \n",
       "1         24.99          23.41           158.80      1956.0            0.1238   \n",
       "2         23.57          25.53           152.50      1709.0            0.1444   \n",
       "3         14.91          26.50            98.87       567.7            0.2098   \n",
       "4         22.54          16.67           152.20      1575.0            0.1374   \n",
       "\n",
       "   compactness_worst  concavity_worst  concave_points_worst  symmetry_worst  \\\n",
       "0             0.6656           0.7119                0.2654          0.4601   \n",
       "1             0.1866           0.2416                0.1860          0.2750   \n",
       "2             0.4245           0.4504                0.2430          0.3613   \n",
       "3             0.8663           0.6869                0.2575          0.6638   \n",
       "4             0.2050           0.4000                0.1625          0.2364   \n",
       "\n",
       "   fractal_dimension_worst  \n",
       "0                  0.11890  \n",
       "1                  0.08902  \n",
       "2                  0.08758  \n",
       "3                  0.17300  \n",
       "4                  0.07678  \n",
       "\n",
       "[5 rows x 32 columns]"
      ]
     },
     "execution_count": 2,
     "metadata": {},
     "output_type": "execute_result"
    }
   ],
   "source": [
    "url = 'http://ftp.cs.wisc.edu/math-prog/cpo-dataset/machine-learn/cancer/WDBC/WDBC.dat'\n",
    "filename = 'input/data.csv'\n",
    "column_names = ['id', 'diagnosis', 'radius_mean', 'texture_mean', 'perimeter_mean', 'area_mean', 'smoothness_mean', \n",
    "                'compactness_mean', 'concavity_mean', 'concavepoints_mean', 'symmetry_mean', 'fractal_dimension_mean', \n",
    "                'radius_se', 'texture_se', 'perimeter_se', 'area_se', 'smoothness_se', 'compactness_se', 'concavity_se', \n",
    "                'concavepoints_se', 'symmetry_se', 'fractal_dimension_se', 'radius_worst', 'texture_worst', \n",
    "                'perimeter_worst', 'area_worst', 'smoothness_worst', 'compactness_worst', 'concavity_worst', \n",
    "                'concave_points_worst', 'symmetry_worst', 'fractal_dimension_worst']\n",
    "\n",
    "if not os.path.exists(filename):\n",
    "    df = pd.read_csv(url, names=column_names)\n",
    "    df.to_csv(filename, index=False)\n",
    "else:\n",
    "    df = pd.read_csv(filename)\n",
    "\n",
    "# Проверим корректно ли загружен CSV\n",
    "df.head(5)"
   ]
  },
  {
   "cell_type": "markdown",
   "metadata": {},
   "source": [
    "## Базовые статистики датасета, средние, медианы, и т.д. [(Наверх)](#0) <a id=\"2\"></a>"
   ]
  },
  {
   "cell_type": "code",
   "execution_count": 3,
   "metadata": {},
   "outputs": [
    {
     "data": {
      "text/plain": [
       "(569, 32)"
      ]
     },
     "execution_count": 3,
     "metadata": {},
     "output_type": "execute_result"
    }
   ],
   "source": [
    "# Узнаем размер датасета\n",
    "df.shape"
   ]
  },
  {
   "cell_type": "code",
   "execution_count": 4,
   "metadata": {},
   "outputs": [
    {
     "data": {
      "text/plain": [
       "id                         0\n",
       "diagnosis                  0\n",
       "radius_mean                0\n",
       "texture_mean               0\n",
       "perimeter_mean             0\n",
       "area_mean                  0\n",
       "smoothness_mean            0\n",
       "compactness_mean           0\n",
       "concavity_mean             0\n",
       "concavepoints_mean         0\n",
       "symmetry_mean              0\n",
       "fractal_dimension_mean     0\n",
       "radius_se                  0\n",
       "texture_se                 0\n",
       "perimeter_se               0\n",
       "area_se                    0\n",
       "smoothness_se              0\n",
       "compactness_se             0\n",
       "concavity_se               0\n",
       "concavepoints_se           0\n",
       "symmetry_se                0\n",
       "fractal_dimension_se       0\n",
       "radius_worst               0\n",
       "texture_worst              0\n",
       "perimeter_worst            0\n",
       "area_worst                 0\n",
       "smoothness_worst           0\n",
       "compactness_worst          0\n",
       "concavity_worst            0\n",
       "concave_points_worst       0\n",
       "symmetry_worst             0\n",
       "fractal_dimension_worst    0\n",
       "dtype: int64"
      ]
     },
     "execution_count": 4,
     "metadata": {},
     "output_type": "execute_result"
    }
   ],
   "source": [
    "# Проверим на наличие пустых данных\n",
    "df.isnull().sum()"
   ]
  },
  {
   "cell_type": "code",
   "execution_count": 5,
   "metadata": {},
   "outputs": [
    {
     "name": "stdout",
     "output_type": "stream",
     "text": [
      "<class 'pandas.core.frame.DataFrame'>\n",
      "RangeIndex: 569 entries, 0 to 568\n",
      "Data columns (total 32 columns):\n",
      " #   Column                   Non-Null Count  Dtype  \n",
      "---  ------                   --------------  -----  \n",
      " 0   id                       569 non-null    int64  \n",
      " 1   diagnosis                569 non-null    object \n",
      " 2   radius_mean              569 non-null    float64\n",
      " 3   texture_mean             569 non-null    float64\n",
      " 4   perimeter_mean           569 non-null    float64\n",
      " 5   area_mean                569 non-null    float64\n",
      " 6   smoothness_mean          569 non-null    float64\n",
      " 7   compactness_mean         569 non-null    float64\n",
      " 8   concavity_mean           569 non-null    float64\n",
      " 9   concavepoints_mean       569 non-null    float64\n",
      " 10  symmetry_mean            569 non-null    float64\n",
      " 11  fractal_dimension_mean   569 non-null    float64\n",
      " 12  radius_se                569 non-null    float64\n",
      " 13  texture_se               569 non-null    float64\n",
      " 14  perimeter_se             569 non-null    float64\n",
      " 15  area_se                  569 non-null    float64\n",
      " 16  smoothness_se            569 non-null    float64\n",
      " 17  compactness_se           569 non-null    float64\n",
      " 18  concavity_se             569 non-null    float64\n",
      " 19  concavepoints_se         569 non-null    float64\n",
      " 20  symmetry_se              569 non-null    float64\n",
      " 21  fractal_dimension_se     569 non-null    float64\n",
      " 22  radius_worst             569 non-null    float64\n",
      " 23  texture_worst            569 non-null    float64\n",
      " 24  perimeter_worst          569 non-null    float64\n",
      " 25  area_worst               569 non-null    float64\n",
      " 26  smoothness_worst         569 non-null    float64\n",
      " 27  compactness_worst        569 non-null    float64\n",
      " 28  concavity_worst          569 non-null    float64\n",
      " 29  concave_points_worst     569 non-null    float64\n",
      " 30  symmetry_worst           569 non-null    float64\n",
      " 31  fractal_dimension_worst  569 non-null    float64\n",
      "dtypes: float64(30), int64(1), object(1)\n",
      "memory usage: 142.4+ KB\n"
     ]
    }
   ],
   "source": [
    "# Узнаем свойства датасета\n",
    "df.info()"
   ]
  },
  {
   "cell_type": "code",
   "execution_count": null,
   "metadata": {},
   "outputs": [],
   "source": [
    "# Удалим ненужное поле ID\n",
    "df.drop(['id'], axis=1, inplace=True)\n",
    "\n",
    "# Сконвертируем категорийное значение 'diagnosis' в бинарный вид\n",
    "diagnosis_bool = {'B':0, 'M':1}\n",
    "df['diagnosis'] = df['diagnosis'].map(diagnosis_bool)\n",
    "\n",
    "# Проверим полученный результат\n",
    "df.head(5)"
   ]
  },
  {
   "cell_type": "code",
   "execution_count": null,
   "metadata": {},
   "outputs": [],
   "source": [
    "df.describe()"
   ]
  },
  {
   "cell_type": "markdown",
   "metadata": {},
   "source": [
    "## Гистограммы признаков с использованием целевой переменной [(Наверх)](#0) <a id=\"3\"></a>"
   ]
  },
  {
   "cell_type": "code",
   "execution_count": null,
   "metadata": {},
   "outputs": [],
   "source": [
    "# Построим гистограмму частотного распределения среднего радиуса опухолей\n",
    "plt.figure(figsize=(10,6))\n",
    "m = plt.hist(df[df[\"diagnosis\"] == 1].radius_mean, bins=30, fc = (1,0,0,0.5), label = \"Злокачественная\")\n",
    "b = plt.hist(df[df[\"diagnosis\"] == 0].radius_mean, bins=30, fc = (0,1,0,0.5), label = \"Доброкачественная\")\n",
    "plt.legend()\n",
    "plt.xlabel(\"Среднее значение радиуса\")\n",
    "plt.ylabel(\"Частота\")\n",
    "plt.title(\"Гистограмма частотного распределения среднего радиуса опухолей\")\n",
    "plt.show()\n",
    "\n",
    "# Найдем индекс максимальной частоты среднего радиуса злокачественной опухоли\n",
    "freq_malignant_radius_index = list(m[0]).index(m[0].max())\n",
    "\n",
    "# Выведем значение высокочастотного среднего радиуса злокачественной опухоли\n",
    "print('Значение высокочастотного среднего радиуса злокачественной опухоли: {}'.format(m[1][freq_malignant_radius_index]))"
   ]
  },
  {
   "cell_type": "markdown",
   "metadata": {},
   "source": [
    "## Heatmap для матрицы корреляций [(Наверх)](#0) <a id=\"4\"></a>"
   ]
  },
  {
   "cell_type": "code",
   "execution_count": null,
   "metadata": {},
   "outputs": [],
   "source": [
    "# Рассчитаем корреляции между признаками\n",
    "corr = df.corr()\n",
    "\n",
    "# Выведем тепловую карту для корреляций\n",
    "plt.figure(figsize=(20,12));\n",
    "sns.heatmap(corr, annot=True, fmt='.2f');"
   ]
  },
  {
   "cell_type": "code",
   "execution_count": null,
   "metadata": {},
   "outputs": [],
   "source": [
    "# Найдем сильноскоррелированные признаки (> 0.75)\n",
    "CorField = []\n",
    "for i in corr:\n",
    "    for j in corr.index[corr[i] > 0.75]:\n",
    "        if i != j and j not in CorField and i not in CorField:\n",
    "            CorField.append(j)\n",
    "            print (\"{0} - {1} == {2}\".format(i, j, corr[i][corr.index == j].values[0]))"
   ]
  },
  {
   "cell_type": "markdown",
   "metadata": {},
   "source": [
    "## Попарные scatterplot-ы для сильноскоррелированных признаков [(Наверх)](#0) <a id=\"5\"></a>"
   ]
  },
  {
   "cell_type": "code",
   "execution_count": null,
   "metadata": {},
   "outputs": [],
   "source": [
    "# Построим корреляцию для сильноскоррелированных признаков\n",
    "corr = df[['diagnosis', 'radius_mean', 'concavepoints_mean', 'perimeter_worst', 'area_mean', 'compactness_mean', 'concavity_mean', 'texture_mean']].corr()  \n",
    "corr"
   ]
  },
  {
   "cell_type": "code",
   "execution_count": null,
   "metadata": {
    "scrolled": false
   },
   "outputs": [],
   "source": [
    "# Построим графики парных корреляций\n",
    "sns.pairplot(df[['diagnosis', 'concavepoints_mean', 'perimeter_worst', 'area_mean', 'compactness_mean', 'concavity_mean', \n",
    "                 'radius_mean']], hue=\"diagnosis\");"
   ]
  },
  {
   "cell_type": "code",
   "execution_count": null,
   "metadata": {},
   "outputs": [],
   "source": [
    "# Построим корреляцию для ярко-выраженных признаков\n",
    "df[['perimeter_worst', 'area_mean', 'radius_mean']].corr()"
   ]
  },
  {
   "cell_type": "code",
   "execution_count": null,
   "metadata": {},
   "outputs": [],
   "source": [
    "# Построим дополнительную корреляцию для ярко-выраженных признаков\n",
    "df[['compactness_mean', 'concavity_mean']].corr()"
   ]
  },
  {
   "cell_type": "code",
   "execution_count": null,
   "metadata": {},
   "outputs": [],
   "source": [
    "# 0 - доброкачественная, 1 - злокачественная\n",
    "sns.scatterplot(x='perimeter_worst', y='area_mean', hue='diagnosis', data=df);"
   ]
  },
  {
   "cell_type": "code",
   "execution_count": null,
   "metadata": {},
   "outputs": [],
   "source": [
    "# 0 - доброкачественная, 1 - злокачественная\n",
    "sns.scatterplot(x='radius_mean', y='area_mean', hue='diagnosis', data=df);"
   ]
  },
  {
   "cell_type": "code",
   "execution_count": null,
   "metadata": {},
   "outputs": [],
   "source": [
    "# 0 - доброкачественная, 1 - злокачественная\n",
    "sns.scatterplot(x='compactness_mean', y='concavity_mean', hue='diagnosis', data=df);"
   ]
  },
  {
   "cell_type": "code",
   "execution_count": null,
   "metadata": {},
   "outputs": [],
   "source": [
    "# Построим регрессионо-корреляционную прямую для предыдущей зависимости\n",
    "sns.regplot(x='compactness_mean', y='concavity_mean', data=df)\n",
    "plt.ylim(0,);"
   ]
  },
  {
   "cell_type": "markdown",
   "metadata": {},
   "source": [
    "## Отделение злокачественных новообразований от доброкачественных [(Наверх)](#0) <a id=\"6\"></a>"
   ]
  },
  {
   "cell_type": "markdown",
   "metadata": {},
   "source": [
    "Построим \"ящики с усами\" для признаков, по которым было бы удобно определять тип опухоли"
   ]
  },
  {
   "cell_type": "code",
   "execution_count": null,
   "metadata": {},
   "outputs": [],
   "source": [
    "sns.boxplot(x='diagnosis', y='perimeter_worst', hue='diagnosis', \n",
    "            data=df[['diagnosis', 'perimeter_worst', 'area_mean', 'radius_mean']]);"
   ]
  },
  {
   "cell_type": "code",
   "execution_count": null,
   "metadata": {},
   "outputs": [],
   "source": [
    "sns.boxplot(x='diagnosis', y='area_mean', hue='diagnosis', \n",
    "            data=df[['diagnosis', 'perimeter_worst', 'area_mean', 'radius_mean']]);"
   ]
  },
  {
   "cell_type": "code",
   "execution_count": null,
   "metadata": {},
   "outputs": [],
   "source": [
    "sns.boxplot(x='diagnosis', y='radius_mean', hue='diagnosis', \n",
    "            data=df[['diagnosis', 'perimeter_worst', 'area_mean', 'radius_mean']]);"
   ]
  }
 ],
 "metadata": {
  "kernelspec": {
   "display_name": "Python 3",
   "language": "python",
   "name": "python3"
  },
  "language_info": {
   "codemirror_mode": {
    "name": "ipython",
    "version": 3
   },
   "file_extension": ".py",
   "mimetype": "text/x-python",
   "name": "python",
   "nbconvert_exporter": "python",
   "pygments_lexer": "ipython3",
   "version": "3.7.6"
  }
 },
 "nbformat": 4,
 "nbformat_minor": 4
}
