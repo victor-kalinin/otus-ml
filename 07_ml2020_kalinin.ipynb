{
 "cells": [
  {
   "cell_type": "markdown",
   "metadata": {},
   "source": [
    "# ДЗ #7. Градиентный бустинг <a id=\"0\"></a>\n",
    "\n",
    "### Датасет: https://archive.ics.uci.edu/ml/datasets/Census+Income"
   ]
  },
  {
   "cell_type": "markdown",
   "metadata": {},
   "source": [
    "* [Загрузка данных и базовые статистики](#1)\n",
    "* [EDA](#2)\n",
    "* [ML](#3)\n",
    "    * Baseline\n",
    "    * sklearn.AdaBoost\n",
    "    * sklearn.GradientBoosting\n",
    "    * XGBClassifier\n",
    "    * CatBoostClassifier\n",
    "    * LGBMClassifier\n",
    "* [ML. Подбор оптимальных гиперпараметров](#4)    \n",
    "    * XGBoost\n",
    "    * CatBoost\n",
    "    * LightGBM\n",
    "* [Результат](#5)"
   ]
  },
  {
   "cell_type": "code",
   "execution_count": 1,
   "metadata": {},
   "outputs": [],
   "source": [
    "# Импорт основных библиотек\n",
    "import os\n",
    "import warnings\n",
    "\n",
    "import pandas as pd\n",
    "import numpy as np\n",
    "import matplotlib.pyplot as plt\n",
    "import seaborn as sns\n",
    "\n",
    "from math import sqrt\n",
    "%matplotlib inline\n",
    "warnings.filterwarnings(\"ignore\")\n",
    "np.random.seed(42)"
   ]
  },
  {
   "cell_type": "markdown",
   "metadata": {},
   "source": [
    "---\n",
    "<a id=\"1\"></a>\n",
    "## Загрузка данных и базовые статистики [(Наверх)](#0) "
   ]
  },
  {
   "cell_type": "code",
   "execution_count": 2,
   "metadata": {},
   "outputs": [
    {
     "data": {
      "text/html": [
       "<div>\n",
       "<style scoped>\n",
       "    .dataframe tbody tr th:only-of-type {\n",
       "        vertical-align: middle;\n",
       "    }\n",
       "\n",
       "    .dataframe tbody tr th {\n",
       "        vertical-align: top;\n",
       "    }\n",
       "\n",
       "    .dataframe thead th {\n",
       "        text-align: right;\n",
       "    }\n",
       "</style>\n",
       "<table border=\"1\" class=\"dataframe\">\n",
       "  <thead>\n",
       "    <tr style=\"text-align: right;\">\n",
       "      <th></th>\n",
       "      <th>age</th>\n",
       "      <th>workclass</th>\n",
       "      <th>fnlwgt</th>\n",
       "      <th>education</th>\n",
       "      <th>education-num</th>\n",
       "      <th>marital-status</th>\n",
       "      <th>occupation</th>\n",
       "      <th>relationship</th>\n",
       "      <th>race</th>\n",
       "      <th>sex</th>\n",
       "      <th>capital-gain</th>\n",
       "      <th>capital-loss</th>\n",
       "      <th>hours-per-week</th>\n",
       "      <th>native-country</th>\n",
       "      <th>income</th>\n",
       "    </tr>\n",
       "  </thead>\n",
       "  <tbody>\n",
       "    <tr>\n",
       "      <th>0</th>\n",
       "      <td>39</td>\n",
       "      <td>State-gov</td>\n",
       "      <td>77516</td>\n",
       "      <td>Bachelors</td>\n",
       "      <td>13</td>\n",
       "      <td>Never-married</td>\n",
       "      <td>Adm-clerical</td>\n",
       "      <td>Not-in-family</td>\n",
       "      <td>White</td>\n",
       "      <td>Male</td>\n",
       "      <td>2174</td>\n",
       "      <td>0</td>\n",
       "      <td>40</td>\n",
       "      <td>United-States</td>\n",
       "      <td>&lt;=50K</td>\n",
       "    </tr>\n",
       "    <tr>\n",
       "      <th>1</th>\n",
       "      <td>50</td>\n",
       "      <td>Self-emp-not-inc</td>\n",
       "      <td>83311</td>\n",
       "      <td>Bachelors</td>\n",
       "      <td>13</td>\n",
       "      <td>Married-civ-spouse</td>\n",
       "      <td>Exec-managerial</td>\n",
       "      <td>Husband</td>\n",
       "      <td>White</td>\n",
       "      <td>Male</td>\n",
       "      <td>0</td>\n",
       "      <td>0</td>\n",
       "      <td>13</td>\n",
       "      <td>United-States</td>\n",
       "      <td>&lt;=50K</td>\n",
       "    </tr>\n",
       "    <tr>\n",
       "      <th>2</th>\n",
       "      <td>38</td>\n",
       "      <td>Private</td>\n",
       "      <td>215646</td>\n",
       "      <td>HS-grad</td>\n",
       "      <td>9</td>\n",
       "      <td>Divorced</td>\n",
       "      <td>Handlers-cleaners</td>\n",
       "      <td>Not-in-family</td>\n",
       "      <td>White</td>\n",
       "      <td>Male</td>\n",
       "      <td>0</td>\n",
       "      <td>0</td>\n",
       "      <td>40</td>\n",
       "      <td>United-States</td>\n",
       "      <td>&lt;=50K</td>\n",
       "    </tr>\n",
       "    <tr>\n",
       "      <th>3</th>\n",
       "      <td>53</td>\n",
       "      <td>Private</td>\n",
       "      <td>234721</td>\n",
       "      <td>11th</td>\n",
       "      <td>7</td>\n",
       "      <td>Married-civ-spouse</td>\n",
       "      <td>Handlers-cleaners</td>\n",
       "      <td>Husband</td>\n",
       "      <td>Black</td>\n",
       "      <td>Male</td>\n",
       "      <td>0</td>\n",
       "      <td>0</td>\n",
       "      <td>40</td>\n",
       "      <td>United-States</td>\n",
       "      <td>&lt;=50K</td>\n",
       "    </tr>\n",
       "    <tr>\n",
       "      <th>4</th>\n",
       "      <td>28</td>\n",
       "      <td>Private</td>\n",
       "      <td>338409</td>\n",
       "      <td>Bachelors</td>\n",
       "      <td>13</td>\n",
       "      <td>Married-civ-spouse</td>\n",
       "      <td>Prof-specialty</td>\n",
       "      <td>Wife</td>\n",
       "      <td>Black</td>\n",
       "      <td>Female</td>\n",
       "      <td>0</td>\n",
       "      <td>0</td>\n",
       "      <td>40</td>\n",
       "      <td>Cuba</td>\n",
       "      <td>&lt;=50K</td>\n",
       "    </tr>\n",
       "    <tr>\n",
       "      <th>...</th>\n",
       "      <td>...</td>\n",
       "      <td>...</td>\n",
       "      <td>...</td>\n",
       "      <td>...</td>\n",
       "      <td>...</td>\n",
       "      <td>...</td>\n",
       "      <td>...</td>\n",
       "      <td>...</td>\n",
       "      <td>...</td>\n",
       "      <td>...</td>\n",
       "      <td>...</td>\n",
       "      <td>...</td>\n",
       "      <td>...</td>\n",
       "      <td>...</td>\n",
       "      <td>...</td>\n",
       "    </tr>\n",
       "    <tr>\n",
       "      <th>48837</th>\n",
       "      <td>39</td>\n",
       "      <td>Private</td>\n",
       "      <td>215419</td>\n",
       "      <td>Bachelors</td>\n",
       "      <td>13</td>\n",
       "      <td>Divorced</td>\n",
       "      <td>Prof-specialty</td>\n",
       "      <td>Not-in-family</td>\n",
       "      <td>White</td>\n",
       "      <td>Female</td>\n",
       "      <td>0</td>\n",
       "      <td>0</td>\n",
       "      <td>36</td>\n",
       "      <td>United-States</td>\n",
       "      <td>&lt;=50K.</td>\n",
       "    </tr>\n",
       "    <tr>\n",
       "      <th>48838</th>\n",
       "      <td>64</td>\n",
       "      <td>NaN</td>\n",
       "      <td>321403</td>\n",
       "      <td>HS-grad</td>\n",
       "      <td>9</td>\n",
       "      <td>Widowed</td>\n",
       "      <td>NaN</td>\n",
       "      <td>Other-relative</td>\n",
       "      <td>Black</td>\n",
       "      <td>Male</td>\n",
       "      <td>0</td>\n",
       "      <td>0</td>\n",
       "      <td>40</td>\n",
       "      <td>United-States</td>\n",
       "      <td>&lt;=50K.</td>\n",
       "    </tr>\n",
       "    <tr>\n",
       "      <th>48839</th>\n",
       "      <td>38</td>\n",
       "      <td>Private</td>\n",
       "      <td>374983</td>\n",
       "      <td>Bachelors</td>\n",
       "      <td>13</td>\n",
       "      <td>Married-civ-spouse</td>\n",
       "      <td>Prof-specialty</td>\n",
       "      <td>Husband</td>\n",
       "      <td>White</td>\n",
       "      <td>Male</td>\n",
       "      <td>0</td>\n",
       "      <td>0</td>\n",
       "      <td>50</td>\n",
       "      <td>United-States</td>\n",
       "      <td>&lt;=50K.</td>\n",
       "    </tr>\n",
       "    <tr>\n",
       "      <th>48840</th>\n",
       "      <td>44</td>\n",
       "      <td>Private</td>\n",
       "      <td>83891</td>\n",
       "      <td>Bachelors</td>\n",
       "      <td>13</td>\n",
       "      <td>Divorced</td>\n",
       "      <td>Adm-clerical</td>\n",
       "      <td>Own-child</td>\n",
       "      <td>Asian-Pac-Islander</td>\n",
       "      <td>Male</td>\n",
       "      <td>5455</td>\n",
       "      <td>0</td>\n",
       "      <td>40</td>\n",
       "      <td>United-States</td>\n",
       "      <td>&lt;=50K.</td>\n",
       "    </tr>\n",
       "    <tr>\n",
       "      <th>48841</th>\n",
       "      <td>35</td>\n",
       "      <td>Self-emp-inc</td>\n",
       "      <td>182148</td>\n",
       "      <td>Bachelors</td>\n",
       "      <td>13</td>\n",
       "      <td>Married-civ-spouse</td>\n",
       "      <td>Exec-managerial</td>\n",
       "      <td>Husband</td>\n",
       "      <td>White</td>\n",
       "      <td>Male</td>\n",
       "      <td>0</td>\n",
       "      <td>0</td>\n",
       "      <td>60</td>\n",
       "      <td>United-States</td>\n",
       "      <td>&gt;50K.</td>\n",
       "    </tr>\n",
       "  </tbody>\n",
       "</table>\n",
       "<p>48842 rows × 15 columns</p>\n",
       "</div>"
      ],
      "text/plain": [
       "       age         workclass  fnlwgt  education  education-num  \\\n",
       "0       39         State-gov   77516  Bachelors             13   \n",
       "1       50  Self-emp-not-inc   83311  Bachelors             13   \n",
       "2       38           Private  215646    HS-grad              9   \n",
       "3       53           Private  234721       11th              7   \n",
       "4       28           Private  338409  Bachelors             13   \n",
       "...    ...               ...     ...        ...            ...   \n",
       "48837   39           Private  215419  Bachelors             13   \n",
       "48838   64               NaN  321403    HS-grad              9   \n",
       "48839   38           Private  374983  Bachelors             13   \n",
       "48840   44           Private   83891  Bachelors             13   \n",
       "48841   35      Self-emp-inc  182148  Bachelors             13   \n",
       "\n",
       "           marital-status         occupation    relationship  \\\n",
       "0           Never-married       Adm-clerical   Not-in-family   \n",
       "1      Married-civ-spouse    Exec-managerial         Husband   \n",
       "2                Divorced  Handlers-cleaners   Not-in-family   \n",
       "3      Married-civ-spouse  Handlers-cleaners         Husband   \n",
       "4      Married-civ-spouse     Prof-specialty            Wife   \n",
       "...                   ...                ...             ...   \n",
       "48837            Divorced     Prof-specialty   Not-in-family   \n",
       "48838             Widowed                NaN  Other-relative   \n",
       "48839  Married-civ-spouse     Prof-specialty         Husband   \n",
       "48840            Divorced       Adm-clerical       Own-child   \n",
       "48841  Married-civ-spouse    Exec-managerial         Husband   \n",
       "\n",
       "                     race     sex  capital-gain  capital-loss  hours-per-week  \\\n",
       "0                   White    Male          2174             0              40   \n",
       "1                   White    Male             0             0              13   \n",
       "2                   White    Male             0             0              40   \n",
       "3                   Black    Male             0             0              40   \n",
       "4                   Black  Female             0             0              40   \n",
       "...                   ...     ...           ...           ...             ...   \n",
       "48837               White  Female             0             0              36   \n",
       "48838               Black    Male             0             0              40   \n",
       "48839               White    Male             0             0              50   \n",
       "48840  Asian-Pac-Islander    Male          5455             0              40   \n",
       "48841               White    Male             0             0              60   \n",
       "\n",
       "      native-country  income  \n",
       "0      United-States   <=50K  \n",
       "1      United-States   <=50K  \n",
       "2      United-States   <=50K  \n",
       "3      United-States   <=50K  \n",
       "4               Cuba   <=50K  \n",
       "...              ...     ...  \n",
       "48837  United-States  <=50K.  \n",
       "48838  United-States  <=50K.  \n",
       "48839  United-States  <=50K.  \n",
       "48840  United-States  <=50K.  \n",
       "48841  United-States   >50K.  \n",
       "\n",
       "[48842 rows x 15 columns]"
      ]
     },
     "execution_count": 2,
     "metadata": {},
     "output_type": "execute_result"
    }
   ],
   "source": [
    "url = ['https://archive.ics.uci.edu/ml/machine-learning-databases/adult/adult.data',\n",
    "       'https://archive.ics.uci.edu/ml/machine-learning-databases/adult/adult.test']\n",
    "filename = './data/income.csv'\n",
    "column_names = ['age', 'workclass', 'fnlwgt', 'education', 'education-num', 'marital-status',\n",
    "                'occupation', 'relationship', 'race', 'sex', 'capital-gain', 'capital-loss',\n",
    "                'hours-per-week', 'native-country', 'income']\n",
    "\n",
    "if not os.path.exists(filename):\n",
    "    income_df = pd.concat([pd.read_csv(url[0], names=column_names, skipinitialspace=True, na_values='?'), \n",
    "                           pd.read_csv(url[1], names=column_names, skipinitialspace=True, skiprows=1, na_values='?')],\n",
    "                          sort=False, ignore_index=True)\n",
    "    income_df.to_csv(filename, index=False)\n",
    "else:\n",
    "    income_df = pd.read_csv(filename)\n",
    "\n",
    "# Проверим корректно ли загружен CSV\n",
    "income_df"
   ]
  },
  {
   "cell_type": "code",
   "execution_count": 3,
   "metadata": {},
   "outputs": [
    {
     "data": {
      "text/plain": [
       "(48842, 15)"
      ]
     },
     "execution_count": 3,
     "metadata": {},
     "output_type": "execute_result"
    }
   ],
   "source": [
    "# Узнаем размер датасета\n",
    "income_df.shape"
   ]
  },
  {
   "cell_type": "code",
   "execution_count": 4,
   "metadata": {},
   "outputs": [
    {
     "name": "stdout",
     "output_type": "stream",
     "text": [
      "<class 'pandas.core.frame.DataFrame'>\n",
      "RangeIndex: 48842 entries, 0 to 48841\n",
      "Data columns (total 15 columns):\n",
      " #   Column          Non-Null Count  Dtype \n",
      "---  ------          --------------  ----- \n",
      " 0   age             48842 non-null  int64 \n",
      " 1   workclass       46043 non-null  object\n",
      " 2   fnlwgt          48842 non-null  int64 \n",
      " 3   education       48842 non-null  object\n",
      " 4   education-num   48842 non-null  int64 \n",
      " 5   marital-status  48842 non-null  object\n",
      " 6   occupation      46033 non-null  object\n",
      " 7   relationship    48842 non-null  object\n",
      " 8   race            48842 non-null  object\n",
      " 9   sex             48842 non-null  object\n",
      " 10  capital-gain    48842 non-null  int64 \n",
      " 11  capital-loss    48842 non-null  int64 \n",
      " 12  hours-per-week  48842 non-null  int64 \n",
      " 13  native-country  47985 non-null  object\n",
      " 14  income          48842 non-null  object\n",
      "dtypes: int64(6), object(9)\n",
      "memory usage: 5.6+ MB\n"
     ]
    }
   ],
   "source": [
    "# Узнаем свойства датасета\n",
    "income_df.info()"
   ]
  },
  {
   "cell_type": "code",
   "execution_count": 5,
   "metadata": {},
   "outputs": [
    {
     "data": {
      "text/plain": [
       "0"
      ]
     },
     "execution_count": 5,
     "metadata": {},
     "output_type": "execute_result"
    }
   ],
   "source": [
    "# Проверим на дубликаты и удалим если есть\n",
    "income_df.drop_duplicates(inplace=True)\n",
    "income_df.duplicated().sum()"
   ]
  },
  {
   "cell_type": "code",
   "execution_count": 6,
   "metadata": {},
   "outputs": [
    {
     "data": {
      "text/plain": [
       "age                  0\n",
       "workclass         2799\n",
       "fnlwgt               0\n",
       "education            0\n",
       "education-num        0\n",
       "marital-status       0\n",
       "occupation        2809\n",
       "relationship         0\n",
       "race                 0\n",
       "sex                  0\n",
       "capital-gain         0\n",
       "capital-loss         0\n",
       "hours-per-week       0\n",
       "native-country     856\n",
       "income               0\n",
       "dtype: int64"
      ]
     },
     "execution_count": 6,
     "metadata": {},
     "output_type": "execute_result"
    }
   ],
   "source": [
    "# Проверим на наличие пустых данных\n",
    "income_df.isnull().sum()"
   ]
  },
  {
   "cell_type": "markdown",
   "metadata": {},
   "source": [
    "---\n",
    "<a id=\"2\"></a>\n",
    "## EDA [(Наверх)](#0) "
   ]
  },
  {
   "cell_type": "code",
   "execution_count": 7,
   "metadata": {},
   "outputs": [],
   "source": [
    "# Удалим NaN\n",
    "income_df.dropna(inplace=True)"
   ]
  },
  {
   "cell_type": "markdown",
   "metadata": {},
   "source": [
    "### Income"
   ]
  },
  {
   "cell_type": "code",
   "execution_count": 8,
   "metadata": {
    "scrolled": true
   },
   "outputs": [
    {
     "data": {
      "text/plain": [
       "<=50K     22633\n",
       "<=50K.    11355\n",
       ">50K       7506\n",
       ">50K.      3700\n",
       "Name: income, dtype: int64"
      ]
     },
     "execution_count": 8,
     "metadata": {},
     "output_type": "execute_result"
    }
   ],
   "source": [
    "income_df['income'].value_counts()"
   ]
  },
  {
   "cell_type": "code",
   "execution_count": 9,
   "metadata": {},
   "outputs": [],
   "source": [
    "# Сконвертируем целевую переменную 'income' в бинарный вид \n",
    "# (учтём, что некоторые значения имеют знак точки в конце)\n",
    "\n",
    "income_bool = {'<=50K':0, '<=50K.':0, '>50K':1, '>50K.':1}\n",
    "income_df['income'] = income_df['income'].map(income_bool)"
   ]
  },
  {
   "cell_type": "code",
   "execution_count": 10,
   "metadata": {},
   "outputs": [
    {
     "data": {
      "image/png": "[encoded data removed]",
      "text/plain": [
       "<Figure size 432x288 with 1 Axes>"
      ]
     },
     "metadata": {
      "needs_background": "light"
     },
     "output_type": "display_data"
    }
   ],
   "source": [
    "# Баланс целевой переменной\n",
    "sns.countplot(x='income',data=income_df);"
   ]
  },
  {
   "cell_type": "markdown",
   "metadata": {},
   "source": [
    "### Education & Education-num"
   ]
  },
  {
   "cell_type": "code",
   "execution_count": 11,
   "metadata": {},
   "outputs": [
    {
     "data": {
      "text/html": [
       "<div>\n",
       "<style scoped>\n",
       "    .dataframe tbody tr th:only-of-type {\n",
       "        vertical-align: middle;\n",
       "    }\n",
       "\n",
       "    .dataframe tbody tr th {\n",
       "        vertical-align: top;\n",
       "    }\n",
       "\n",
       "    .dataframe thead th {\n",
       "        text-align: right;\n",
       "    }\n",
       "</style>\n",
       "<table border=\"1\" class=\"dataframe\">\n",
       "  <thead>\n",
       "    <tr style=\"text-align: right;\">\n",
       "      <th></th>\n",
       "      <th>education-num</th>\n",
       "    </tr>\n",
       "    <tr>\n",
       "      <th>education</th>\n",
       "      <th></th>\n",
       "    </tr>\n",
       "  </thead>\n",
       "  <tbody>\n",
       "    <tr>\n",
       "      <th>Preschool</th>\n",
       "      <td>1</td>\n",
       "    </tr>\n",
       "    <tr>\n",
       "      <th>1st-4th</th>\n",
       "      <td>2</td>\n",
       "    </tr>\n",
       "    <tr>\n",
       "      <th>5th-6th</th>\n",
       "      <td>3</td>\n",
       "    </tr>\n",
       "    <tr>\n",
       "      <th>7th-8th</th>\n",
       "      <td>4</td>\n",
       "    </tr>\n",
       "    <tr>\n",
       "      <th>9th</th>\n",
       "      <td>5</td>\n",
       "    </tr>\n",
       "    <tr>\n",
       "      <th>10th</th>\n",
       "      <td>6</td>\n",
       "    </tr>\n",
       "    <tr>\n",
       "      <th>11th</th>\n",
       "      <td>7</td>\n",
       "    </tr>\n",
       "    <tr>\n",
       "      <th>12th</th>\n",
       "      <td>8</td>\n",
       "    </tr>\n",
       "    <tr>\n",
       "      <th>HS-grad</th>\n",
       "      <td>9</td>\n",
       "    </tr>\n",
       "    <tr>\n",
       "      <th>Some-college</th>\n",
       "      <td>10</td>\n",
       "    </tr>\n",
       "    <tr>\n",
       "      <th>Assoc-voc</th>\n",
       "      <td>11</td>\n",
       "    </tr>\n",
       "    <tr>\n",
       "      <th>Assoc-acdm</th>\n",
       "      <td>12</td>\n",
       "    </tr>\n",
       "    <tr>\n",
       "      <th>Bachelors</th>\n",
       "      <td>13</td>\n",
       "    </tr>\n",
       "    <tr>\n",
       "      <th>Masters</th>\n",
       "      <td>14</td>\n",
       "    </tr>\n",
       "    <tr>\n",
       "      <th>Prof-school</th>\n",
       "      <td>15</td>\n",
       "    </tr>\n",
       "    <tr>\n",
       "      <th>Doctorate</th>\n",
       "      <td>16</td>\n",
       "    </tr>\n",
       "  </tbody>\n",
       "</table>\n",
       "</div>"
      ],
      "text/plain": [
       "              education-num\n",
       "education                  \n",
       "Preschool                 1\n",
       "1st-4th                   2\n",
       "5th-6th                   3\n",
       "7th-8th                   4\n",
       "9th                       5\n",
       "10th                      6\n",
       "11th                      7\n",
       "12th                      8\n",
       "HS-grad                   9\n",
       "Some-college             10\n",
       "Assoc-voc                11\n",
       "Assoc-acdm               12\n",
       "Bachelors                13\n",
       "Masters                  14\n",
       "Prof-school              15\n",
       "Doctorate                16"
      ]
     },
     "execution_count": 11,
     "metadata": {},
     "output_type": "execute_result"
    }
   ],
   "source": [
    "# Проверим предположение, что 'education-num' расположен в порядке возрастания уровня образования\n",
    "income_df[['education', 'education-num']].groupby(['education']).median().sort_values(by='education-num')"
   ]
  },
  {
   "cell_type": "code",
   "execution_count": 12,
   "metadata": {},
   "outputs": [],
   "source": [
    "# Предположение оказалось верным, поэтому смело можем удалить 'education' из нашего датасета\n",
    "income_df.drop(['education'], axis=1, inplace=True)"
   ]
  },
  {
   "cell_type": "markdown",
   "metadata": {},
   "source": [
    "### Dummies"
   ]
  },
  {
   "cell_type": "code",
   "execution_count": 13,
   "metadata": {},
   "outputs": [],
   "source": [
    "# Закодируем следующие переменные в новый df\n",
    "to_dummies = ['workclass', 'marital-status', 'occupation', 'relationship', 'race', 'sex', 'native-country']\n",
    "income_1hot_df = pd.get_dummies(income_df, columns=to_dummies)"
   ]
  },
  {
   "cell_type": "markdown",
   "metadata": {},
   "source": [
    "---\n",
    "## Процедурная [(Наверх)](#0) "
   ]
  },
  {
   "cell_type": "code",
   "execution_count": 14,
   "metadata": {},
   "outputs": [],
   "source": [
    "# Процедура оценки качества\n",
    "def quality_report(prediction, actual, label='', report_df=None):\n",
    "    metrics_list = [accuracy_score(actual, prediction), \n",
    "                    precision_score(actual, prediction, average='weighted'), \n",
    "                    recall_score(actual, prediction, average='weighted'), \n",
    "                    f1_score(actual, prediction, average='weighted')]\n",
    "    \n",
    "    if report_df is None:\n",
    "        report_df = pd.DataFrame(columns=['Accuracy', 'Precision', 'Recall', 'F1']).astype('float32')\n",
    "    \n",
    "    report_df.loc[label, :] =  metrics_list\n",
    "    \n",
    "    return report_df.round(3)"
   ]
  },
  {
   "cell_type": "code",
   "execution_count": 15,
   "metadata": {},
   "outputs": [],
   "source": [
    "# Процедура подготовки сетов\n",
    "def split_proc(split_df, target, test_size=0.3):\n",
    "    X_train, X_test, y_train, y_test = train_test_split(\n",
    "        split_df.drop(labels=[target], axis=1),\n",
    "        split_df[target],\n",
    "        test_size=test_size,\n",
    "        stratify=split_df[target],\n",
    "        random_state=42)\n",
    "    \n",
    "    return X_train, X_test, y_train, y_test"
   ]
  },
  {
   "cell_type": "markdown",
   "metadata": {},
   "source": [
    "---\n",
    "<a id=\"3\"></a>\n",
    "## ML [(Наверх)](#0) "
   ]
  },
  {
   "cell_type": "code",
   "execution_count": 16,
   "metadata": {},
   "outputs": [],
   "source": [
    "# Импортируем библиотеки для ML\n",
    "from sklearn.model_selection import train_test_split, GridSearchCV\n",
    "from sklearn.preprocessing import StandardScaler\n",
    "from sklearn.metrics import accuracy_score, precision_score, recall_score, f1_score, roc_auc_score\n",
    "\n",
    "from sklearn import svm\n",
    "from sklearn.linear_model import LogisticRegression\n",
    "from sklearn.neighbors import KNeighborsClassifier\n",
    "from sklearn.tree import DecisionTreeClassifier\n",
    "\n",
    "from sklearn.ensemble import RandomForestClassifier, AdaBoostClassifier, GradientBoostingClassifier\n",
    "import xgboost as xgb\n",
    "import catboost\n",
    "import lightgbm\n"
   ]
  },
  {
   "cell_type": "code",
   "execution_count": 17,
   "metadata": {},
   "outputs": [],
   "source": [
    "# Получим test-train сеты\n",
    "X_train, X_test, y_train, y_test = split_proc(split_df=income_1hot_df, target='income')"
   ]
  },
  {
   "cell_type": "code",
   "execution_count": 18,
   "metadata": {},
   "outputs": [],
   "source": [
    "# Cтандартизируем переменные\n",
    "scaler = StandardScaler()\n",
    "X_train_scaled = scaler.fit_transform(X_train)\n",
    "X_test_scaled = scaler.transform(X_test)"
   ]
  },
  {
   "cell_type": "markdown",
   "metadata": {},
   "source": [
    "### Baseline"
   ]
  },
  {
   "cell_type": "code",
   "execution_count": 19,
   "metadata": {},
   "outputs": [],
   "source": [
    "# Логистическая регрессия\n",
    "log_reg = LogisticRegression(random_state=42)\n",
    "log_reg.fit(X_train_scaled, y_train)\n",
    "report = quality_report(log_reg.predict(X_test_scaled), y_test.values, label='log-reg (default)')"
   ]
  },
  {
   "cell_type": "code",
   "execution_count": 20,
   "metadata": {},
   "outputs": [],
   "source": [
    "# K-Nearest Neighbors\n",
    "knn = KNeighborsClassifier(n_neighbors=24)\n",
    "knn.fit(X_train_scaled, y_train)\n",
    "report = quality_report(knn.predict(X_test_scaled), y_test.values, label='knn (neigh=24)', report_df=report)"
   ]
  },
  {
   "cell_type": "code",
   "execution_count": 21,
   "metadata": {},
   "outputs": [],
   "source": [
    "# Support vectors machine\n",
    "svc = svm.SVC(random_state=42)\n",
    "svc.fit(X_train_scaled, y_train)\n",
    "report = quality_report(svc.predict(X_test_scaled), y_test.values, label='svm (linear)', report_df=report)"
   ]
  },
  {
   "cell_type": "code",
   "execution_count": 22,
   "metadata": {},
   "outputs": [],
   "source": [
    "# Decision Tree\n",
    "dtc = DecisionTreeClassifier(max_depth=5, random_state=42)\n",
    "dtc.fit(X_train, y_train)\n",
    "report = quality_report(dtc.predict(X_test), y_test.values, label='tree (depth=5)', report_df=report)"
   ]
  },
  {
   "cell_type": "code",
   "execution_count": 23,
   "metadata": {},
   "outputs": [],
   "source": [
    "# Random Forest\n",
    "rfc = RandomForestClassifier(random_state=42, n_jobs=-1)\n",
    "rfc.fit(X_train_scaled, y_train)\n",
    "report = quality_report(rfc.predict(X_test_scaled), y_test.values, label='forest', report_df=report)"
   ]
  },
  {
   "cell_type": "markdown",
   "metadata": {},
   "source": [
    "### sklearn.AdaBoost"
   ]
  },
  {
   "cell_type": "code",
   "execution_count": 24,
   "metadata": {},
   "outputs": [],
   "source": [
    "abc = AdaBoostClassifier(n_estimators=300, learning_rate=1).fit(X_train, y_train)\n",
    "report = quality_report(abc.predict(X_test), y_test.values, label='adaBoost (default)', report_df=report)"
   ]
  },
  {
   "cell_type": "code",
   "execution_count": 25,
   "metadata": {},
   "outputs": [],
   "source": [
    "abc = AdaBoostClassifier(n_estimators=300, base_estimator=log_reg, learning_rate=1).fit(X_train_scaled, y_train)\n",
    "report = quality_report(abc.predict(X_test_scaled), y_test.values, label='adaBoost (log-reg)', report_df=report)"
   ]
  },
  {
   "cell_type": "markdown",
   "metadata": {},
   "source": [
    "### sklearn.GradientBoosting"
   ]
  },
  {
   "cell_type": "code",
   "execution_count": 26,
   "metadata": {},
   "outputs": [],
   "source": [
    "gbc = GradientBoostingClassifier(n_estimators=300, max_depth=3).fit(X_train, y_train)\n",
    "report = quality_report(gbc.predict(X_test), y_test.values, label='gradientBoost', report_df=report)"
   ]
  },
  {
   "cell_type": "markdown",
   "metadata": {},
   "source": [
    "### XGBClassifier"
   ]
  },
  {
   "cell_type": "code",
   "execution_count": 27,
   "metadata": {},
   "outputs": [],
   "source": [
    "xgbc = xgb.XGBClassifier(max_depth=5, n_estimators=300, n_jobs=-1, min_child_weight=3).fit(X_train, y_train)\n",
    "report = quality_report(xgbc.predict(X_test), y_test.values, label='xgBoost (cls)', report_df=report)"
   ]
  },
  {
   "cell_type": "markdown",
   "metadata": {},
   "source": [
    "### CatBoostClassifier"
   ]
  },
  {
   "cell_type": "code",
   "execution_count": 28,
   "metadata": {
    "scrolled": true
   },
   "outputs": [],
   "source": [
    "cbc = catboost.CatBoostClassifier(iterations=30, learning_rate=1, depth=5, logging_level='Silent').fit(X_train, y_train)\n",
    "report = quality_report(cbc.predict(X_test), y_test.values, label='catBoost (cls)', report_df=report)"
   ]
  },
  {
   "cell_type": "markdown",
   "metadata": {},
   "source": [
    "### LGBMClassifier"
   ]
  },
  {
   "cell_type": "code",
   "execution_count": 29,
   "metadata": {},
   "outputs": [],
   "source": [
    "lgbc = lightgbm.LGBMClassifier().fit(X_train, y_train)\n",
    "report = quality_report(lgbc.predict(X_test), y_test.values, label='lightGBM (cls)', report_df=report)"
   ]
  },
  {
   "cell_type": "markdown",
   "metadata": {},
   "source": [
    "---\n",
    "<a id=\"4\"></a>\n",
    "## ML. Подбор оптимальных гиперпараметров [(Наверх)](#0) "
   ]
  },
  {
   "cell_type": "code",
   "execution_count": 30,
   "metadata": {},
   "outputs": [],
   "source": [
    "# Для подбора оптимальных параметров будем использовать Hyperopt (https://github.com/hyperopt/hyperopt)\n",
    "from hyperopt import hp, fmin, tpe, STATUS_OK\n",
    "N_ROUNDS = 200"
   ]
  },
  {
   "cell_type": "markdown",
   "metadata": {},
   "source": [
    "### XGBoost"
   ]
  },
  {
   "cell_type": "code",
   "execution_count": 31,
   "metadata": {},
   "outputs": [],
   "source": [
    "dm_train = xgb.DMatrix(X_train, label=y_train)\n",
    "dm_test = xgb.DMatrix(X_test, label=y_test)"
   ]
  },
  {
   "cell_type": "code",
   "execution_count": 32,
   "metadata": {},
   "outputs": [],
   "source": [
    "def hp_xgb_score(params):\n",
    "    iterations = 150\n",
    "    model = xgb.train(params, dm_train, iterations)\n",
    "    preds = np.round(model.predict(dm_test)).astype(int)\n",
    "    test_loss = accuracy_score(y_test.values, preds)\n",
    "    \n",
    "    return {'loss': test_loss, 'status': STATUS_OK, 'y': preds}"
   ]
  },
  {
   "cell_type": "code",
   "execution_count": 33,
   "metadata": {
    "scrolled": true
   },
   "outputs": [
    {
     "name": "stdout",
     "output_type": "stream",
     "text": [
      "100%|██████████████████████████████████████████████| 200/200 [14:24<00:00,  4.32s/trial, best loss: 0.8249133416918651]\n"
     ]
    }
   ],
   "source": [
    "xgb_space = {'n_estimators' : hp.choice('n_estimators', np.arange(100, 505, 5, dtype=int)),\n",
    "             'eta' : hp.quniform('eta', 0.025, 1, 0.025),\n",
    "             'max_depth' : hp.choice('max_depth', np.arange(3, 7, dtype=int)),\n",
    "             'min_child_weight' : hp.quniform('min_child_weight', 1, 5, 1),\n",
    "             'subsample' : hp.quniform('subsample', 0.5, 1, 0.05),\n",
    "             'gamma' : hp.quniform('gamma', 0.5, 1, 0.05),\n",
    "             'colsample_bytree' : hp.quniform('colsample_bytree', 0.5, 1, 0.05),\n",
    "             'objective': 'binary:logistic',\n",
    "             'nthread' : 6, 'silent' : 1}\n",
    "\n",
    "best = fmin(hp_xgb_score, xgb_space, algo=tpe.suggest, max_evals=N_ROUNDS)"
   ]
  },
  {
   "cell_type": "code",
   "execution_count": 35,
   "metadata": {},
   "outputs": [
    {
     "data": {
      "text/plain": [
       "{'colsample_bytree': 0.9,\n",
       " 'eta': 1.0,\n",
       " 'gamma': 1.0,\n",
       " 'max_depth': 3,\n",
       " 'min_child_weight': 1.0,\n",
       " 'n_estimators': 53,\n",
       " 'subsample': 0.5}"
      ]
     },
     "execution_count": 35,
     "metadata": {},
     "output_type": "execute_result"
    }
   ],
   "source": [
    "report = quality_report(hp_xgb_score(best)['y'], y_test.values, label='XGBoost (hyp)', report_df=report)\n",
    "best"
   ]
  },
  {
   "cell_type": "markdown",
   "metadata": {},
   "source": [
    "### CatBoost"
   ]
  },
  {
   "cell_type": "code",
   "execution_count": 36,
   "metadata": {},
   "outputs": [],
   "source": [
    "cp_train = catboost.Pool(X_train, y_train)\n",
    "cp_test = catboost.Pool(X_test, y_test)"
   ]
  },
  {
   "cell_type": "code",
   "execution_count": 37,
   "metadata": {},
   "outputs": [],
   "source": [
    "def hp_cat_score(params):\n",
    "    params['logging_level']='Silent'\n",
    "    model = catboost.CatBoostClassifier(**params).fit(cp_train)\n",
    "    preds = np.round(model.predict(cp_test)).astype(int)\n",
    "    test_loss = accuracy_score(y_test.values, preds)\n",
    "    \n",
    "    return {'loss': test_loss, 'status': STATUS_OK, 'y': preds}"
   ]
  },
  {
   "cell_type": "code",
   "execution_count": 38,
   "metadata": {},
   "outputs": [
    {
     "name": "stdout",
     "output_type": "stream",
     "text": [
      "100%|██████████████████████████████████████████████| 200/200 [53:10<00:00, 15.95s/trial, best loss: 0.8364186149421049]\n"
     ]
    }
   ],
   "source": [
    "cat_space = {'iterations' : 1000,\n",
    "             'learning_rate' : hp.quniform('learning_rate', 0.03, 1, 0.02),\n",
    "             'depth' : hp.choice('depth', np.arange(3, 7, dtype=int)),\n",
    "             'l2_leaf_reg': hp.uniform('l2_leaf_reg', 1, 10),\n",
    "             'early_stopping_rounds': 500,\n",
    "             'random_seed': 42}\n",
    "\n",
    "best = fmin(hp_cat_score, cat_space, algo=tpe.suggest, max_evals=N_ROUNDS);"
   ]
  },
  {
   "cell_type": "code",
   "execution_count": 39,
   "metadata": {},
   "outputs": [
    {
     "data": {
      "text/plain": [
       "{'depth': 3,\n",
       " 'l2_leaf_reg': 3.022624483550495,\n",
       " 'learning_rate': 1.0,\n",
       " 'logging_level': 'Silent'}"
      ]
     },
     "execution_count": 39,
     "metadata": {},
     "output_type": "execute_result"
    }
   ],
   "source": [
    "report = quality_report(hp_cat_score(best)['y'], y_test.values, label='CatBoost (hyp)', report_df=report)\n",
    "best"
   ]
  },
  {
   "cell_type": "markdown",
   "metadata": {},
   "source": [
    "### LightGBM"
   ]
  },
  {
   "cell_type": "code",
   "execution_count": 47,
   "metadata": {},
   "outputs": [],
   "source": [
    "lgbm_train = lightgbm.Dataset(X_train, label=y_train)\n",
    "lgbm_test = lightgbm.Dataset(X_test, label=y_test)"
   ]
  },
  {
   "cell_type": "code",
   "execution_count": 48,
   "metadata": {},
   "outputs": [],
   "source": [
    "def hp_lgbm_score(params):\n",
    "    model = lightgbm.train(params, lgbm_train, valid_sets=lgbm_test, verbose_eval=False)\n",
    "    preds = np.round(model.predict(X_test)).astype(int)\n",
    "    test_loss = accuracy_score(y_test.values, preds)\n",
    "    \n",
    "    return {'loss': test_loss, 'status': STATUS_OK, 'y': preds}"
   ]
  },
  {
   "cell_type": "code",
   "execution_count": 49,
   "metadata": {},
   "outputs": [
    {
     "name": "stdout",
     "output_type": "stream",
     "text": [
      "100%|██████████████████████████████████████████████| 200/200 [08:26<00:00,  2.53s/trial, best loss: 0.8027140644590309]\n"
     ]
    }
   ],
   "source": [
    "lgbm_space = {'application': 'binary',\n",
    "              'objective': 'binary',\n",
    "              'is_unbalance': 'true',\n",
    "              'boosting': 'gbdt',\n",
    "              'num_leaves': hp.choice('depth', np.arange(15, 41, dtype=int)),\n",
    "              'feature_fraction': hp.quniform('feature_fraction', 0.1, 1, 0.05),\n",
    "              'bagging_fraction': hp.quniform('bagging_fraction', 0.1, 1, 0.05),\n",
    "              'bagging_freq': hp.choice('bagging_freq', np.arange(15, 31, dtype=int)),\n",
    "              'learning_rate': hp.quniform('learning_rate', 0.025, 0.5, 0.025),\n",
    "              'num_boost_round': 5000,\n",
    "              'early_stopping_rounds': 1000}\n",
    "\n",
    "best = fmin(hp_lgbm_score, lgbm_space, algo=tpe.suggest, max_evals=N_ROUNDS);"
   ]
  },
  {
   "cell_type": "code",
   "execution_count": 50,
   "metadata": {},
   "outputs": [
    {
     "data": {
      "text/plain": [
       "{'bagging_fraction': 0.1,\n",
       " 'bagging_freq': 7,\n",
       " 'depth': 17,\n",
       " 'feature_fraction': 0.15000000000000002,\n",
       " 'learning_rate': 0.47500000000000003}"
      ]
     },
     "execution_count": 50,
     "metadata": {},
     "output_type": "execute_result"
    }
   ],
   "source": [
    "report = quality_report(hp_lgbm_score(best)['y'], y_test.values, label='LightGBM (hyp)', report_df=report)\n",
    "best"
   ]
  },
  {
   "cell_type": "markdown",
   "metadata": {},
   "source": [
    "---\n",
    "<a id=\"5\"></a>\n",
    "## Результат [(Наверх)](#0) "
   ]
  },
  {
   "cell_type": "code",
   "execution_count": 51,
   "metadata": {},
   "outputs": [
    {
     "data": {
      "text/html": [
       "<div>\n",
       "<style scoped>\n",
       "    .dataframe tbody tr th:only-of-type {\n",
       "        vertical-align: middle;\n",
       "    }\n",
       "\n",
       "    .dataframe tbody tr th {\n",
       "        vertical-align: top;\n",
       "    }\n",
       "\n",
       "    .dataframe thead th {\n",
       "        text-align: right;\n",
       "    }\n",
       "</style>\n",
       "<table border=\"1\" class=\"dataframe\">\n",
       "  <thead>\n",
       "    <tr style=\"text-align: right;\">\n",
       "      <th></th>\n",
       "      <th>Accuracy</th>\n",
       "      <th>Precision</th>\n",
       "      <th>Recall</th>\n",
       "      <th>F1</th>\n",
       "    </tr>\n",
       "  </thead>\n",
       "  <tbody>\n",
       "    <tr>\n",
       "      <th>log-reg (default)</th>\n",
       "      <td>0.847</td>\n",
       "      <td>0.841</td>\n",
       "      <td>0.847</td>\n",
       "      <td>0.842</td>\n",
       "    </tr>\n",
       "    <tr>\n",
       "      <th>knn (neigh=24)</th>\n",
       "      <td>0.832</td>\n",
       "      <td>0.822</td>\n",
       "      <td>0.832</td>\n",
       "      <td>0.822</td>\n",
       "    </tr>\n",
       "    <tr>\n",
       "      <th>svm (linear)</th>\n",
       "      <td>0.846</td>\n",
       "      <td>0.839</td>\n",
       "      <td>0.846</td>\n",
       "      <td>0.839</td>\n",
       "    </tr>\n",
       "    <tr>\n",
       "      <th>tree (depth=5)</th>\n",
       "      <td>0.846</td>\n",
       "      <td>0.840</td>\n",
       "      <td>0.846</td>\n",
       "      <td>0.835</td>\n",
       "    </tr>\n",
       "    <tr>\n",
       "      <th>forest</th>\n",
       "      <td>0.853</td>\n",
       "      <td>0.847</td>\n",
       "      <td>0.853</td>\n",
       "      <td>0.848</td>\n",
       "    </tr>\n",
       "    <tr>\n",
       "      <th>adaBoost (default)</th>\n",
       "      <td>0.863</td>\n",
       "      <td>0.858</td>\n",
       "      <td>0.863</td>\n",
       "      <td>0.858</td>\n",
       "    </tr>\n",
       "    <tr>\n",
       "      <th>adaBoost (log-reg)</th>\n",
       "      <td>0.844</td>\n",
       "      <td>0.838</td>\n",
       "      <td>0.844</td>\n",
       "      <td>0.839</td>\n",
       "    </tr>\n",
       "    <tr>\n",
       "      <th>gradientBoost</th>\n",
       "      <td>0.869</td>\n",
       "      <td>0.865</td>\n",
       "      <td>0.869</td>\n",
       "      <td>0.865</td>\n",
       "    </tr>\n",
       "    <tr>\n",
       "      <th>xgBoost (cls)</th>\n",
       "      <td>0.869</td>\n",
       "      <td>0.864</td>\n",
       "      <td>0.869</td>\n",
       "      <td>0.864</td>\n",
       "    </tr>\n",
       "    <tr>\n",
       "      <th>catBoost (cls)</th>\n",
       "      <td>0.867</td>\n",
       "      <td>0.862</td>\n",
       "      <td>0.867</td>\n",
       "      <td>0.863</td>\n",
       "    </tr>\n",
       "    <tr>\n",
       "      <th>lightGBM (cls)</th>\n",
       "      <td>0.869</td>\n",
       "      <td>0.865</td>\n",
       "      <td>0.869</td>\n",
       "      <td>0.865</td>\n",
       "    </tr>\n",
       "    <tr>\n",
       "      <th>XGBoost (hyp)</th>\n",
       "      <td>0.859</td>\n",
       "      <td>0.854</td>\n",
       "      <td>0.859</td>\n",
       "      <td>0.853</td>\n",
       "    </tr>\n",
       "    <tr>\n",
       "      <th>CatBoost (hyp)</th>\n",
       "      <td>0.853</td>\n",
       "      <td>0.849</td>\n",
       "      <td>0.853</td>\n",
       "      <td>0.850</td>\n",
       "    </tr>\n",
       "    <tr>\n",
       "      <th>LightGBM (hyp)</th>\n",
       "      <td>0.843</td>\n",
       "      <td>0.837</td>\n",
       "      <td>0.843</td>\n",
       "      <td>0.839</td>\n",
       "    </tr>\n",
       "  </tbody>\n",
       "</table>\n",
       "</div>"
      ],
      "text/plain": [
       "                    Accuracy  Precision  Recall     F1\n",
       "log-reg (default)      0.847      0.841   0.847  0.842\n",
       "knn (neigh=24)         0.832      0.822   0.832  0.822\n",
       "svm (linear)           0.846      0.839   0.846  0.839\n",
       "tree (depth=5)         0.846      0.840   0.846  0.835\n",
       "forest                 0.853      0.847   0.853  0.848\n",
       "adaBoost (default)     0.863      0.858   0.863  0.858\n",
       "adaBoost (log-reg)     0.844      0.838   0.844  0.839\n",
       "gradientBoost          0.869      0.865   0.869  0.865\n",
       "xgBoost (cls)          0.869      0.864   0.869  0.864\n",
       "catBoost (cls)         0.867      0.862   0.867  0.863\n",
       "lightGBM (cls)         0.869      0.865   0.869  0.865\n",
       "XGBoost (hyp)          0.859      0.854   0.859  0.853\n",
       "CatBoost (hyp)         0.853      0.849   0.853  0.850\n",
       "LightGBM (hyp)         0.843      0.837   0.843  0.839"
      ]
     },
     "execution_count": 51,
     "metadata": {},
     "output_type": "execute_result"
    }
   ],
   "source": [
    "report"
   ]
  },
  {
   "cell_type": "markdown",
   "metadata": {},
   "source": [
    "### Вывод #1: \n",
    "Из классификаторов в стиле \"sklearn\" лучший результат показал **GradientBoostingClassifier** (gradientBoost), но и \n",
    "              **XGBClassifier** (xgBoost) и **LGBMClassifier** (lightGBM) показали сравнимые результаты"
   ]
  },
  {
   "cell_type": "markdown",
   "metadata": {},
   "source": [
    "### Вывод #2: \n",
    "После тюнинга параметров лидерство занял старый добрый **XGBoost**, хотя возможно я поторопился и неправильно их всех приготовил, но эксперимент есть эксперимент :)"
   ]
  }
 ],
 "metadata": {
  "kernelspec": {
   "display_name": "Python 3",
   "language": "python",
   "name": "python3"
  },
  "language_info": {
   "codemirror_mode": {
    "name": "ipython",
    "version": 3
   },
   "file_extension": ".py",
   "mimetype": "text/x-python",
   "name": "python",
   "nbconvert_exporter": "python",
   "pygments_lexer": "ipython3",
   "version": "3.7.6"
  }
 },
 "nbformat": 4,
 "nbformat_minor": 4
}
